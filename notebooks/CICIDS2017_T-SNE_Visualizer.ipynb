{
 "cells": [
  {
   "cell_type": "code",
   "execution_count": null,
   "metadata": {},
   "outputs": [],
   "source": [
    "import sys\n",
    "import os\n",
    "sys.path.insert(0, os.path.abspath('../src/'))"
   ]
  },
  {
   "cell_type": "markdown",
   "metadata": {},
   "source": [
    "### Loading model and computing embeddings"
   ]
  },
  {
   "cell_type": "code",
   "execution_count": 77,
   "metadata": {},
   "outputs": [],
   "source": [
    "TARGET_DSET = \"DT\" # TS\n",
    "TECHNIQUE = \"AE\" # NONE, TL "
   ]
  },
  {
   "cell_type": "code",
   "execution_count": 78,
   "metadata": {},
   "outputs": [
    {
     "name": "stderr",
     "output_type": "stream",
     "text": [
      "/Users/swedishhdcamera/Desktop/Projects/tesi_sabella/venv/lib/python3.8/site-packages/skorch/dataset.py:267: FutureWarning: Setting a random_state has no effect since cv is not a float. This will raise an error in a future. You should leave random_state to its default (None), or set cv to a float value.\n",
      "  warnings.warn(\n"
     ]
    }
   ],
   "source": [
    "import cicids2017\n",
    "import numpy as np\n",
    "from pathlib import Path\n",
    "import pandas as pd\n",
    "from sklearn.manifold import TSNE\n",
    "from umap import UMAP\n",
    "\n",
    "\n",
    "dataset = cicids2017.load_dataset(Path(\"../dataset/cache\"))[TARGET_DSET]  \n",
    "\n",
    "if TECHNIQUE!=\"NONE\":\n",
    "    if TECHNIQUE == \"AE\":\n",
    "        net = cicids2017.configureSeq2Seq(None, checkpoint=Path(\"../res/Seq2Seq.torch\"))\n",
    "    else:\n",
    "        net = cicids2017.configureAnchor(None, checkpoint=\"../res/GruLinearTL.torch\")\n",
    "    netdata = net.pointwise_embedding(dataset)\n",
    "    netdata = pd.concat(netdata)\n",
    "\n",
    "    # Remove truncated embeddings\n",
    "    netdata = netdata.loc[netdata[\"_embedding\"].dropna().index]\n",
    "    tsne_input = np.stack(netdata[\"_embedding\"].values)\n",
    "    netdata[\"_ebs2D\"] = list(TSNE(n_components=2, random_state=cicids2017.SEED).fit_transform(tsne_input))\n",
    "else:\n",
    "    netdata = pd.concat(dataset)\n",
    "    channels = [ c for c in netdata.columns if c[0]!=\"_\" ]\n",
    "    netdata[\"_ebs2D\"] = list(TSNE(n_components=2, random_state=cicids2017.SEED).fit_transform(netdata[channels].values))"
   ]
  },
  {
   "cell_type": "markdown",
   "metadata": {},
   "source": [
    "# Minor changes to dataset"
   ]
  },
  {
   "cell_type": "code",
   "execution_count": 79,
   "metadata": {},
   "outputs": [],
   "source": [
    "netdata[\"_group_anomaly\"] = netdata[\"_isanomaly\"]\n",
    "\n",
    "def rename_anomaly(pattern, newname):\n",
    "    netdata.loc[netdata[\"_group_anomaly\"].str.contains(pattern), \"_group_anomaly\"] = newname\n",
    "    \n",
    "\n",
    "rename_anomaly(\"Web Attack\", \"Web Attack\")\n",
    "rename_anomaly(\"Brute Force\", \"Brute Force\")\n",
    "rename_anomaly(\"DoS\", \"DoS\")\n",
    "rename_anomaly(\"DDoS\", \"DDoS\")\n",
    "rename_anomaly(\"NMap\", \"NMap\")\n",
    "rename_anomaly(\"Port Scan\", \"NMap\")\n",
    "rename_anomaly(\"Infiltration\", \"Portscan + NMap\")\n",
    "\n",
    "netdata = netdata.reset_index()"
   ]
  },
  {
   "cell_type": "markdown",
   "metadata": {},
   "source": [
    "### Computing clustering"
   ]
  },
  {
   "cell_type": "code",
   "execution_count": 84,
   "metadata": {},
   "outputs": [
    {
     "data": {
      "image/png": "[encoded data removed]",
      "text/plain": [
       "<Figure size 432x288 with 1 Axes>"
      ]
     },
     "metadata": {
      "needs_background": "light"
     },
     "output_type": "display_data"
    }
   ],
   "source": [
    "import AnchoredTs2Vec as ts2vec\n",
    "from sklearn.cluster import DBSCAN\n",
    "import matplotlib.pyplot as plt\n",
    "from sklearn.neighbors import NearestNeighbors\n",
    "\n",
    "FORCE_ebs2D = False\n",
    "\n",
    "if TECHNIQUE==\"AE\":\n",
    "    eps = 5.\n",
    "    ms = 5\n",
    "    input_label = \"_ebs2D\"\n",
    "elif TECHNIQUE==\"TL\" and not FORCE_ebs2D:\n",
    "    eps = (ts2vec.BETA_1 + ts2vec.BETA_2) / 2\n",
    "    ms = 80\n",
    "    input_label = \"_embedding\"\n",
    "else:\n",
    "    eps = 5.\n",
    "    ms = 6\n",
    "    input_label = \"_ebs2D\"\n",
    "    \n",
    "cluster_algorithm = DBSCAN(eps=eps, min_samples=ms)\n",
    "clustering_input = netdata[input_label]\n",
    "\n",
    "\n",
    "# Plotting distance curve ----- #\n",
    "X = np.stack(clustering_input.sample(frac=.1))\n",
    "nbrs = NearestNeighbors(n_neighbors=ms, algorithm='ball_tree').fit(X)\n",
    "distances, indices = nbrs.kneighbors(X)\n",
    "third_nn = distances[:, ms-1]\n",
    "plt.axhline(eps, color='red')\n",
    "plt.plot(np.sort(third_nn))\n",
    "\n",
    "\n",
    "# Clustering ----- #\n",
    "cluster_str = str(cluster_algorithm).split('(')[0]\n",
    "clustering_input = np.stack(clustering_input.values)\n",
    "clustering = cluster_algorithm.fit(clustering_input)\n",
    "netdata[\"_clustering\"] = clustering.labels_.astype(str)\n",
    "\n",
    "# Agglomarate small clusters\n",
    "if TECHNIQUE==\"TL\" and not FORCE_ebs2D:\n",
    "    normal_cluster = netdata[\"_clustering\"].mode().iloc[0]\n",
    "    netdata.loc[netdata[\"_clustering\"] != normal_cluster, \"_clustering\"] = \"anomaly\"\n",
    "    netdata.loc[netdata[\"_clustering\"] == normal_cluster, \"_clustering\"] = \"normal traffic\""
   ]
  },
  {
   "cell_type": "markdown",
   "metadata": {},
   "source": [
    "### Display"
   ]
  },
  {
   "cell_type": "code",
   "execution_count": 85,
   "metadata": {},
   "outputs": [],
   "source": [
    "netdata.loc[netdata[\"_host\"] == \"192.168.10.255\", \"_device_category\"] = \"broadcast\""
   ]
  },
  {
   "cell_type": "code",
   "execution_count": 86,
   "metadata": {},
   "outputs": [],
   "source": [
    "import warnings\n",
    "from mpl_toolkits.mplot3d import Axes3D\n",
    "from ipywidgets import Button, Layout\n",
    "from datetime import datetime\n",
    "# warnings.filterwarnings(\"ignore\")\n",
    "from umap import UMAP\n",
    "import pandas as pd\n",
    "import matplotlib.patches as mpatches\n",
    "from pprint import pprint\n",
    "import numpy as np\n",
    "from ipywidgets import HBox, VBox, interactive\n",
    "from collections import defaultdict\n",
    "import matplotlib.pyplot as plt\n",
    "import matplotlib.ticker as ticker\n",
    "import matplotlib.dates as mdates\n",
    "from IPython.display import display, Markdown\n",
    "import ipywidgets as widgets\n",
    "import math\n",
    "from sklearn.manifold import TSNE\n",
    "import torch\n",
    "from ipywidgets import interact, interact_manual\n",
    "from IPython.display import set_matplotlib_formats\n",
    "from importlib import reload\n",
    "from pathlib import Path\n",
    "from tqdm import tqdm\n",
    "from sklearn.cluster import KMeans, DBSCAN"
   ]
  },
  {
   "cell_type": "code",
   "execution_count": 87,
   "metadata": {},
   "outputs": [
    {
     "data": {
      "application/vnd.jupyter.widget-view+json": {
       "model_id": "9415204a63e049a9a0d5966eca632f02",
       "version_major": 2,
       "version_minor": 0
      },
      "text/plain": [
       "VBox(children=(HBox(children=(Dropdown(description='day', options=('ALL', 'Monday', 'Tuesday', 'Wednesday', 'T…"
      ]
     },
     "metadata": {},
     "output_type": "display_data"
    },
    {
     "data": {
      "application/vnd.jupyter.widget-view+json": {
       "model_id": "c187f1520ab84e36b7b43806af68a04a",
       "version_major": 2,
       "version_minor": 0
      },
      "text/plain": [
       "Output()"
      ]
     },
     "metadata": {},
     "output_type": "display_data"
    }
   ],
   "source": [
    "import ipywidgets as widgets\n",
    "from ipywidgets import HBox, VBox, interactive\n",
    "\n",
    "\n",
    "\n",
    "DAY2INT = {\n",
    "    \"Monday\": 0,\n",
    "    \"Tuesday\": 1,\n",
    "    \"Wednesday\": 2,\n",
    "    \"Thursday\": 3,\n",
    "    \"Friday\": 4}\n",
    "INT2DAY = {v: k for k, v in DAY2INT.items()}\n",
    "\n",
    "\n",
    "# ----- ----- COLORMAPS ----- ----- #\n",
    "# ----- ----- --------- ----- ----- #\n",
    "def ncolors(n, seed=421):\n",
    "    # seed = np.random.randint(10000)\n",
    "    np.random.seed(seed)\n",
    "    hexl = list('0123456789ABCDEF')\n",
    "    hexc = np.random.choice(hexl, size=(n, 6))\n",
    "    return ['#' + ''.join(x) for x in hexc]\n",
    "\n",
    "devices = set([(c, h) for (c, h) in zip(netdata[\"_device_category\"], netdata[\"_host\"])])\n",
    "colorsmap = np.concatenate([ np.unique(netdata[\"_group_anomaly\"]),\n",
    "                             np.unique(netdata[\"_isanomaly\"]),\n",
    "                             np.unique(netdata[\"_clustering\"]),\n",
    "                             [ dev[0] for dev in devices],\n",
    "                             [ dev[1] for dev in devices]])  \n",
    "colorsmap = dict(zip(colorsmap, ncolors(len(colorsmap))))\n",
    "# colorsmap[\"192.168.10.50\"] = colorsmap[\"1\"]\n",
    "colorsmap[\"server\"] = \"#2d53ac\"\n",
    "colorsmap[\"broadcast\"] = \"#b4a9b0\"\n",
    "colorsmap[\"unknown device class\"] = \"#7e7629\"\n",
    "colorsmap[\"pc\"] = \"#e2c484\"\n",
    "\n",
    "colorsmap[\"192.168.10.50\"] = \"#2d53ac\"\n",
    "colorsmap[\"Brute Force\"] = \"#b4a9b0\"\n",
    "colorsmap[\"DoS\"] = \"#7e7629\"\n",
    "colorsmap[\"NMap\"] = \"#e2c484\"\n",
    "colorsmap[\"Web Attack\"] = \"#c499cb\"\n",
    "colorsmap[\"Portscan + NMap\"] = \"#00ca40\"\n",
    "\n",
    "\n",
    "# ----- ----- WIDGETS ----- ----- #\n",
    "# ----- ----- ------- ----- ----- #\n",
    "devices_str = [f\"{h} ({c})\" for c, h in devices]\n",
    "devices_str.sort()                               \n",
    "device_w_list = widgets.Dropdown(options=[\"ALL\"] + devices_str)\n",
    "\n",
    "weekdays = np.unique(netdata[\"_time\"].dt.dayofweek)\n",
    "available_days = list(map(lambda x: INT2DAY[x], weekdays))\n",
    "days_w_list = widgets.Dropdown(options=[\"ALL\"]+available_days)\n",
    "\n",
    "available_attacks = list(np.unique(netdata[\"_isanomaly\"]))\n",
    "show_attacks_dropdown = widgets.Dropdown(options=[\"ALL\"]+available_attacks)\n",
    "\n",
    "clusters = list(np.unique(netdata[\"_clustering\"]))\n",
    "show_cluster_dropdown = widgets.Dropdown(options=[\"NONE\"]+clusters)\n",
    "                               \n",
    "hide_attacks_checkbox = widgets.Checkbox(value=False, description=\"Hide all attacks\")\n",
    "show_category_checkbox = widgets.Checkbox(value=False, description=\"Show category\")\n",
    "group_anomaly_checkbox = widgets.Checkbox(value=False, description=\"Group anomalies\")\n",
    "clustering_descr = f\"Show clustering ({cluster_str})\"\n",
    "show_clustering_checkbox = widgets.Checkbox(value=False, description=clustering_descr)\n",
    "\n",
    "ts0_selector = HBox([days_w_list, group_anomaly_checkbox])\n",
    "ts1_selector = HBox([device_w_list, show_category_checkbox])\n",
    "ts2_selector = HBox([show_attacks_dropdown, hide_attacks_checkbox])\n",
    "ts3_selector = HBox([show_cluster_dropdown, show_clustering_checkbox])\n",
    "wlist = VBox([ts0_selector, ts1_selector, ts2_selector, ts3_selector])\n",
    "\n",
    "\n",
    "# ----- ----- INTERACTOR ----- ----- #\n",
    "# ----- ----- ---------- ----- ----- #\n",
    "def labeled_scatter(mask, labelname):\n",
    "    data = netdata[mask]\n",
    "    if len(data) == 0:\n",
    "        return\n",
    "    ebs2D = np.stack(data[\"_ebs2D\"])\n",
    "    x1 = ebs2D[:, 0]\n",
    "    x2 = ebs2D[:, 1]\n",
    "    \n",
    "    labels = data[labelname]\n",
    "    colors = map(lambda x: colorsmap[x], labels)\n",
    "    colors = np.array(list(colors))\n",
    "    #print(np.unique(labels))\n",
    "    ax = plt.gca()\n",
    "    for l in np.unique(labels):\n",
    "        l_idxs = np.where(labels==l)[0]\n",
    "        ax.scatter(x1[l_idxs], x2[l_idxs], color=colors[l_idxs], label=l)\n",
    "\n",
    "\n",
    "def split_device_str(s):\n",
    "    split = s.split(\" \")\n",
    "    host = split[0].strip()\n",
    "    category = \" \".join(split[1:]).replace(\"(\", \"\").replace(\")\", \"\").strip()\n",
    "    return host, category\n",
    "\n",
    "\n",
    "def whandler(day, device, show_category, attack, hide_attacks, cluster_focus, show_clusters, attack_label):\n",
    "    if show_category:\n",
    "        show_label = \"_device_category\"\n",
    "    elif show_clusters:\n",
    "        show_label = \"_clustering\"\n",
    "    else:\n",
    "        show_label = \"_host\"\n",
    "    \n",
    "    data_len = len(netdata)\n",
    "    mask = np.full(data_len, True)\n",
    "    \n",
    "    if day != \"ALL\":\n",
    "        weekday = netdata[\"_time\"].dt.dayofweek\n",
    "        mask &= (weekday == DAY2INT[day])\n",
    "    \n",
    "    if device != \"ALL\":\n",
    "        host, _ = split_device_str(device)\n",
    "        mask &= (netdata[\"_host\"] == host)\n",
    "    \n",
    "    if cluster_focus != \"NONE\":\n",
    "        mask &= (netdata[\"_clustering\"] == cluster_focus)\n",
    "    \n",
    "    # Plotting all but attacks traffic\n",
    "    clean_mask = mask & (netdata[\"_isanomaly\"] == \"none\")\n",
    "    labeled_scatter(clean_mask, show_label)\n",
    "    \n",
    "    # Plottin attacks\n",
    "    if not hide_attacks:\n",
    "        if attack == \"ALL\":\n",
    "            attack_mask = mask & (netdata[\"_isanomaly\"] != \"none\")\n",
    "        else:\n",
    "            attack_mask = mask & (netdata[\"_isanomaly\"] == attack)\n",
    "        \n",
    "        if show_clusters:\n",
    "            show_label = \"_clustering\"\n",
    "        elif attack_label:\n",
    "            show_label = \"_group_anomaly\"\n",
    "        else:\n",
    "            show_label = \"_isanomaly\"\n",
    "        \n",
    "        attack_mask = attack_mask#& (netdata[\"_clustering\"] != \"-1\")\n",
    "        \n",
    "        labeled_scatter(attack_mask, show_label)\n",
    "\n",
    "    # Fixing repeating labels\n",
    "    handles, labels = plt.gca().get_legend_handles_labels()\n",
    "    by_label = dict(zip(labels, handles))\n",
    "    plt.legend(by_label.values(), by_label.keys()) #, bbox_to_anchor=(1, 0.5))\n",
    "    plt.gcf().set_size_inches(10, 10)\n",
    "    plt.savefig(\"RenameMe.png\")\n",
    "    plt.show()\n",
    "    \n",
    "%matplotlib inline\n",
    "output = widgets.interactive(whandler,\n",
    "                             day=days_w_list,\n",
    "                             device=device_w_list, \n",
    "                             show_category=show_category_checkbox, \n",
    "                             attack=show_attacks_dropdown, \n",
    "                             hide_attacks=hide_attacks_checkbox,\n",
    "                             cluster_focus=show_cluster_dropdown, \n",
    "                             show_clusters=show_clustering_checkbox,\n",
    "                             attack_label=group_anomaly_checkbox).children[-1]\n",
    "display(wlist)\n",
    "display(output)"
   ]
  },
  {
   "cell_type": "markdown",
   "metadata": {},
   "source": [
    "### Anomaly detection"
   ]
  },
  {
   "cell_type": "code",
   "execution_count": 88,
   "metadata": {},
   "outputs": [
    {
     "name": "stdout",
     "output_type": "stream",
     "text": [
      "roc_auc_score(moday+attacks): 0.8685835886789565\n",
      "precision_score(moday+attacks): 0.7205700123915737\n",
      "recall_score(moday+attacks): 0.7922343324250681\n",
      "accuracy_score(moday+attacks): 0.9217229240008283\n",
      "f1_score(moday+attacks): 0.754704737183647\n",
      "\n",
      " Confusion matrix\n",
      "\ttp: 0.1204183060675088 \tfp: 0.04669703872437358 \n",
      "\tfn: 0.03158003727479809 \ttn: 0.8013046179333195\n"
     ]
    }
   ],
   "source": [
    "normal_cluster = netdata[\"_clustering\"].mode().iloc[0]\n",
    "netdata[\"_yhat\"] = (netdata[\"_clustering\"] == normal_cluster)\n",
    "Y = netdata[\"_isanomaly\"]\n",
    "Y = (Y==\"none\").replace({True: 0, False: 1}).values\n",
    "y_hat = netdata[\"_yhat\"].replace({True: 0, False: 1}).values\n",
    "\n",
    "from sklearn import metrics\n",
    "\n",
    "metrics_rep = [ metrics.roc_auc_score,\n",
    "                metrics.precision_score, metrics.recall_score,\n",
    "                metrics.accuracy_score, metrics.f1_score]\n",
    "for m in metrics_rep:\n",
    "    mres = m(Y, y_hat)\n",
    "    print(f\"{m.__name__}(moday+attacks): {mres}\")\n",
    "\n",
    "tn, fp, fn, tp = metrics.confusion_matrix(Y, y_hat, normalize=\"all\").ravel()\n",
    "print(\"\\n Confusion matrix\")\n",
    "print(f\"\\ttp: {tp} \\tfp: {fp} \\n\\tfn: {fn} \\ttn: {tn}\")"
   ]
  },
  {
   "cell_type": "code",
   "execution_count": null,
   "metadata": {},
   "outputs": [],
   "source": []
  }
 ],
 "metadata": {
  "kernelspec": {
   "display_name": "Python 3",
   "language": "python",
   "name": "python3"
  },
  "language_info": {
   "codemirror_mode": {
    "name": "ipython",
    "version": 3
   },
   "file_extension": ".py",
   "mimetype": "text/x-python",
   "name": "python",
   "nbconvert_exporter": "python",
   "pygments_lexer": "ipython3",
   "version": "3.8.6"
  }
 },
 "nbformat": 4,
 "nbformat_minor": 4
}
