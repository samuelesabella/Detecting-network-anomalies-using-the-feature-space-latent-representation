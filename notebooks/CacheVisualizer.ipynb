{
 "cells": [
  {
   "cell_type": "code",
   "execution_count": 1,
   "metadata": {},
   "outputs": [
    {
     "name": "stderr",
     "output_type": "stream",
     "text": [
      "/Users/swedishhdcamera/Desktop/Projects/tesi_sabella/venv/lib/python3.7/site-packages/umap/spectral.py:4: NumbaDeprecationWarning: \u001b[1mNo direct replacement for 'numba.targets' available. Visit https://gitter.im/numba/numba-dev to request help. Thanks!\u001b[0m\n",
      "  import numba.targets\n",
      "/Users/swedishhdcamera/Desktop/Projects/tesi_sabella/venv/lib/python3.7/site-packages/sklearn/utils/deprecation.py:144: FutureWarning: The sklearn.metrics.scorer module is  deprecated in version 0.22 and will be removed in version 0.24. The corresponding classes / functions should instead be imported from sklearn.metrics. Anything that cannot be imported from sklearn.metrics is now part of the private API.\n",
      "  warnings.warn(message, FutureWarning)\n"
     ]
    }
   ],
   "source": [
    "import warnings\n",
    "from ipywidgets import Button, Layout\n",
    "from datetime import datetime\n",
    "# warnings.filterwarnings(\"ignore\")\n",
    "from umap import UMAP\n",
    "import pandas as pd\n",
    "import matplotlib.patches as mpatches\n",
    "from pprint import pprint\n",
    "import numpy as np\n",
    "from ipywidgets import HBox, VBox, interactive\n",
    "from collections import defaultdict\n",
    "import matplotlib.pyplot as plt\n",
    "import matplotlib.ticker as ticker\n",
    "import matplotlib.dates as mdates\n",
    "from IPython.display import display, Markdown\n",
    "import ipywidgets as widgets\n",
    "import math\n",
    "from sklearn.manifold import TSNE\n",
    "import torch\n",
    "from ipywidgets import interact, interact_manual\n",
    "from IPython.display import set_matplotlib_formats\n",
    "from importlib import reload\n",
    "from pathlib import Path\n",
    "from tqdm import tqdm\n",
    "\n",
    "import sys\n",
    "import os\n",
    "sys.path.insert(0, os.path.abspath('../src/'))\n",
    "\n",
    "import model_codebase as cb\n",
    "import cicids2017 as cicids2017\n",
    "import data_generator as generator\n",
    "\n",
    "reload(cicids2017)\n",
    "reload(generator)\n",
    "\n",
    "pd.set_option('display.max_rows', 500)\n",
    "pd.set_option('float_format', '{:.4f}'.format)\n",
    "\n",
    "MODELPATH = Path(\"../res/monday_train/ts2vec.torch\")\n",
    "DATASETPATH_CACHE = Path(\"../res/monday_train/cache\")\n",
    "DATASETPATH = Path(\"../dataset/CICIDS2017_ntop.pkl\")"
   ]
  },
  {
   "cell_type": "code",
   "execution_count": 2,
   "metadata": {},
   "outputs": [],
   "source": [
    "mMIN = 50\n",
    "M = 254 - mMIN\n",
    "MAX_ENC = M + math.pow(M, 2) + math.pow(M, 3)\n",
    "\n",
    "def encdec(rgb=None, i=None):\n",
    "    \"\"\"\n",
    "    References:\n",
    "        https://coderwall.com/p/fzni3g/bidirectional-translation-between-1d-and-3d-arrays\n",
    "    \"\"\"\n",
    "    if rgb is not None:\n",
    "        i = rgb[0] + rgb[1] * M + rgb[2] * math.pow(M, 2)\n",
    "        return math.floor(i)\n",
    "    x = math.floor(i % M)\n",
    "    y = math.floor((i / M) % M)\n",
    "    z = math.floor(i / ( math.pow(M, 2) ))\n",
    "    return (x+mMIN, y+mMIN, z+mMIN)\n",
    "           \n",
    "# def ncolors(n, givehex=False):\n",
    "#    cols = np.linspace(0, MAX_ENC, n)\n",
    "#    cols = map(lambda x: encdec(i=x), cols)\n",
    "#    \n",
    "#    if givehex:\n",
    "#        cols = map(lambda x: rgbtohex(*x), cols)\n",
    "#    return list(cols)\n",
    "\n",
    "def ncolors(n):\n",
    "    hexl = list('0123456789ABCDEF')\n",
    "    hexc = np.random.choice(hexl, size=(n, 6))\n",
    "    return ['#' + ''.join(x) for x in hexc]\n",
    "    \n",
    "def rgbtohex(r, g, b):\n",
    "    hexcol = \"#{:02x}{:02x}{:02x}\".format(r,g,b)\n",
    "    return hexcol.upper()"
   ]
  },
  {
   "cell_type": "markdown",
   "metadata": {},
   "source": [
    "### Loading model and data"
   ]
  },
  {
   "cell_type": "code",
   "execution_count": 3,
   "metadata": {},
   "outputs": [],
   "source": [
    "ts2vec = cb.STC().eval()\n",
    "ts2vec.load_state_dict(torch.load(str(MODELPATH), map_location=torch.device('cpu')))\n",
    "\n",
    "dset, _, _ = cicids2017.load_dataset(DATASETPATH_CACHE)\n",
    "X = torch.Tensor(dset[\"context\"])\n",
    "actv = X[:, :cb.ACTIVITY_LEN]\n",
    "\n",
    "with torch.no_grad():    \n",
    "    dset[\"embedding\"] = ts2vec.toembedding(actv).numpy()"
   ]
  },
  {
   "cell_type": "code",
   "execution_count": 4,
   "metadata": {},
   "outputs": [],
   "source": [
    "# dset[\"UMAP\"] = UMAP().fit_transform(dset[\"embedding\"])\n",
    "dset[\"UMAP\"] = TSNE(n_components=2).fit_transform(dset[\"embedding\"])\n",
    "\n",
    "timestamp2weekday = lambda x: datetime.fromtimestamp(x).weekday()\n",
    "dset_day = list(map(timestamp2weekday, dset[\"start_time\"]))\n",
    "dset[\"weekday\"] = np.array(dset_day)\n",
    "\n",
    "# Broadcast address fix :-)\n",
    "dset[\"device_category\"][np.where(dset[\"host\"]==\"192.168.10.255\")] = \"broadcast\""
   ]
  },
  {
   "cell_type": "markdown",
   "metadata": {},
   "source": [
    "### Widget creation"
   ]
  },
  {
   "cell_type": "code",
   "execution_count": 5,
   "metadata": {},
   "outputs": [],
   "source": [
    "%matplotlib inline\n",
    "set_matplotlib_formats('svg')\n",
    "\n",
    "DAY2INT = {\n",
    "    \"Monday\": 0,\n",
    "    \"Tuesday\": 1,\n",
    "    \"Wednesday\": 2,\n",
    "    \"Thursday\": 3,\n",
    "    \"Friday\": 4}\n",
    "INT2DAY = {v: k for k, v in DAY2INT.items()}\n",
    "\n",
    "devices = set([(c, h) for (c, h) in zip(dset[\"device_category\"], dset[\"host\"])])\n",
    "devices_str = [f\"{h} ({c})\" for c, h in devices]\n",
    "devices_str.sort()\n",
    "\n",
    "\n",
    "# ----- ----- COLORMAPS ----- ----- #\n",
    "# ----- ----- ------- ----- ----- #\n",
    "hosts = [dev[1] for dev in devices]\n",
    "host_cmap = dict(zip(hosts, ncolors(len(hosts))))\n",
    "\n",
    "cats = [dev[0] for dev in devices]\n",
    "cats_cmap = dict(zip(cats, ncolors(len(cats))))\n",
    "\n",
    "attacks = np.unique(dset[\"attack\"])\n",
    "attack_cmap = dict(zip(attacks, ncolors(len(attacks))))\n",
    "\n",
    "\n",
    "# ----- ----- WIDGETS ----- ----- #\n",
    "# ----- ----- ------- ----- ----- #\n",
    "device_w_list = widgets.Dropdown(options=devices_str,\n",
    "                                 value=\"192.168.10.50 (server)\")\n",
    "\n",
    "available_days = list(map(lambda x: INT2DAY[x], np.unique(dset[\"weekday\"])))\n",
    "days_w_list = widgets.Dropdown(options=available_days)\n",
    "\n",
    "netmap_checkbox = widgets.Checkbox(value=False, description='Show all network')\n",
    "show_ip_checkbox = widgets.Checkbox(value=False, description='Show specific IP')\n",
    "ts1_selector = HBox([device_w_list, netmap_checkbox])\n",
    "ts2_selector = HBox([days_w_list, show_ip_checkbox])\n",
    "wlist = VBox([ts1_selector, ts2_selector])\n",
    "\n",
    "\n",
    "# ----- ----- INTERACTOR ----- ----- #\n",
    "# ----- ----- ---------- ----- ----- #\n",
    "def whandler(device, day, netmap, show_ip):\n",
    "    idx_mask = (dset[\"weekday\"] == DAY2INT[day])\n",
    "    \n",
    "    host_only = not netmap\n",
    "    if host_only:\n",
    "        # Extracting host/category\n",
    "        split = device.split(\" \")\n",
    "        host = split[0].strip()\n",
    "        category = \" \".join(split[1:]).replace(\"(\", \"\").replace(\")\", \"\").strip()\n",
    "        # Masking\n",
    "        host_mask = (dset[\"host\"]==host)\n",
    "        idx_mask = idx_mask & host_mask      \n",
    "    x1 = dset[\"UMAP\"][:, 0]\n",
    "    x2 = dset[\"UMAP\"][:, 1]\n",
    "    \n",
    "    if not netmap:\n",
    "        focus_label, cmap = (\"attack\", attack_cmap)\n",
    "    elif netmap:\n",
    "        if show_ip:\n",
    "            focus_label, cmap = (\"host\", host_cmap) \n",
    "        else:\n",
    "            focus_label, cmap = (\"device_category\", cats_cmap) \n",
    "    colors = np.array(list(map(lambda x: cmap[x], dset[focus_label])))\n",
    "    labels = dset[focus_label]\n",
    "    \n",
    "    # Plotting ..... #\n",
    "    ax = plt.gca()\n",
    "    for l in np.unique(labels):\n",
    "        l_idxs = np.where(labels==l)[0]\n",
    "        ax.scatter(x1[l_idxs], x2[l_idxs], color=colors[l_idxs], label=l)\n",
    "    plt.legend(loc=(1.04,0))\n",
    "    plt.gcf().set_size_inches(7, 7)\n",
    "    plt.show()\n"
   ]
  },
  {
   "cell_type": "code",
   "execution_count": 6,
   "metadata": {},
   "outputs": [
    {
     "data": {
      "application/vnd.jupyter.widget-view+json": {
       "model_id": "7a0c1893f1f8451486958d84651ac3d2",
       "version_major": 2,
       "version_minor": 0
      },
      "text/plain": [
       "VBox(children=(HBox(children=(Dropdown(description='device', index=11, options=('192.168.10.1 (unknown device …"
      ]
     },
     "metadata": {},
     "output_type": "display_data"
    },
    {
     "data": {
      "application/vnd.jupyter.widget-view+json": {
       "model_id": "b6193e744bcb4e1781e8942ef1420fe8",
       "version_major": 2,
       "version_minor": 0
      },
      "text/plain": [
       "Output()"
      ]
     },
     "metadata": {},
     "output_type": "display_data"
    }
   ],
   "source": [
    "output = widgets.interactive(whandler,\n",
    "                             device=device_w_list, day=days_w_list, \n",
    "                             netmap=netmap_checkbox, show_ip=show_ip_checkbox).children[-1]\n",
    "display(wlist)\n",
    "display(output)"
   ]
  },
  {
   "cell_type": "code",
   "execution_count": null,
   "metadata": {},
   "outputs": [],
   "source": []
  }
 ],
 "metadata": {
  "kernelspec": {
   "display_name": "Python 3",
   "language": "python",
   "name": "python3"
  },
  "language_info": {
   "codemirror_mode": {
    "name": "ipython",
    "version": 3
   },
   "file_extension": ".py",
   "mimetype": "text/x-python",
   "name": "python",
   "nbconvert_exporter": "python",
   "pygments_lexer": "ipython3",
   "version": "3.7.5"
  }
 },
 "nbformat": 4,
 "nbformat_minor": 4
}
