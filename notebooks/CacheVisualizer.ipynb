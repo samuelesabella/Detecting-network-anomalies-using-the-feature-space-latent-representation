{
 "cells": [
  {
   "cell_type": "code",
   "execution_count": 69,
   "metadata": {},
   "outputs": [],
   "source": [
    "import warnings\n",
    "from mpl_toolkits.mplot3d import Axes3D\n",
    "from ipywidgets import Button, Layout\n",
    "from datetime import datetime\n",
    "# warnings.filterwarnings(\"ignore\")\n",
    "from umap import UMAP\n",
    "import pandas as pd\n",
    "import matplotlib.patches as mpatches\n",
    "from pprint import pprint\n",
    "import numpy as np\n",
    "from ipywidgets import HBox, VBox, interactive\n",
    "from collections import defaultdict\n",
    "import matplotlib.pyplot as plt\n",
    "import matplotlib.ticker as ticker\n",
    "import matplotlib.dates as mdates\n",
    "from IPython.display import display, Markdown\n",
    "import ipywidgets as widgets\n",
    "import math\n",
    "from sklearn.manifold import TSNE\n",
    "import torch\n",
    "from ipywidgets import interact, interact_manual\n",
    "from IPython.display import set_matplotlib_formats\n",
    "from importlib import reload\n",
    "from pathlib import Path\n",
    "from tqdm import tqdm\n",
    "\n",
    "import sys\n",
    "import os\n",
    "sys.path.insert(0, os.path.abspath('../src/'))\n",
    "\n",
    "import model_codebase as cb\n",
    "import cicids2017 as cicids2017\n",
    "import data_generator as generator\n",
    "\n",
    "reload(cicids2017)\n",
    "reload(generator)\n",
    "\n",
    "pd.set_option('display.max_rows', 500)\n",
    "pd.set_option('float_format', '{:.4f}'.format)\n",
    "\n",
    "RES_PATH = \"\"\n",
    "MODELPATH = Path(f\"../res/{RES_PATH}/ts2vec.torch\")\n",
    "DATASETPATH_CACHE = Path(f\"../res/{RES_PATH}/cache\")\n",
    "DATASETPATH = Path(\"../dataset/CICIDS2017_ntop.pkl\")"
   ]
  },
  {
   "cell_type": "code",
   "execution_count": 70,
   "metadata": {},
   "outputs": [],
   "source": [
    "mMIN = 50\n",
    "M = 254 - mMIN\n",
    "MAX_ENC = M + math.pow(M, 2) + math.pow(M, 3)\n",
    "\n",
    "def encdec(rgb=None, i=None):\n",
    "    \"\"\"\n",
    "    References:\n",
    "        https://coderwall.com/p/fzni3g/bidirectional-translation-between-1d-and-3d-arrays\n",
    "    \"\"\"\n",
    "    if rgb is not None:\n",
    "        i = rgb[0] + rgb[1] * M + rgb[2] * math.pow(M, 2)\n",
    "        return math.floor(i)\n",
    "    x = math.floor(i % M)\n",
    "    y = math.floor((i / M) % M)\n",
    "    z = math.floor(i / ( math.pow(M, 2) ))\n",
    "    return (x+mMIN, y+mMIN, z+mMIN)\n",
    "           \n",
    "# def ncolors(n, givehex=False):\n",
    "#    cols = np.linspace(0, MAX_ENC, n)\n",
    "#    cols = map(lambda x: encdec(i=x), cols)\n",
    "#    \n",
    "#    if givehex:\n",
    "#        cols = map(lambda x: rgbtohex(*x), cols)\n",
    "#    return list(cols)\n",
    "\n",
    "def ncolors(n):\n",
    "    hexl = list('0123456789ABCDEF')\n",
    "    hexc = np.random.choice(hexl, size=(n, 6))\n",
    "    return ['#' + ''.join(x) for x in hexc]\n",
    "    \n",
    "def rgbtohex(r, g, b):\n",
    "    hexcol = \"#{:02x}{:02x}{:02x}\".format(r,g,b)\n",
    "    return hexcol.upper()"
   ]
  },
  {
   "cell_type": "markdown",
   "metadata": {},
   "source": [
    "### Loading model and data"
   ]
  },
  {
   "cell_type": "code",
   "execution_count": 85,
   "metadata": {},
   "outputs": [],
   "source": [
    "ts2vec = cb.STC().eval()\n",
    "ts2vec.load_state_dict(torch.load(str(MODELPATH), map_location=torch.device('cpu')))\n",
    "\n",
    "_, dset, _ = cicids2017.load_dataset(DATASETPATH_CACHE)\n",
    "X = torch.Tensor(dset[\"context\"])\n",
    "actv = X[:, :cb.ACTIVITY_LEN]\n",
    "\n",
    "with torch.no_grad():    \n",
    "    dset[\"embedding\"] = ts2vec.toembedding(actv).numpy()\n",
    "    \n",
    "# dset[\"UMAP\"] = UMAP().fit_transform(dset[\"embedding\"])\n",
    "dset[\"UMAP\"] = TSNE(n_components=2).fit_transform(dset[\"embedding\"])"
   ]
  },
  {
   "cell_type": "code",
   "execution_count": 86,
   "metadata": {},
   "outputs": [],
   "source": [
    "timestamp2weekday = lambda x: datetime.fromtimestamp(x).weekday()\n",
    "dset_day = list(map(timestamp2weekday, dset[\"start_time\"]))\n",
    "dset[\"weekday\"] = np.array(dset_day)\n",
    "\n",
    "# Broadcast address fix :-)\n",
    "dset[\"device_category\"][np.where(dset[\"host\"]==\"192.168.10.255\")] = \"broadcast\"\n",
    "# Attack name fix :_)\n",
    "# attack_str = map(lambda x: \"normal\" if x==1 else \"anomaly\", dset[\"attack\"].squeeze())\n",
    "# dset[\"isanomaly\"] = np.array(list(attack_str))"
   ]
  },
  {
   "cell_type": "markdown",
   "metadata": {},
   "source": [
    "### What about K-Means?"
   ]
  },
  {
   "cell_type": "code",
   "execution_count": 87,
   "metadata": {},
   "outputs": [],
   "source": [
    "from sklearn.cluster import KMeans\n",
    "\n",
    "kmeans = KMeans(n_clusters=4, random_state=0).fit(dset[\"embedding\"])\n",
    "dset[\"kmeans\"] = kmeans.labels_"
   ]
  },
  {
   "cell_type": "markdown",
   "metadata": {},
   "source": [
    "### Widget creation"
   ]
  },
  {
   "cell_type": "code",
   "execution_count": 90,
   "metadata": {},
   "outputs": [],
   "source": [
    "%matplotlib inline\n",
    "set_matplotlib_formats('svg')\n",
    "\n",
    "DAY2INT = {\n",
    "    \"Monday\": 0,\n",
    "    \"Tuesday\": 1,\n",
    "    \"Wednesday\": 2,\n",
    "    \"Thursday\": 3,\n",
    "    \"Friday\": 4}\n",
    "INT2DAY = {v: k for k, v in DAY2INT.items()}\n",
    "\n",
    "devices = set([(c, h) for (c, h) in zip(dset[\"device_category\"], dset[\"host\"])])\n",
    "devices_str = [f\"{h} ({c})\" for c, h in devices]\n",
    "devices_str.sort()\n",
    "\n",
    "\n",
    "# ----- ----- COLORMAPS ----- ----- #\n",
    "# ----- ----- ------- ----- ----- #\n",
    "everythingAcolor = np.concatenate([\n",
    "                        np.unique(dset[\"attack_type\"]),\n",
    "                        [dev[0] for dev in devices],\n",
    "                        [dev[1] for dev in devices]])  \n",
    "everythingAcolor = dict(zip(everythingAcolor, ncolors(len(everythingAcolor))))\n",
    "\n",
    "\n",
    "# ----- ----- WIDGETS ----- ----- #\n",
    "# ----- ----- ------- ----- ----- #\n",
    "device_w_list = widgets.Dropdown(options=devices_str,\n",
    "                                 value=\"192.168.10.50 (server)\")\n",
    "\n",
    "available_days = list(map(lambda x: INT2DAY[x], np.unique(dset[\"weekday\"])))\n",
    "days_w_list = widgets.Dropdown(options=available_days)\n",
    "\n",
    "netmap_checkbox = widgets.Checkbox(value=False, description='Show all network')\n",
    "all_week = widgets.Checkbox(value=False, description='Show all week traffic')\n",
    "show_category_checkbox = widgets.Checkbox(value=False, description='Show category')\n",
    "all_week_checkbox = widgets.Checkbox(value=False, description='Show all week traffic data')\n",
    "show_attacks_checkbox = widgets.Checkbox(value=False, description='Show attacks')\n",
    "ts1_selector = HBox([device_w_list, days_w_list])\n",
    "ts2_selector = HBox([netmap_checkbox, show_category_checkbox])\n",
    "ts3_selector = HBox([all_week_checkbox, show_attacks_checkbox])\n",
    "wlist = VBox([ts1_selector, ts2_selector, ts3_selector])\n",
    "\n",
    "\n",
    "# ----- ----- INTERACTOR ----- ----- #\n",
    "# ----- ----- ---------- ----- ----- #\n",
    "def plotme(x1, x2, colors, labels):\n",
    "    ax = plt.gca()\n",
    "    for l in np.unique(labels):\n",
    "        l_idxs = np.where(labels==l)[0]\n",
    "        ax.scatter(x1[l_idxs], x2[l_idxs], color=colors[l_idxs], label=l)\n",
    "\n",
    "def whandler(device, day, netmap, show_category, all_week, show_attacks):\n",
    "    if all_week:\n",
    "        idx_mask = np.full(len(dset[\"weekday\"]), True)\n",
    "    else:\n",
    "        idx_mask = (dset[\"weekday\"] == DAY2INT[day])\n",
    "    \n",
    "    host_only = not netmap\n",
    "    if host_only:\n",
    "        # Extracting host/category\n",
    "        split = device.split(\" \")\n",
    "        host = split[0].strip()\n",
    "        category = \" \".join(split[1:]).replace(\"(\", \"\").replace(\")\", \"\").strip()\n",
    "        # Masking\n",
    "        host_mask = (dset[\"host\"]==host)\n",
    "        idx_mask = idx_mask & host_mask\n",
    "    masked_dset = { k: v[idx_mask] for k, v in dset.items() }\n",
    "    \n",
    "    x1 = masked_dset[\"UMAP\"][:, 0]\n",
    "    x2 = masked_dset[\"UMAP\"][:, 1]\n",
    "\n",
    "    focus_label = \"device_category\" if netmap and show_category else \"host\"\n",
    "    colors = np.array(list(map(lambda x: everythingAcolor[x], masked_dset[focus_label].squeeze())))\n",
    "    labels = masked_dset[focus_label]\n",
    "    plotme(x1, x2, colors, labels)\n",
    "    \n",
    "    # Plotting attacks..... #\n",
    "    if show_attacks: \n",
    "        attack_mask = masked_dset[\"attack_type\"] != \"none\"\n",
    "        attack_masked_dset = masked_dset[\"attack_type\"][attack_mask].squeeze()    \n",
    "        colors = np.array(list(map(lambda x: everythingAcolor[x], attack_masked_dset)))\n",
    "        labels = masked_dset[\"attack_type\"][attack_mask]\n",
    "        plotme(x1, x2, colors, labels)\n",
    "\n",
    "    plt.legend(loc=(1.04,0))\n",
    "    plt.gcf().set_size_inches(7, 7)\n",
    "    plt.show()\n"
   ]
  },
  {
   "cell_type": "code",
   "execution_count": 91,
   "metadata": {},
   "outputs": [
    {
     "data": {
      "application/vnd.jupyter.widget-view+json": {
       "model_id": "2f8d862eaa994f5bba2ae38d1f9ec2a1",
       "version_major": 2,
       "version_minor": 0
      },
      "text/plain": [
       "VBox(children=(HBox(children=(Dropdown(description='device', index=11, options=('192.168.10.1 (unknown device …"
      ]
     },
     "metadata": {},
     "output_type": "display_data"
    },
    {
     "data": {
      "application/vnd.jupyter.widget-view+json": {
       "model_id": "ee3190116263446cb980d095409e0b5c",
       "version_major": 2,
       "version_minor": 0
      },
      "text/plain": [
       "Output()"
      ]
     },
     "metadata": {},
     "output_type": "display_data"
    }
   ],
   "source": [
    "output = widgets.interactive(whandler,\n",
    "                             all_week=all_week_checkbox,\n",
    "                             device=device_w_list, day=days_w_list, \n",
    "                             netmap=netmap_checkbox, \n",
    "                             show_category=show_category_checkbox,\n",
    "                             show_attacks=show_attacks_checkbox).children[-1]\n",
    "display(wlist)\n",
    "display(output)"
   ]
  },
  {
   "cell_type": "code",
   "execution_count": null,
   "metadata": {},
   "outputs": [],
   "source": []
  },
  {
   "cell_type": "code",
   "execution_count": null,
   "metadata": {},
   "outputs": [],
   "source": []
  }
 ],
 "metadata": {
  "kernelspec": {
   "display_name": "Python 3",
   "language": "python",
   "name": "python3"
  },
  "language_info": {
   "codemirror_mode": {
    "name": "ipython",
    "version": 3
   },
   "file_extension": ".py",
   "mimetype": "text/x-python",
   "name": "python",
   "nbconvert_exporter": "python",
   "pygments_lexer": "ipython3",
   "version": "3.7.5"
  }
 },
 "nbformat": 4,
 "nbformat_minor": 4
}
