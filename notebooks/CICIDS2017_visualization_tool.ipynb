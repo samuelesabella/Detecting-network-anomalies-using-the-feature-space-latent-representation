{
 "cells": [
  {
   "cell_type": "code",
   "execution_count": 18,
   "metadata": {},
   "outputs": [],
   "source": [
    "import warnings\n",
    "from ipywidgets import Button, Layout\n",
    "# warnings.filterwarnings(\"ignore\")\n",
    "import pandas as pd\n",
    "import matplotlib.patches as mpatches\n",
    "from pprint import pprint\n",
    "import numpy as np\n",
    "from ipywidgets import HBox, VBox, interactive\n",
    "from collections import defaultdict\n",
    "import matplotlib.pyplot as plt\n",
    "import matplotlib.ticker as ticker\n",
    "import matplotlib.dates as mdates\n",
    "from IPython.display import display, Markdown\n",
    "import ipywidgets as widgets\n",
    "import math\n",
    "import torch\n",
    "from ipywidgets import interact, interact_manual\n",
    "from IPython.display import set_matplotlib_formats\n",
    "from importlib import reload\n",
    "from pathlib import Path\n",
    "from tqdm import tqdm\n",
    "\n",
    "import sys\n",
    "import os\n",
    "sys.path.insert(0, os.path.abspath('../src/'))\n",
    "\n",
    "import model_codebase as cb\n",
    "import cicids2017 as cicids2017\n",
    "import data_generator as generator\n",
    "\n",
    "reload(cicids2017)\n",
    "reload(generator)\n",
    "\n",
    "pd.set_option('display.max_rows', 500)\n",
    "pd.set_option('float_format', '{:.4f}'.format)\n",
    "\n",
    "MODELPATH = Path(\"../res/ts2vec.torch\")\n",
    "DATASETPATH = Path(\"../dataset/CICIDS2017_ntop.pkl\")"
   ]
  },
  {
   "cell_type": "code",
   "execution_count": 19,
   "metadata": {},
   "outputs": [],
   "source": [
    "def mprint(s):\n",
    "    display(Markdown(s))\n",
    "    \n",
    "def ncolors(n):\n",
    "    hexl = list('0123456789ABCDEF')\n",
    "    hexc = np.random.choice(hexl, size=(n, 6))\n",
    "    return ['#' + ''.join(x) for x in hexc]\n",
    "    \n",
    "def describe_mtimeseries(key, mtimeserie, attack_meta=None):\n",
    "    mprint(f\"### {key}\")\n",
    "    # Data description ..... #\n",
    "    start = min(mtimeserie.index)\n",
    "    end = max(mtimeserie.index)\n",
    "    mprint(f\"**Time range**: {start} **/** {end}\")\n",
    "    mprint(f\"**Total data range:** {end-start}\")\n",
    "    mprint(f\"**Samples shown**: {len(mtimeserie)}\")\n",
    "\n",
    "    # Plotting clean data ..... #\n",
    "    empty_cols = []\n",
    "    for idx, c in enumerate(mtimeserie.columns):\n",
    "        legend = [c]\n",
    "        if (mtimeserie[c] == 0).all(): \n",
    "            empty_cols.append(c)\n",
    "            continue\n",
    "        plt.figure()\n",
    "        ax = mtimeserie[c].plot(label=c, figsize=(8, 4))\n",
    "        if attack_meta is not None:\n",
    "            attack = attack_meta[attack_meta != \"none\"]\n",
    "            for aname, adf in attack.groupby(attack):\n",
    "                legend.append(aname)\n",
    "                attack_data = mtimeserie.loc[adf.index]\n",
    "                attack_data.plot(ax=ax, label=aname)\n",
    "        plt.gcf().suptitle(f\"{key}\")\n",
    "        plt.legend(legend)\n",
    "        plt.show()\n",
    "    for c in empty_cols:\n",
    "        mprint(f\"**<span style='color: red'>Empty series:</span> {c}**\")\n",
    "    \n",
    "    mprint(f\"<br>{'-'*50}<br>{'-'*50}<br>\")"
   ]
  },
  {
   "cell_type": "markdown",
   "metadata": {},
   "source": [
    "# Deltas"
   ]
  },
  {
   "cell_type": "code",
   "execution_count": null,
   "metadata": {},
   "outputs": [],
   "source": [
    "df = pd.read_pickle(DATASETPATH)\n",
    "min_delta = np.timedelta64(15, \"s\")\n",
    "\n",
    "host_groups = df.groupby(['device_category', 'host'])\n",
    "for (c, h), host_samples in host_groups:\n",
    "    times = host_samples.index.get_level_values(\"_time\").sort_values(ascending=True)\n",
    "    delta = times.to_series().diff()[1:]\n",
    "    delta_gap = filter(lambda x: x[1] > min_delta, enumerate(delta))\n",
    "\n",
    "    for (i, gap) in delta_gap:\n",
    "        if times[i].hour == 17:\n",
    "            continue\n",
    "        print(f\"{c}:{h} / {times[i]} to {times[i+1]}\")"
   ]
  },
  {
   "cell_type": "markdown",
   "metadata": {},
   "source": [
    "# Plotting"
   ]
  },
  {
   "cell_type": "markdown",
   "metadata": {},
   "source": [
    "We preprocess the data before showing it"
   ]
  },
  {
   "cell_type": "code",
   "execution_count": 20,
   "metadata": {},
   "outputs": [
    {
     "name": "stderr",
     "output_type": "stream",
     "text": [
      "/Users/swedishhdcamera/Desktop/Projects/tesi_sabella/venv/lib/python3.7/site-packages/IPython/core/async_helpers.py:68: PerformanceWarning: indexing past lexsort depth may impact performance.\n",
      "  coro.send(None)\n",
      "/Users/swedishhdcamera/Desktop/Projects/tesi_sabella/venv/lib/python3.7/site-packages/sklearn/preprocessing/_discretization.py:197: UserWarning: Bins whose width are too small (i.e., <= 1e-8) in feature 0 are removed. Consider decreasing the number of bins.\n",
      "  'decreasing the number of bins.' % jj)\n",
      "/Users/swedishhdcamera/Desktop/Projects/tesi_sabella/venv/lib/python3.7/site-packages/sklearn/preprocessing/_discretization.py:197: UserWarning: Bins whose width are too small (i.e., <= 1e-8) in feature 0 are removed. Consider decreasing the number of bins.\n",
      "  'decreasing the number of bins.' % jj)\n",
      "/Users/swedishhdcamera/Desktop/Projects/tesi_sabella/venv/lib/python3.7/site-packages/sklearn/preprocessing/_discretization.py:197: UserWarning: Bins whose width are too small (i.e., <= 1e-8) in feature 0 are removed. Consider decreasing the number of bins.\n",
      "  'decreasing the number of bins.' % jj)\n",
      "/Users/swedishhdcamera/Desktop/Projects/tesi_sabella/venv/lib/python3.7/site-packages/sklearn/preprocessing/_discretization.py:197: UserWarning: Bins whose width are too small (i.e., <= 1e-8) in feature 0 are removed. Consider decreasing the number of bins.\n",
      "  'decreasing the number of bins.' % jj)\n",
      "/Users/swedishhdcamera/Desktop/Projects/tesi_sabella/venv/lib/python3.7/site-packages/sklearn/preprocessing/_discretization.py:197: UserWarning: Bins whose width are too small (i.e., <= 1e-8) in feature 0 are removed. Consider decreasing the number of bins.\n",
      "  'decreasing the number of bins.' % jj)\n",
      "/Users/swedishhdcamera/Desktop/Projects/tesi_sabella/venv/lib/python3.7/site-packages/sklearn/preprocessing/_discretization.py:197: UserWarning: Bins whose width are too small (i.e., <= 1e-8) in feature 0 are removed. Consider decreasing the number of bins.\n",
      "  'decreasing the number of bins.' % jj)\n"
     ]
    }
   ],
   "source": [
    "df = pd.read_pickle(DATASETPATH)\n",
    "pr = cicids2017.Cicids2017Preprocessor(deltas=True, discretize=False, flevel=\"MAGIK\")\n",
    "df_preproc = pr.preprocessing(df, update=True)"
   ]
  },
  {
   "cell_type": "code",
   "execution_count": 21,
   "metadata": {},
   "outputs": [
    {
     "data": {
      "application/vnd.jupyter.widget-view+json": {
       "model_id": "04bb689db3074019a9d1c74f5614637b",
       "version_major": 2,
       "version_minor": 0
      },
      "text/plain": [
       "VBox(children=(HBox(children=(Dropdown(description='device', index=11, options=('192.168.10.1 (unknown device …"
      ]
     },
     "metadata": {},
     "output_type": "display_data"
    },
    {
     "data": {
      "application/vnd.jupyter.widget-view+json": {
       "model_id": "bee4a72d3e9f47abb3f56af33c3627d0",
       "version_major": 2,
       "version_minor": 0
      },
      "text/plain": [
       "Output()"
      ]
     },
     "metadata": {},
     "output_type": "display_data"
    }
   ],
   "source": [
    "%matplotlib inline\n",
    "set_matplotlib_formats('svg')\n",
    "\n",
    "days = {\n",
    "    \"Monday\": 0,\n",
    "    \"Tuesday\": 1,\n",
    "    \"Wednesday\": 2,\n",
    "    \"Tursday\": 3,\n",
    "    \"Friday\": 4}\n",
    "\n",
    "idxs = df_preproc.index.droplevel(2).unique()\n",
    "devices = [f\"{host} ({cat})\" for cat, host in idxs]\n",
    "devices.sort()\n",
    "cols = list(df_preproc.columns)\n",
    "cols.sort()\n",
    "\n",
    "\n",
    "# ----- ----- WIDGETS ----- ----- #\n",
    "# ----- ----- ------- ----- ----- #\n",
    "device_w_list = widgets.Dropdown(options=devices,\n",
    "                                 value=\"192.168.10.50 (server)\")\n",
    "days_w_list = widgets.Dropdown(options=list(days.keys()),\n",
    "                               value=\"Monday\")\n",
    "selectedc_w_list = widgets.SelectMultiple(options=cols,\n",
    "                                          value=[\"unreachable_flows:flows_as_client\"],\n",
    "                                          description='Features',\n",
    "                                          layout=Layout(width='400px'))\n",
    "showall_checkbox = widgets.Checkbox(value=False, description='Show all features')\n",
    "timerange_slider = widgets.FloatSlider(min=.01, max=1., step=.01)\n",
    "offset_slider = widgets.FloatSlider(min=.0, max=1., step=.01)\n",
    "ts_selector = HBox([device_w_list, days_w_list])\n",
    "col_selector = HBox([selectedc_w_list, showall_checkbox])\n",
    "ts_shifting = HBox([timerange_slider, offset_slider])\n",
    "wlist = VBox([ts_selector, col_selector, ts_shifting])\n",
    "\n",
    "\n",
    "# ----- ----- INTERACTOR ----- ----- #\n",
    "# ----- ----- ------- ----- ----- #\n",
    "def whandler(device, day, column, showall, trange, offset):\n",
    "    split = device.split(\" \")\n",
    "    columns = list(column)\n",
    "    host = split[0].strip()\n",
    "    category = \" \".join(split[1:]).replace(\"(\", \"\").replace(\")\", \"\").strip()\n",
    "    host_ts = df_preproc.loc[category, host]\n",
    "    # Filterign day of week\n",
    "    host_ts = host_ts[host_ts.index.dayofweek==days[day]]\n",
    "    # Filtering time range\n",
    "    ts_len = len(host_ts)\n",
    "    start_idx = int(ts_len * offset)\n",
    "    end_idx = min(start_idx + int(ts_len * trange), ts_len)\n",
    "    \n",
    "    selected_features = cols if showall else columns\n",
    "    attack =  host_ts.iloc[start_idx:end_idx][\"attack\"] if \"attack\" in cols else None\n",
    "    describe_mtimeseries(device.strip(), \n",
    "                         host_ts.iloc[start_idx:end_idx][selected_features],\n",
    "                         attack)\n",
    "\n",
    "\n",
    "\n",
    "output = widgets.interactive(whandler,\n",
    "                        device=device_w_list, day=days_w_list, \n",
    "                        column=selectedc_w_list, showall=showall_checkbox, \n",
    "                        trange=timerange_slider, offset=offset_slider).children[-1]\n",
    "display(wlist)\n",
    "display(output)"
   ]
  },
  {
   "cell_type": "markdown",
   "metadata": {},
   "source": [
    "# Embedding"
   ]
  },
  {
   "cell_type": "code",
   "execution_count": 22,
   "metadata": {},
   "outputs": [
    {
     "name": "stderr",
     "output_type": "stream",
     "text": [
      "/Users/swedishhdcamera/Desktop/Projects/tesi_sabella/venv/lib/python3.7/site-packages/IPython/core/async_helpers.py:68: PerformanceWarning: indexing past lexsort depth may impact performance.\n",
      "  coro.send(None)\n",
      "/Users/swedishhdcamera/Desktop/Projects/tesi_sabella/venv/lib/python3.7/site-packages/sklearn/preprocessing/_discretization.py:197: UserWarning: Bins whose width are too small (i.e., <= 1e-8) in feature 0 are removed. Consider decreasing the number of bins.\n",
      "  'decreasing the number of bins.' % jj)\n",
      "/Users/swedishhdcamera/Desktop/Projects/tesi_sabella/venv/lib/python3.7/site-packages/sklearn/preprocessing/_discretization.py:197: UserWarning: Bins whose width are too small (i.e., <= 1e-8) in feature 0 are removed. Consider decreasing the number of bins.\n",
      "  'decreasing the number of bins.' % jj)\n",
      "/Users/swedishhdcamera/Desktop/Projects/tesi_sabella/venv/lib/python3.7/site-packages/sklearn/preprocessing/_discretization.py:197: UserWarning: Bins whose width are too small (i.e., <= 1e-8) in feature 0 are removed. Consider decreasing the number of bins.\n",
      "  'decreasing the number of bins.' % jj)\n",
      "/Users/swedishhdcamera/Desktop/Projects/tesi_sabella/venv/lib/python3.7/site-packages/sklearn/preprocessing/_discretization.py:197: UserWarning: Bins whose width are too small (i.e., <= 1e-8) in feature 0 are removed. Consider decreasing the number of bins.\n",
      "  'decreasing the number of bins.' % jj)\n",
      "/Users/swedishhdcamera/Desktop/Projects/tesi_sabella/venv/lib/python3.7/site-packages/sklearn/preprocessing/_discretization.py:197: UserWarning: Bins whose width are too small (i.e., <= 1e-8) in feature 0 are removed. Consider decreasing the number of bins.\n",
      "  'decreasing the number of bins.' % jj)\n",
      "/Users/swedishhdcamera/Desktop/Projects/tesi_sabella/venv/lib/python3.7/site-packages/sklearn/preprocessing/_discretization.py:197: UserWarning: Bins whose width are too small (i.e., <= 1e-8) in feature 0 are removed. Consider decreasing the number of bins.\n",
      "  'decreasing the number of bins.' % jj)\n"
     ]
    },
    {
     "data": {
      "text/plain": [
       "<All keys matched successfully>"
      ]
     },
     "execution_count": 22,
     "metadata": {},
     "output_type": "execute_result"
    }
   ],
   "source": [
    "df = pd.read_pickle(DATASETPATH)\n",
    "pr = cicids2017.Cicids2017Preprocessor(flevel=\"MAGIK\")\n",
    "df_preproc = pr.preprocessing(df, update=True)\n",
    "\n",
    "ts2vec = cb.GRU2Vec()\n",
    "ts2vec.load_state_dict(torch.load(str(MODELPATH), map_location=torch.device('cpu')))"
   ]
  },
  {
   "cell_type": "code",
   "execution_count": 24,
   "metadata": {},
   "outputs": [
    {
     "data": {
      "text/plain": [
       "<bound method MultiIndex.get_level_values of MultiIndex([(                  'pc',  '192.168.10.12', ...),\n",
       "            (                  'pc',  '192.168.10.12', ...),\n",
       "            (                  'pc',  '192.168.10.12', ...),\n",
       "            (                  'pc',  '192.168.10.12', ...),\n",
       "            (                  'pc',  '192.168.10.12', ...),\n",
       "            (                  'pc',  '192.168.10.12', ...),\n",
       "            (                  'pc',  '192.168.10.12', ...),\n",
       "            (                  'pc',  '192.168.10.12', ...),\n",
       "            (                  'pc',  '192.168.10.12', ...),\n",
       "            (                  'pc',  '192.168.10.12', ...),\n",
       "            ...\n",
       "            ('unknown device class', '192.168.10.255', ...),\n",
       "            ('unknown device class', '192.168.10.255', ...),\n",
       "            ('unknown device class', '192.168.10.255', ...),\n",
       "            ('unknown device class', '192.168.10.255', ...),\n",
       "            ('unknown device class', '192.168.10.255', ...),\n",
       "            ('unknown device class', '192.168.10.255', ...),\n",
       "            ('unknown device class', '192.168.10.255', ...),\n",
       "            ('unknown device class', '192.168.10.255', ...),\n",
       "            ('unknown device class', '192.168.10.255', ...),\n",
       "            ('unknown device class', '192.168.10.255', ...)],\n",
       "           names=['device_category', 'host', '_time'], length=145039)>"
      ]
     },
     "execution_count": 24,
     "metadata": {},
     "output_type": "execute_result"
    }
   ],
   "source": [
    "df_preproc.index.get_level_values"
   ]
  },
  {
   "cell_type": "code",
   "execution_count": 48,
   "metadata": {},
   "outputs": [
    {
     "data": {
      "application/vnd.jupyter.widget-view+json": {
       "model_id": "8c684220b5794cabb35f9cb9fecd0800",
       "version_major": 2,
       "version_minor": 0
      },
      "text/plain": [
       "VBox(children=(HBox(children=(Dropdown(description='device', index=11, options=('192.168.10.1 (unknown device …"
      ]
     },
     "metadata": {},
     "output_type": "display_data"
    },
    {
     "data": {
      "application/vnd.jupyter.widget-view+json": {
       "model_id": "6daa9c1cb1cb4dbca15eaa229fb8c4a5",
       "version_major": 2,
       "version_minor": 0
      },
      "text/plain": [
       "Output()"
      ]
     },
     "metadata": {},
     "output_type": "display_data"
    }
   ],
   "source": [
    "%matplotlib inline\n",
    "set_matplotlib_formats('svg')\n",
    "\n",
    "days_keys = {\n",
    "    \"Monday\": 0,\n",
    "    \"Tuesday\": 1,\n",
    "    \"Wednesday\": 2,\n",
    "    \"Tursday\": 3,\n",
    "    \"Friday\": 4}\n",
    "\n",
    "idxs = df_preproc.index.droplevel(2).unique()\n",
    "devices = [f\"{host} ({cat})\" for cat, host in idxs]\n",
    "devices.sort()\n",
    "\n",
    "\n",
    "# ----- ----- COLORMAPS ----- ----- #\n",
    "# ----- ----- ------- ----- ----- #\n",
    "hosts = df_preproc.index.get_level_values(\"host\").unique()\n",
    "host_cmap = dict(zip(hosts, ncolors(len(hosts))))\n",
    "categories = df_preproc.index.get_level_values(\"device_category\").unique()\n",
    "dev_cat_cmap = dict(zip(categories, ncolors(len(categories))))\n",
    "attacks = df_preproc[\"attack\"].unique()\n",
    "attack_cmap = dict(zip(attacks, ncolors(len(attacks))))\n",
    "\n",
    "\n",
    "# ----- ----- WIDGETS ----- ----- #\n",
    "# ----- ----- ------- ----- ----- #\n",
    "device_w_list = widgets.Dropdown(options=devices,\n",
    "                                 value=\"192.168.10.50 (server)\")\n",
    "days_w_list = widgets.Dropdown(options=list(days_keys.keys()),\n",
    "                               value=\"Monday\")\n",
    "netmap_checkbox = widgets.Checkbox(value=False, description='Show all network')\n",
    "show_ip_checkbox = widgets.Checkbox(value=False, description='Show specific IP')\n",
    "ts1_selector = HBox([device_w_list, netmap_checkbox])\n",
    "ts2_selector = HBox([days_w_list, show_ip_checkbox])\n",
    "wlist = VBox([ts1_selector, ts2_selector])\n",
    "\n",
    "\n",
    "# ----- ----- INTERACTOR ----- ----- #\n",
    "# ----- ----- ------- ----- ----- #\n",
    "def whandler(device, day, netmap, show_ip):\n",
    "    host_only = not netmap\n",
    "    daydf = df_preproc[df_preproc.index.get_level_values(\"_time\").dayofweek == days_keys[day]]\n",
    "    if host_only:\n",
    "        split = device.split(\" \")\n",
    "        host = split[0].strip()\n",
    "        category = \" \".join(split[1:]).replace(\"(\", \"\").replace(\")\", \"\").strip()\n",
    "        daydf = daydf.loc[category, host]\n",
    "    \n",
    "    pts = cb.network2D(ts2vec, daydf, overlapping=.75)\n",
    "    if not netmap:\n",
    "        label, cmap = (\"attack\", attack_cmap)\n",
    "    elif netmap:\n",
    "        if show_ip:\n",
    "            label, cmap = (\"host\", host_cmap) \n",
    "        else:\n",
    "            label, cmap = (\"device_category\", dev_cat_cmap) \n",
    "    pts[\"color\"] = pts[label].map(cmap)\n",
    "    \n",
    "    # Plotting ..... #\n",
    "    ax = plt.gca()\n",
    "    for l, vs in pts.groupby(label):\n",
    "        ax.scatter(vs[\"x1\"].values, vs[\"x2\"].values, \n",
    "                    color=vs[\"color\"].values, label=l)\n",
    "    plt.legend(loc=(1.04,0))\n",
    "    plt.gcf().set_size_inches(7, 7)\n",
    "    plt.show()\n",
    "\n",
    "output = widgets.interactive(whandler,\n",
    "                        device=device_w_list, day=days_w_list, \n",
    "                        netmap=netmap_checkbox, show_ip=show_ip_checkbox).children[-1]\n",
    "display(wlist)\n",
    "display(output)"
   ]
  },
  {
   "cell_type": "code",
   "execution_count": null,
   "metadata": {},
   "outputs": [],
   "source": []
  }
 ],
 "metadata": {
  "kernelspec": {
   "display_name": "Python 3",
   "language": "python",
   "name": "python3"
  },
  "language_info": {
   "codemirror_mode": {
    "name": "ipython",
    "version": 3
   },
   "file_extension": ".py",
   "mimetype": "text/x-python",
   "name": "python",
   "nbconvert_exporter": "python",
   "pygments_lexer": "ipython3",
   "version": "3.7.5"
  }
 },
 "nbformat": 4,
 "nbformat_minor": 4
}
