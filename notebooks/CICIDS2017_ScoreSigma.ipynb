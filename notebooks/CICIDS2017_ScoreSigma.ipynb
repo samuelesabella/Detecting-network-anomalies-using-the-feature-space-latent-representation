{
 "cells": [
  {
   "cell_type": "code",
   "execution_count": 1,
   "metadata": {},
   "outputs": [],
   "source": [
    "import sys\n",
    "import os\n",
    "sys.path.insert(0, os.path.abspath('../src/'))"
   ]
  },
  {
   "cell_type": "markdown",
   "metadata": {},
   "source": [
    "### Data preparation"
   ]
  },
  {
   "cell_type": "code",
   "execution_count": 2,
   "metadata": {},
   "outputs": [],
   "source": [
    "import cicids2017\n",
    "from pathlib import Path\n",
    "import pandas as pd\n",
    "import numpy as np\n",
    "\n",
    "\n",
    "RES_PATH = \".\"\n",
    "MODELPATH = Path(f\"../res/{RES_PATH}/ts2vec.torch\")\n",
    "DATASETPATH_CACHE = Path(f\"../dataset/cache\")\n",
    "DATASETPATH = Path(\"../dataset/CICIDS2017_ntop.pkl\")\n",
    "TARGET_DSET = \"DT\"\n",
    "\n",
    "\n",
    "netdata = []\n",
    "df = cicids2017.load_dataset(DATASETPATH_CACHE)[TARGET_DSET]\n",
    "days = np.unique(df.index.get_level_values(\"_time\").day)\n",
    "for d in days:\n",
    "    daily_df = df[df.index.get_level_values(\"_time\").day == d]\n",
    "    netdata.append(daily_df)"
   ]
  },
  {
   "cell_type": "markdown",
   "metadata": {},
   "source": [
    "### Prediction"
   ]
  },
  {
   "cell_type": "code",
   "execution_count": 3,
   "metadata": {},
   "outputs": [
    {
     "name": "stderr",
     "output_type": "stream",
     "text": [
      "/Users/swedishhdcamera/Desktop/Projects/tesi_sabella/venv/lib/python3.8/site-packages/skorch/dataset.py:267: FutureWarning: Setting a random_state has no effect since cv is not a float. This will raise an error in a future. You should leave random_state to its default (None), or set cv to a float value.\n",
      "  warnings.warn(\n"
     ]
    }
   ],
   "source": [
    "import AnomalyDetector as ad\n",
    "\n",
    "\n",
    "net = cicids2017.configureAnchor(None, df, checkpoint=MODELPATH)\n",
    "netdata = net.pointwise_anomaly(netdata)\n",
    "netdata = pd.concat(netdata)\n",
    "Y = (netdata[\"_isanomaly\"]==\"none\")\n",
    "Y = Y.replace({True: ad.NORMAL_TRAFFIC, False: ad.ATTACK_TRAFFIC }).values"
   ]
  },
  {
   "cell_type": "markdown",
   "metadata": {},
   "source": [
    "### Results for different sigma"
   ]
  },
  {
   "cell_type": "code",
   "execution_count": 4,
   "metadata": {},
   "outputs": [],
   "source": [
    "from sklearn import metrics\n",
    "\n",
    "\n",
    "df_res = pd.DataFrame()\n",
    "sigma_values = [-.5, -.25, -.05, .0, .05, .25, .5]\n",
    "\n",
    "\n",
    "for sigma in sigma_values:\n",
    "    sigma_res = { \"sigma\": sigma }\n",
    "    net.module_.sigma = sigma\n",
    "    netdata = net.pointwise_anomaly(netdata)\n",
    "    y_hat = pd.concat(netdata)[\"_y_hat\"]\n",
    "    y_hat = np.round(y_hat)\n",
    "    \n",
    "    metrics_rep = [ metrics.roc_auc_score,\n",
    "                    metrics.precision_score, metrics.recall_score,\n",
    "                    metrics.accuracy_score, metrics.f1_score]\n",
    "    for m in metrics_rep:\n",
    "        mres = m(Y, y_hat)\n",
    "        sigma_res[m.__name__] = mres\n",
    "    \n",
    "    tn, fp, fn, tp = metrics.confusion_matrix(Y, y_hat, normalize=\"all\").ravel()\n",
    "    sigma_res.update({ \"tn\": tn, \"fp\": fp, \"fn\": fn, \"tp\": tp })\n",
    "    sigma_res = pd.DataFrame(sigma_res, index=[0])\n",
    "    df_res = pd.concat([df_res, sigma_res], ignore_index=True)"
   ]
  },
  {
   "cell_type": "markdown",
   "metadata": {},
   "source": [
    "### Latex"
   ]
  },
  {
   "cell_type": "code",
   "execution_count": 5,
   "metadata": {},
   "outputs": [
    {
     "name": "stdout",
     "output_type": "stream",
     "text": [
      "\\begin{tabular}{rrrrrrrrrr}\n",
      "\\toprule\n",
      " sigma & roc\\_auc\\_score & precision\\_score & recall\\_score & accuracy\\_score & f1\\_score & tn & fp & fn & tp \\\\\n",
      "\\midrule\n",
      "-0.500 & 0.535 & 0.166 & 0.652 & 0.454 & 0.265 & 0.355 & 0.494 & 0.053 & 0.098 \\\\\n",
      " 0.000 & 0.531 & 0.160 & 0.930 & 0.253 & 0.273 & 0.113 & 0.737 & 0.011 & 0.140 \\\\\n",
      "-0.050 & 0.531 & 0.160 & 0.905 & 0.270 & 0.272 & 0.133 & 0.716 & 0.014 & 0.137 \\\\\n",
      "-0.250 & 0.530 & 0.161 & 0.787 & 0.350 & 0.268 & 0.231 & 0.618 & 0.032 & 0.119 \\\\\n",
      " 0.050 & 0.528 & 0.159 & 0.949 & 0.234 & 0.272 & 0.090 & 0.759 & 0.008 & 0.143 \\\\\n",
      " 0.250 & 0.511 & 0.154 & 0.988 & 0.177 & 0.266 & 0.028 & 0.821 & 0.002 & 0.149 \\\\\n",
      " 0.500 & 0.505 & 0.152 & 1.000 & 0.159 & 0.264 & 0.008 & 0.841 & 0.000 & 0.151 \\\\\n",
      "\\bottomrule\n",
      "\\end{tabular}\n",
      "\n"
     ]
    }
   ],
   "source": [
    "import re\n",
    "\n",
    "best_results = df_res.sort_values(\"roc_auc_score\", ascending=False)\n",
    "latex_str = best_results.to_latex(index=False, float_format=\"%.3f\")\n",
    "print(re.sub(' +',' ', latex_str))"
   ]
  },
  {
   "cell_type": "code",
   "execution_count": 6,
   "metadata": {},
   "outputs": [
    {
     "data": {
      "text/html": [
       "<div>\n",
       "<style scoped>\n",
       "    .dataframe tbody tr th:only-of-type {\n",
       "        vertical-align: middle;\n",
       "    }\n",
       "\n",
       "    .dataframe tbody tr th {\n",
       "        vertical-align: top;\n",
       "    }\n",
       "\n",
       "    .dataframe thead th {\n",
       "        text-align: right;\n",
       "    }\n",
       "</style>\n",
       "<table border=\"1\" class=\"dataframe\">\n",
       "  <thead>\n",
       "    <tr style=\"text-align: right;\">\n",
       "      <th></th>\n",
       "      <th>sigma</th>\n",
       "      <th>roc_auc_score</th>\n",
       "      <th>precision_score</th>\n",
       "      <th>recall_score</th>\n",
       "      <th>accuracy_score</th>\n",
       "      <th>f1_score</th>\n",
       "      <th>tn</th>\n",
       "      <th>fp</th>\n",
       "      <th>fn</th>\n",
       "      <th>tp</th>\n",
       "    </tr>\n",
       "  </thead>\n",
       "  <tbody>\n",
       "    <tr>\n",
       "      <th>0</th>\n",
       "      <td>-0.50</td>\n",
       "      <td>0.535276</td>\n",
       "      <td>0.166175</td>\n",
       "      <td>0.651907</td>\n",
       "      <td>0.453845</td>\n",
       "      <td>0.264840</td>\n",
       "      <td>0.355469</td>\n",
       "      <td>0.493627</td>\n",
       "      <td>0.052529</td>\n",
       "      <td>0.098376</td>\n",
       "    </tr>\n",
       "    <tr>\n",
       "      <th>3</th>\n",
       "      <td>0.00</td>\n",
       "      <td>0.531202</td>\n",
       "      <td>0.160023</td>\n",
       "      <td>0.929837</td>\n",
       "      <td>0.252878</td>\n",
       "      <td>0.273055</td>\n",
       "      <td>0.112562</td>\n",
       "      <td>0.736534</td>\n",
       "      <td>0.010588</td>\n",
       "      <td>0.140317</td>\n",
       "    </tr>\n",
       "    <tr>\n",
       "      <th>2</th>\n",
       "      <td>-0.05</td>\n",
       "      <td>0.530925</td>\n",
       "      <td>0.160198</td>\n",
       "      <td>0.905313</td>\n",
       "      <td>0.269531</td>\n",
       "      <td>0.272224</td>\n",
       "      <td>0.132915</td>\n",
       "      <td>0.716180</td>\n",
       "      <td>0.014289</td>\n",
       "      <td>0.136616</td>\n",
       "    </tr>\n",
       "    <tr>\n",
       "      <th>1</th>\n",
       "      <td>-0.25</td>\n",
       "      <td>0.529530</td>\n",
       "      <td>0.161178</td>\n",
       "      <td>0.786785</td>\n",
       "      <td>0.349918</td>\n",
       "      <td>0.267547</td>\n",
       "      <td>0.231188</td>\n",
       "      <td>0.617907</td>\n",
       "      <td>0.032175</td>\n",
       "      <td>0.118729</td>\n",
       "    </tr>\n",
       "    <tr>\n",
       "      <th>4</th>\n",
       "      <td>0.05</td>\n",
       "      <td>0.527724</td>\n",
       "      <td>0.158783</td>\n",
       "      <td>0.948910</td>\n",
       "      <td>0.233655</td>\n",
       "      <td>0.272044</td>\n",
       "      <td>0.090461</td>\n",
       "      <td>0.758635</td>\n",
       "      <td>0.007710</td>\n",
       "      <td>0.143195</td>\n",
       "    </tr>\n",
       "    <tr>\n",
       "      <th>5</th>\n",
       "      <td>0.25</td>\n",
       "      <td>0.510614</td>\n",
       "      <td>0.153708</td>\n",
       "      <td>0.988420</td>\n",
       "      <td>0.177015</td>\n",
       "      <td>0.266043</td>\n",
       "      <td>0.027858</td>\n",
       "      <td>0.821238</td>\n",
       "      <td>0.001748</td>\n",
       "      <td>0.149157</td>\n",
       "    </tr>\n",
       "    <tr>\n",
       "      <th>6</th>\n",
       "      <td>0.50</td>\n",
       "      <td>0.504782</td>\n",
       "      <td>0.152140</td>\n",
       "      <td>1.000000</td>\n",
       "      <td>0.159025</td>\n",
       "      <td>0.264100</td>\n",
       "      <td>0.008121</td>\n",
       "      <td>0.840975</td>\n",
       "      <td>0.000000</td>\n",
       "      <td>0.150905</td>\n",
       "    </tr>\n",
       "  </tbody>\n",
       "</table>\n",
       "</div>"
      ],
      "text/plain": [
       "   sigma  roc_auc_score  precision_score  recall_score  accuracy_score  \\\n",
       "0  -0.50       0.535276         0.166175      0.651907        0.453845   \n",
       "3   0.00       0.531202         0.160023      0.929837        0.252878   \n",
       "2  -0.05       0.530925         0.160198      0.905313        0.269531   \n",
       "1  -0.25       0.529530         0.161178      0.786785        0.349918   \n",
       "4   0.05       0.527724         0.158783      0.948910        0.233655   \n",
       "5   0.25       0.510614         0.153708      0.988420        0.177015   \n",
       "6   0.50       0.504782         0.152140      1.000000        0.159025   \n",
       "\n",
       "   f1_score        tn        fp        fn        tp  \n",
       "0  0.264840  0.355469  0.493627  0.052529  0.098376  \n",
       "3  0.273055  0.112562  0.736534  0.010588  0.140317  \n",
       "2  0.272224  0.132915  0.716180  0.014289  0.136616  \n",
       "1  0.267547  0.231188  0.617907  0.032175  0.118729  \n",
       "4  0.272044  0.090461  0.758635  0.007710  0.143195  \n",
       "5  0.266043  0.027858  0.821238  0.001748  0.149157  \n",
       "6  0.264100  0.008121  0.840975  0.000000  0.150905  "
      ]
     },
     "execution_count": 6,
     "metadata": {},
     "output_type": "execute_result"
    }
   ],
   "source": [
    "best_results"
   ]
  },
  {
   "cell_type": "code",
   "execution_count": null,
   "metadata": {},
   "outputs": [],
   "source": []
  }
 ],
 "metadata": {
  "kernelspec": {
   "display_name": "Python 3",
   "language": "python",
   "name": "python3"
  },
  "language_info": {
   "codemirror_mode": {
    "name": "ipython",
    "version": 3
   },
   "file_extension": ".py",
   "mimetype": "text/x-python",
   "name": "python",
   "nbconvert_exporter": "python",
   "pygments_lexer": "ipython3",
   "version": "3.8.6"
  }
 },
 "nbformat": 4,
 "nbformat_minor": 4
}
