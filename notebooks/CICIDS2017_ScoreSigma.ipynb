{
 "cells": [
  {
   "cell_type": "code",
   "execution_count": 37,
   "metadata": {},
   "outputs": [],
   "source": [
    "import warnings\n",
    "from mpl_toolkits.mplot3d import Axes3D\n",
    "from ipywidgets import Button, Layout\n",
    "from datetime import datetime\n",
    "# warnings.filterwarnings(\"ignore\")\n",
    "from umap import UMAP\n",
    "import re\n",
    "import pandas as pd\n",
    "from skorch.dataset import Dataset\n",
    "import matplotlib.patches as mpatches\n",
    "from pprint import pprint\n",
    "import numpy as np\n",
    "from ipywidgets import HBox, VBox, interactive\n",
    "from collections import defaultdict\n",
    "import matplotlib.pyplot as plt\n",
    "import matplotlib.ticker as ticker\n",
    "import matplotlib.dates as mdates\n",
    "from sklearn import metrics\n",
    "from IPython.display import display, Markdown\n",
    "import ipywidgets as widgets\n",
    "import math\n",
    "from sklearn.manifold import TSNE\n",
    "import torch\n",
    "from ipywidgets import interact, interact_manual\n",
    "from IPython.display import set_matplotlib_formats\n",
    "from importlib import reload\n",
    "from pathlib import Path\n",
    "from tqdm import tqdm\n",
    "\n",
    "import sys\n",
    "import os\n",
    "sys.path.insert(0, os.path.abspath('../src/'))\n",
    "\n",
    "import model_codebase as cb\n",
    "import cicids2017 as cicids2017\n",
    "import data_generator as generator\n",
    "\n",
    "reload(cicids2017)\n",
    "reload(generator)\n",
    "\n",
    "pd.set_option('display.max_rows', 500)\n",
    "pd.set_option('float_format', '{:.4f}'.format)\n",
    "\n",
    "RES_PATH = \".\"\n",
    "MODELPATH = Path(f\"../res/{RES_PATH}/ts2vec.torch\")\n",
    "DATASETPATH_CACHE = Path(f\"../res/{RES_PATH}/cache\")\n",
    "DATASETPATH = Path(\"../dataset/CICIDS2017_ntop.pkl\")"
   ]
  },
  {
   "cell_type": "code",
   "execution_count": 29,
   "metadata": {},
   "outputs": [
    {
     "name": "stderr",
     "output_type": "stream",
     "text": [
      "100%|██████████| 7/7 [00:35<00:00,  5.08s/it]\n"
     ]
    }
   ],
   "source": [
    "df_res = pd.DataFrame()\n",
    "\n",
    "sigma_values = [-.5, -.25, -.05, .0, .05, .25, .5]\n",
    "\n",
    "model_args = {\n",
    "    \"input_size\": 19,\n",
    "    \"rnn_size\": 128,\n",
    "    \"rnn_layers\": 3,\n",
    "    \"latent_size\": 128\n",
    "}\n",
    "\n",
    "ts2vec = cb.STC(**model_args).eval()\n",
    "ts2vec.load_state_dict(torch.load(str(MODELPATH), map_location=torch.device('cpu')))\n",
    "\n",
    "testing_attacks = cicids2017.load_dataset(DATASETPATH_CACHE)[\"testing_attacks\"]\n",
    "testing_attacks = Dataset(*cb.dataset2tensors(testing_attacks))\n",
    "\n",
    "for sigma in tqdm(sigma_values):\n",
    "    ts2vec.sigma = sigma\n",
    "    sigma_res = { \"sigma\": sigma }\n",
    "\n",
    "    # Detection capabilities ..... #\n",
    "    X_attacks = testing_attacks.X[\"context\"]\n",
    "    y_attacks = testing_attacks.y\n",
    "    y_hat = ts2vec.context_anomaly(X_attacks).detach()\n",
    "    y_hat = np.round(y_hat.cpu())\n",
    "    \n",
    "    metrics_rep = [ metrics.roc_auc_score,\n",
    "                    metrics.precision_score, metrics.recall_score,\n",
    "                    metrics.accuracy_score, metrics.f1_score]\n",
    "    for m in metrics_rep:\n",
    "        mres = m(y_attacks, y_hat)\n",
    "        sigma_res[m.__name__] = mres\n",
    "    \n",
    "    tn, fp, fn, tp = metrics.confusion_matrix(y_attacks, y_hat, normalize=\"all\").ravel()\n",
    "    sigma_res.update({ \"tn\": tn, \"fp\": fp, \"fn\": fn, \"tp\": tp })\n",
    "    sigma_res = pd.DataFrame(sigma_res, index=[0])\n",
    "    df_res = pd.concat([df_res, sigma_res], ignore_index=True)"
   ]
  },
  {
   "cell_type": "code",
   "execution_count": 41,
   "metadata": {},
   "outputs": [
    {
     "name": "stdout",
     "output_type": "stream",
     "text": [
      "\\begin{tabular}{rrrrrrrrrr}\n",
      "\\toprule\n",
      " sigma & roc\\_auc\\_score & precision\\_score & recall\\_score & accuracy\\_score & f1\\_score & tn & fp & fn & tp \\\\\n",
      "\\midrule\n",
      "-0.250 & 0.845 & 0.903 & 0.700 & 0.952 & 0.789 & 0.862 & 0.010 & 0.038 & 0.090 \\\\\n",
      "-0.050 & 0.842 & 0.613 & 0.753 & 0.908 & 0.676 & 0.811 & 0.061 & 0.032 & 0.096 \\\\\n",
      " 0.000 & 0.829 & 0.500 & 0.772 & 0.872 & 0.607 & 0.773 & 0.099 & 0.029 & 0.099 \\\\\n",
      "-0.500 & 0.819 & 0.966 & 0.640 & 0.951 & 0.770 & 0.869 & 0.003 & 0.046 & 0.082 \\\\\n",
      " 0.050 & 0.810 & 0.406 & 0.790 & 0.825 & 0.536 & 0.724 & 0.148 & 0.027 & 0.101 \\\\\n",
      " 0.250 & 0.655 & 0.181 & 0.921 & 0.458 & 0.303 & 0.340 & 0.532 & 0.010 & 0.118 \\\\\n",
      " 0.500 & 0.500 & 0.128 & 1.000 & 0.128 & 0.227 & 0.000 & 0.872 & 0.000 & 0.128 \\\\\n",
      "\\bottomrule\n",
      "\\end{tabular}\n",
      "\n"
     ]
    }
   ],
   "source": [
    "best_results = df_res.sort_values(\"roc_auc_score\", ascending=False)\n",
    "latex_str = best_results.to_latex(index=False, float_format=\"%.3f\")\n",
    "print(re.sub(' +',' ', latex_str))"
   ]
  },
  {
   "cell_type": "code",
   "execution_count": null,
   "metadata": {},
   "outputs": [],
   "source": []
  }
 ],
 "metadata": {
  "kernelspec": {
   "display_name": "Python 3",
   "language": "python",
   "name": "python3"
  },
  "language_info": {
   "codemirror_mode": {
    "name": "ipython",
    "version": 3
   },
   "file_extension": ".py",
   "mimetype": "text/x-python",
   "name": "python",
   "nbconvert_exporter": "python",
   "pygments_lexer": "ipython3",
   "version": "3.8.6"
  }
 },
 "nbformat": 4,
 "nbformat_minor": 4
}
