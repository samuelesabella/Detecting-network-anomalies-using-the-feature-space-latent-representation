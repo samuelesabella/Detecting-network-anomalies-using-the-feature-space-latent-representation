{
 "cells": [
  {
   "cell_type": "code",
   "execution_count": 66,
   "metadata": {},
   "outputs": [],
   "source": [
    "import sys\n",
    "import os\n",
    "import pandas as pd\n",
    "from pathlib import Path\n",
    "import re\n",
    "\n",
    "\n",
    "def replace_cname(df, oldname, newname):\n",
    "    new_names = { c: c.replace(oldname, newname).strip() for c in df.columns if oldname in c}\n",
    "    return df.rename(columns=new_names)"
   ]
  },
  {
   "cell_type": "code",
   "execution_count": 67,
   "metadata": {},
   "outputs": [],
   "source": [
    "grid_search = pd.DataFrame()\n",
    "\n",
    "RES_PATH = Path(f\"../res/\")\n",
    "files = [os.path.join(path, name) for path, subdirs, files in os.walk(RES_PATH) for name in files]\n",
    "grid_files = filter(lambda x: \"gridsearch\" in x, files)\n",
    "\n",
    "for f in grid_files:\n",
    "    if \"gridsearch\" not in f:\n",
    "        continue\n",
    "    df = pd.read_pickle(RES_PATH / f)\n",
    "    \n",
    "    additional_features = f.replace(\".pkl\", \"\").split(\"__\")[1:]\n",
    "    additional_features = map(lambda x: x.split(\"_\"), additional_features)\n",
    "    \n",
    "    for f, v in additional_features:\n",
    "        df[f\"param_{f}\"] = v\n",
    "        \n",
    "    grid_search = pd.concat([grid_search, df], ignore_index=True)"
   ]
  },
  {
   "cell_type": "code",
   "execution_count": 68,
   "metadata": {},
   "outputs": [],
   "source": [
    "features_cols = [ c for c in grid_search.columns if \"param_\" in c ]\n",
    "grid_search = grid_search[features_cols + [\"mean_test_score\"]]\n",
    "\n",
    "grid_search = grid_search.rename(columns={\"param_module\": \"architecture\"})\n",
    "grid_search = replace_cname(grid_search, \"_\", \" \")\n",
    "grid_search = replace_cname(grid_search, \"param\", \"\")\n",
    "grid_search = replace_cname(grid_search, \"module\", \"\")\n",
    "\n",
    "best_results = grid_search.sort_values(\"mean test score\", ascending=True)\n",
    "best_results = best_results.groupby(\"pool\").head(5)"
   ]
  },
  {
   "cell_type": "code",
   "execution_count": 69,
   "metadata": {},
   "outputs": [
    {
     "name": "stdout",
     "output_type": "stream",
     "text": [
      "\\begin{tabular}{llllllllrrllr}\n",
      "\\toprule\n",
      "batch size & lr & input size & latent size & pool & rnn layers & rnn size & feature set & overlapping & context len & discretized & architecture & mean test score \\\\\n",
      "\\midrule\n",
      " 4096 & 0.000 & 19 & 64 & mean & 3 & 64 & MAGIK & 0.950 & 80 & False & GruLinear & 0.067 \\\\\n",
      " 4096 & 0.001 & 19 & 64 & mean & 3 & 64 & MAGIK & 0.950 & 80 & False & GruLinear & 0.069 \\\\\n",
      " 4096 & 0.000 & 19 & 128 & mean & 3 & 128 & MAGIK & 0.950 & 80 & False & GruLinear & 0.069 \\\\\n",
      " 4096 & 0.000 & 19 & 64 & mean & 3 & 128 & MAGIK & 0.950 & 80 & False & GruLinear & 0.071 \\\\\n",
      " 4096 & 0.000 & 19 & 128 & mean & 3 & 64 & MAGIK & 0.950 & 80 & False & GruLinear & 0.071 \\\\\n",
      " 4096 & 0.001 & 19 & 128 & last & 3 & 128 & MAGIK & 0.950 & 80 & False & GruLinear & 0.082 \\\\\n",
      " 4096 & 0.001 & 19 & 128 & last & 3 & 64 & MAGIK & 0.950 & 80 & False & GruLinear & 0.082 \\\\\n",
      " 4096 & 0.001 & 19 & 64 & last & 3 & 128 & MAGIK & 0.950 & 80 & False & GruLinear & 0.084 \\\\\n",
      " 4096 & 0.000 & 19 & 64 & last & 3 & 128 & MAGIK & 0.950 & 80 & False & GruLinear & 0.085 \\\\\n",
      " 4096 & 0.000 & 19 & 64 & last & 3 & 64 & MAGIK & 0.950 & 80 & False & GruLinear & 0.085 \\\\\n",
      "\\bottomrule\n",
      "\\end{tabular}\n",
      "\n"
     ]
    }
   ],
   "source": [
    "latex_str = best_results.to_latex(index=False, float_format=\"{:0.3f}\".format)\n",
    "print(re.sub(' +',' ', latex_str))"
   ]
  },
  {
   "cell_type": "code",
   "execution_count": null,
   "metadata": {},
   "outputs": [],
   "source": []
  }
 ],
 "metadata": {
  "kernelspec": {
   "display_name": "Python 3",
   "language": "python",
   "name": "python3"
  },
  "language_info": {
   "codemirror_mode": {
    "name": "ipython",
    "version": 3
   },
   "file_extension": ".py",
   "mimetype": "text/x-python",
   "name": "python",
   "nbconvert_exporter": "python",
   "pygments_lexer": "ipython3",
   "version": "3.8.6"
  }
 },
 "nbformat": 4,
 "nbformat_minor": 4
}
