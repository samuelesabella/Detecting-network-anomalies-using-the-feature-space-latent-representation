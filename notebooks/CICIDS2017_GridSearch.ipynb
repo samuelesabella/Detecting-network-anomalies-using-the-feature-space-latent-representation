{
 "cells": [
  {
   "cell_type": "code",
   "execution_count": 33,
   "metadata": {},
   "outputs": [],
   "source": [
    "import sys\n",
    "import os\n",
    "import pandas as pd\n",
    "from pathlib import Path\n",
    "import re\n",
    "\n",
    "\n",
    "def replace_cname(df, oldname, newname):\n",
    "    new_names = { c: c.replace(oldname, newname) for c in df.columns if oldname in c}\n",
    "    return df.rename(columns=new_names)"
   ]
  },
  {
   "cell_type": "code",
   "execution_count": 17,
   "metadata": {},
   "outputs": [],
   "source": [
    "grid_search = pd.DataFrame()\n",
    "\n",
    "RES_PATH = Path(f\"../res/\")\n",
    "files = [os.path.join(path, name) for path, subdirs, files in os.walk(RES_PATH) for name in files]\n",
    "grid_files = filter(lambda x: \"gridSearch\" in x, files)\n",
    "\n",
    "for f in grid_files:\n",
    "    if \"gridSearch\" not in f:\n",
    "        continue\n",
    "    df = pd.read_pickle(RES_PATH / f)\n",
    "    \n",
    "    additional_features = f.replace(\".pkl\", \"\").split(\"__\")[1:]\n",
    "    additional_features = map(lambda x: x.split(\"_\"), additional_features)\n",
    "    \n",
    "    for f, v in additional_features:\n",
    "        df[f\"param_{f}\"] = v\n",
    "        \n",
    "    grid_search = pd.concat([grid_search, df], ignore_index=True)"
   ]
  },
  {
   "cell_type": "code",
   "execution_count": 30,
   "metadata": {},
   "outputs": [],
   "source": [
    "best_results = grid_search.sort_values(\"mean_test_score\", ascending=True)\n",
    "best_results = best_results.groupby(\"param_discretized\").head(5)\n",
    "\n",
    "best_results = best_results.drop(columns=[\"params\", \"param_features\", \n",
    "                                          \"param_module__input_size\", \"param_overlapping\",\n",
    "                                          \"param_ctxlen\", \"param_discretized\"])\n",
    "features_cols = [c for c in best_results.columns if \"param\" in c]\n",
    "best_results = best_results[features_cols + [\"mean_test_score\"]]\n",
    "\n",
    "best_results = replace_cname(best_results, \"_\", \" \")\n",
    "best_results = replace_cname(best_results, \"param\", \"\")\n",
    "best_results = replace_cname(best_results, \"module\", \"\")"
   ]
  },
  {
   "cell_type": "code",
   "execution_count": 1,
   "metadata": {},
   "outputs": [
    {
     "ename": "NameError",
     "evalue": "name 'best_results' is not defined",
     "output_type": "error",
     "traceback": [
      "\u001b[0;31m---------------------------------------------------------------------------\u001b[0m",
      "\u001b[0;31mNameError\u001b[0m                                 Traceback (most recent call last)",
      "\u001b[0;32m<ipython-input-1-d9a41aaf5cee>\u001b[0m in \u001b[0;36m<module>\u001b[0;34m\u001b[0m\n\u001b[0;32m----> 1\u001b[0;31m \u001b[0mlatex_str\u001b[0m \u001b[0;34m=\u001b[0m \u001b[0mbest_results\u001b[0m\u001b[0;34m.\u001b[0m\u001b[0mto_latex\u001b[0m\u001b[0;34m(\u001b[0m\u001b[0mindex\u001b[0m\u001b[0;34m=\u001b[0m\u001b[0;32mFalse\u001b[0m\u001b[0;34m,\u001b[0m \u001b[0mfloat_format\u001b[0m\u001b[0;34m=\u001b[0m\u001b[0;34m\"%.3f\"\u001b[0m\u001b[0;34m)\u001b[0m\u001b[0;34m\u001b[0m\u001b[0;34m\u001b[0m\u001b[0m\n\u001b[0m\u001b[1;32m      2\u001b[0m \u001b[0mprint\u001b[0m\u001b[0;34m(\u001b[0m\u001b[0mre\u001b[0m\u001b[0;34m.\u001b[0m\u001b[0msub\u001b[0m\u001b[0;34m(\u001b[0m\u001b[0;34m' +'\u001b[0m\u001b[0;34m,\u001b[0m\u001b[0;34m' '\u001b[0m\u001b[0;34m,\u001b[0m \u001b[0mlatex_str\u001b[0m\u001b[0;34m)\u001b[0m\u001b[0;34m)\u001b[0m\u001b[0;34m\u001b[0m\u001b[0;34m\u001b[0m\u001b[0m\n",
      "\u001b[0;31mNameError\u001b[0m: name 'best_results' is not defined"
     ]
    }
   ],
   "source": [
    "latex_str = best_results.to_latex(index=False, float_format=\"%.3f\")\n",
    "print(re.sub(' +',' ', latex_str))"
   ]
  },
  {
   "cell_type": "code",
   "execution_count": null,
   "metadata": {},
   "outputs": [],
   "source": []
  }
 ],
 "metadata": {
  "kernelspec": {
   "display_name": "Python 3",
   "language": "python",
   "name": "python3"
  },
  "language_info": {
   "codemirror_mode": {
    "name": "ipython",
    "version": 3
   },
   "file_extension": ".py",
   "mimetype": "text/x-python",
   "name": "python",
   "nbconvert_exporter": "python",
   "pygments_lexer": "ipython3",
   "version": "3.8.6"
  }
 },
 "nbformat": 4,
 "nbformat_minor": 4
}
