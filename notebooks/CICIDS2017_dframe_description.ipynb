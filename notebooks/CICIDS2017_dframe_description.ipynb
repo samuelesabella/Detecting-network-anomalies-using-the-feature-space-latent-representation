{
 "cells": [
  {
   "cell_type": "code",
   "execution_count": null,
   "metadata": {},
   "outputs": [],
   "source": [
    "import warnings\n",
    "from ipywidgets import Button, Layout\n",
    "# warnings.filterwarnings(\"ignore\")\n",
    "import pandas as pd\n",
    "import matplotlib.patches as mpatches\n",
    "from pprint import pprint\n",
    "import numpy as np\n",
    "from ipywidgets import HBox, VBox, interactive\n",
    "from collections import defaultdict\n",
    "import matplotlib.pyplot as plt\n",
    "import matplotlib.ticker as ticker\n",
    "import matplotlib.dates as mdates\n",
    "from IPython.display import display, Markdown\n",
    "import ipywidgets as widgets\n",
    "import math\n",
    "from ipywidgets import interact, interact_manual\n",
    "from IPython.display import set_matplotlib_formats\n",
    "import sys\n",
    "import os\n",
    "from importlib import reload\n",
    "from tqdm import tqdm\n",
    "sys.path.insert(0, os.path.abspath('../tesi_sabella'))\n",
    "import cicids2017_data_generator as cicids2017\n",
    "\n",
    "reload(cicids2017)\n",
    "pd.set_option('display.max_rows', 500)\n",
    "pd.set_option('float_format', '{:.4f}'.format)\n",
    "# plt.rcParams.update({'font.size': 28})"
   ]
  },
  {
   "cell_type": "code",
   "execution_count": null,
   "metadata": {},
   "outputs": [],
   "source": [
    "df = pd.read_pickle(f'../dataset/CICIDS2017_labeled.pkl')"
   ]
  },
  {
   "cell_type": "code",
   "execution_count": 3,
   "metadata": {},
   "outputs": [],
   "source": [
    "def mprint(s):\n",
    "    display(Markdown(s))\n",
    "    \n",
    "\n",
    "def describe_mtimeseries(key, mtimeserie):\n",
    "    mprint(f\"### {key}\")\n",
    "    # Data description ..... #\n",
    "    start = min(mtimeserie.index)\n",
    "    end = max(mtimeserie.index)\n",
    "    mprint(f\"**Time range**: {start} **/** {end}\")\n",
    "    mprint(f\"**Total data range:** {end-start}\")\n",
    "    mprint(f\"**Samples shown**: {len(mtimeserie)}\")\n",
    "\n",
    "    # Plotting clean data ..... #\n",
    "    empty_cols = []\n",
    "    for idx, c in enumerate(mtimeserie.columns):\n",
    "        if (mtimeserie[c] == 0).all(): \n",
    "            empty_cols.append(c)\n",
    "            continue\n",
    "        plt.figure()\n",
    "        mtimeserie[c].plot(label=c, figsize=(8, 4))\n",
    "        plt.gcf().suptitle(f\"{key}\")\n",
    "        plt.legend()\n",
    "        plt.show()\n",
    "    for c in empty_cols:\n",
    "        mprint(f\"**<span style='color: red'>Empty series:</span> {c}**\")\n",
    "    \n",
    "    mprint(f\"<br>{'-'*50}<br>{'-'*50}<br>\")"
   ]
  },
  {
   "cell_type": "markdown",
   "metadata": {},
   "source": [
    "# Deltas"
   ]
  },
  {
   "cell_type": "code",
   "execution_count": 5,
   "metadata": {},
   "outputs": [
    {
     "name": "stdout",
     "output_type": "stream",
     "text": [
      "pc:192.168.10.25 / 2017-07-03 13:55:21.868211 to 2017-07-03 16:10:36.868211\n",
      "pc:192.168.10.25 / 2017-07-06 12:42:01.364662192 to 2017-07-06 13:42:06.364662192\n",
      "server:205.174.165.68 / 2017-07-05 11:42:12.745452 to 2017-07-05 14:12:17.745452\n",
      "server:205.174.165.68 / 2017-07-05 14:42:12.745452 to 2017-07-05 14:57:17.745452\n",
      "server:205.174.165.68 / 2017-07-05 15:27:12.745452 to 2017-07-07 15:44:18.784343942\n",
      "unknown device class:205.174.165.65 / 2017-07-03 09:40:21.868211 to 2017-07-06 14:27:06.364662192\n",
      "unknown device class:205.174.165.73 / 2017-07-06 15:57:01.364662192 to 2017-07-06 16:57:06.364662192\n"
     ]
    }
   ],
   "source": [
    "min_delta = np.timedelta64(15, \"s\")\n",
    "\n",
    "host_groups = df.groupby(['device_category', 'host'])\n",
    "for (c, h), host_samples in host_groups:\n",
    "    times = host_samples.index.get_level_values(\"_time\").sort_values(ascending=True)\n",
    "    delta = times.to_series().diff()[1:]\n",
    "    delta_gap = filter(lambda x: x[1] > min_delta, enumerate(delta))\n",
    "\n",
    "    for (i, gap) in delta_gap:\n",
    "        if times[i].hour == 17:\n",
    "            continue\n",
    "        print(f\"{c}:{h} / {times[i]} to {times[i+1]}\")"
   ]
  },
  {
   "cell_type": "markdown",
   "metadata": {},
   "source": [
    "# Plotting"
   ]
  },
  {
   "cell_type": "markdown",
   "metadata": {},
   "source": [
    "We preprocess the data before showing it"
   ]
  },
  {
   "cell_type": "code",
   "execution_count": 4,
   "metadata": {},
   "outputs": [
    {
     "name": "stderr",
     "output_type": "stream",
     "text": [
      "/Users/swedishhdcamera/Desktop/Projects/tesi_sabella/venv/lib/python3.7/site-packages/IPython/core/interactiveshell.py:3063: PerformanceWarning: indexing past lexsort depth may impact performance.\n",
      "  interactivity=interactivity, compiler=compiler, result=result)\n",
      "/Users/swedishhdcamera/Desktop/Projects/tesi_sabella/venv/lib/python3.7/site-packages/IPython/core/async_helpers.py:68: PerformanceWarning: indexing past lexsort depth may impact performance.\n",
      "  coro.send(None)\n"
     ]
    }
   ],
   "source": [
    "df = cicids2017.cicids2017_preprocessing(df)"
   ]
  },
  {
   "cell_type": "code",
   "execution_count": 5,
   "metadata": {},
   "outputs": [
    {
     "data": {
      "application/vnd.jupyter.widget-view+json": {
       "model_id": "a228d0abb7594c9ba4731f28d92b61df",
       "version_major": 2,
       "version_minor": 0
      },
      "text/plain": [
       "VBox(children=(HBox(children=(Dropdown(description='device', index=11, options=('192.168.10.1 (unknown device …"
      ]
     },
     "metadata": {},
     "output_type": "display_data"
    },
    {
     "data": {
      "application/vnd.jupyter.widget-view+json": {
       "model_id": "ac963455219743858afbe5897996b762",
       "version_major": 2,
       "version_minor": 0
      },
      "text/plain": [
       "Output()"
      ]
     },
     "metadata": {},
     "output_type": "display_data"
    }
   ],
   "source": [
    "%matplotlib inline\n",
    "set_matplotlib_formats('svg')\n",
    "\n",
    "days = {\n",
    "    \"Monday\": 0,\n",
    "    \"Tuesday\": 1,\n",
    "    \"Wednesday\": 2,\n",
    "    \"Tursday\": 3,\n",
    "    \"Friday\": 4}\n",
    "\n",
    "idxs = df.index.droplevel(2).unique()\n",
    "all_devices = [f\"{host} ({cat})\" for cat, host in idxs]\n",
    "all_devices.sort()\n",
    "cols = list(df.columns)\n",
    "cols.sort()\n",
    "\n",
    "\n",
    "# ----- ----- WIDGETS ----- ----- #\n",
    "# ----- ----- ------- ----- ----- #\n",
    "device_w_list = widgets.Dropdown(options=all_devices,\n",
    "                                 value=\"192.168.10.50 (server)\")\n",
    "days_w_list = widgets.Dropdown(options=list(days.keys()),\n",
    "                               value=\"Monday\")\n",
    "selectedc_w_list = widgets.SelectMultiple(options=cols,\n",
    "                                          value=[\"traffic:bytes_rcvd\"],\n",
    "                                          description='Features',\n",
    "                                          layout=Layout(width='400px'))\n",
    "showall_checkbox = widgets.Checkbox(value=False, description='Show all')\n",
    "timerange_slider = widgets.FloatSlider(min=.01, max=1., step=.01)\n",
    "offset_slider = widgets.FloatSlider(min=.0, max=1., step=.01)\n",
    "ts_selector = HBox([device_w_list, days_w_list])\n",
    "col_selector = HBox([selectedc_w_list, showall_checkbox])\n",
    "ts_shifting = HBox([timerange_slider, offset_slider])\n",
    "wlist = VBox([ts_selector, col_selector, ts_shifting])\n",
    "\n",
    "\n",
    "# ----- ----- INTERACTOR ----- ----- #\n",
    "# ----- ----- ------- ----- ----- #\n",
    "def whandler(device, day, column, showall, trange, offset):\n",
    "    split = device.split(\" \")\n",
    "    columns = list(column)\n",
    "    host = split[0].strip()\n",
    "    category = \" \".join(split[1:]).replace(\"(\", \"\").replace(\")\", \"\").strip()\n",
    "    host_ts = df.loc[category, host]\n",
    "    # Filterign day of week\n",
    "    host_ts = host_ts[host_ts.index.dayofweek==days[day]]\n",
    "    # Filtering time range\n",
    "    ts_len = len(host_ts)\n",
    "    start_idx = int(ts_len * offset)\n",
    "    end_idx = min(start_idx + int(ts_len * trange), ts_len)\n",
    "    \n",
    "    selected_features = cols if showall else columns\n",
    "    describe_mtimeseries(device.strip(), host_ts.iloc[start_idx:end_idx][selected_features])\n",
    "\n",
    "\n",
    "\n",
    "output = widgets.interactive(whandler,\n",
    "                        device=device_w_list, day=days_w_list, \n",
    "                        column=selectedc_w_list, showall=showall_checkbox, \n",
    "                        trange=timerange_slider, offset=offset_slider).children[-1]\n",
    "display(wlist)\n",
    "display(output)"
   ]
  },
  {
   "cell_type": "code",
   "execution_count": null,
   "metadata": {},
   "outputs": [],
   "source": []
  }
 ],
 "metadata": {
  "kernelspec": {
   "display_name": "Python 3",
   "language": "python",
   "name": "python3"
  },
  "language_info": {
   "codemirror_mode": {
    "name": "ipython",
    "version": 3
   },
   "file_extension": ".py",
   "mimetype": "text/x-python",
   "name": "python",
   "nbconvert_exporter": "python",
   "pygments_lexer": "ipython3",
   "version": "3.7.5"
  }
 },
 "nbformat": 4,
 "nbformat_minor": 4
}
