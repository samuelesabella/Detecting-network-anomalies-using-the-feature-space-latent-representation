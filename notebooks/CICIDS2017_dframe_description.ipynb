{
 "cells": [
  {
   "cell_type": "code",
   "execution_count": 21,
   "metadata": {},
   "outputs": [],
   "source": [
    "import warnings\n",
    "warnings.filterwarnings(\"ignore\")\n",
    "import pandas as pd\n",
    "import matplotlib.patches as mpatches\n",
    "from pprint import pprint\n",
    "import numpy as np\n",
    "from collections import defaultdict\n",
    "import matplotlib.pyplot as plt\n",
    "import matplotlib.ticker as ticker\n",
    "import matplotlib.dates as mdates\n",
    "from IPython.display import display, Markdown\n",
    "import ipywidgets as widgets\n",
    "from ipywidgets import interact, interact_manual\n",
    "\n",
    "pd.set_option('float_format', '{:.2f}'.format)\n",
    "# plt.rcParams.update({'font.size': 28})"
   ]
  },
  {
   "cell_type": "code",
   "execution_count": 17,
   "metadata": {},
   "outputs": [],
   "source": [
    "# Constants ----- #\n",
    "BUCKET = 'CIC_IDS_2017_Monday'"
   ]
  },
  {
   "cell_type": "code",
   "execution_count": 122,
   "metadata": {},
   "outputs": [],
   "source": [
    "# Functions ----- #\n",
    "def mprint(s):\n",
    "    display(Markdown(s))\n",
    "    \n",
    "\n",
    "def describe_mtimeseries(key, mtimeserie):\n",
    "    mprint(f\"### {key}\")\n",
    "    # Data description ..... #\n",
    "    start = min(mtimeserie.index)\n",
    "    end = max(mtimeserie.index)\n",
    "    mprint(f\"**Time range**: {start} **/** {end}\")\n",
    "    mprint(f\"**Total data range:** {end-start}\")\n",
    "    mprint(f\"**Samples shown**: {len(mtimeserie)}\")\n",
    "    # Time deltas ..... #\n",
    "    #delta = np.diff(np.sort(mtimeserie.index.values))\n",
    "    #blind_spot = [(i, x_delta) for (i, x_delta) in enumerate(delta)]\n",
    "    #blind_spot = [mtimeserie.index[i:i+2] for i, x_delta in blind_spot]\n",
    "    #blind_spot = list(filter(lambda x: x[1]-x[0] > pd.Timedelta(seconds=30), blind_spot))\n",
    "    # Description ..... #\n",
    "    #display(mtimeserie.describe())\n",
    "    # Scaling ..... #\n",
    "    clean_scaled_ts = mtimeserie - mtimeserie.min()\n",
    "    clean_scaled_ts /= (mtimeserie.max()-mtimeserie.min())+1e-7\n",
    "    # Plotting clean data ..... #\n",
    "    axes = clean_scaled_ts.plot(subplots=True)\n",
    "    # clean_scaled_ts.plot(subplots=True, figsize=(12,150))\n",
    "    # Plotting blind spots ..... #\n",
    "    #for ax in axes:\n",
    "    #    for (bstart, bend) in blind_spot:\n",
    "    #        ax.axvspan(bstart, bend, color='grey', alpha=0.5)\n",
    "    #        handles, labels = ax.get_legend_handles_labels()\n",
    "    #        patch = mpatches.Patch(color='grey', label='Missing')\n",
    "    #        handles.append(patch) \n",
    "    #        ax.legend(handles=handles, loc='upper center')\n",
    "    # Titles and save ..... #\n",
    "    plt.gcf().suptitle(key)\n",
    "    # plt.savefig(f'imgs/{bucket}_{key}.png')\n",
    "    plt.show()\n",
    "    \n",
    "    mprint(f\"<br>{'-'*50}<br>{'-'*50}<br>\")"
   ]
  },
  {
   "cell_type": "markdown",
   "metadata": {},
   "source": [
    "# Plotting"
   ]
  },
  {
   "cell_type": "code",
   "execution_count": 123,
   "metadata": {},
   "outputs": [],
   "source": [
    "df = pd.read_pickle(f'../dataset/CIC-IDS-2017-dframes/{BUCKET}.pkl')\n",
    "\n",
    "plots_series = [\n",
    "    'active_flows:flows_as_client', \n",
    "    'active_flows:flows_as_server',\n",
    "    'contacts:num_as_client', \n",
    "    'contacts:num_as_server'\n",
    "]\n",
    "\n",
    "idxs = df.index.droplevel(2).unique()\n",
    "devices = [f\"{host} ({cat})\" for cat, host in idxs]\n",
    "devices.sort()\n",
    "cols = list(df.columns)\n",
    "cols.sort()"
   ]
  },
  {
   "cell_type": "code",
   "execution_count": 124,
   "metadata": {},
   "outputs": [
    {
     "data": {
      "application/vnd.jupyter.widget-view+json": {
       "model_id": "b7281e65b68e45c0acf5795ca9486647",
       "version_major": 2,
       "version_minor": 0
      },
      "text/plain": [
       "interactive(children=(Dropdown(description='device', options=('192.168.10.1 (unknown device class)', '192.168.…"
      ]
     },
     "metadata": {},
     "output_type": "display_data"
    }
   ],
   "source": [
    "cols = list(df.columns)\n",
    "cols.sort()\n",
    "\n",
    "@interact\n",
    "def show_articles_more_than(device=devices, \n",
    "                            columns=widgets.SelectMultiple(\n",
    "                                options=cols,\n",
    "                                value=cols[:1],\n",
    "                                description='Features',\n",
    "                                disabled=False\n",
    "                            ),\n",
    "                            trange=widgets.FloatSlider(min=.05, max=1., step=.05),\n",
    "                            offset=widgets.FloatSlider(min=.0, max=1., step=.05)):\n",
    "    split = device.split(\" \")\n",
    "    columns = list(columns)\n",
    "    host = split[0].strip()\n",
    "    category = \" \".join(split[1:]).replace(\"(\", \"\").replace(\")\", \"\").strip()\n",
    "    \n",
    "    host_ts = df.loc[category, host]\n",
    "    ts_len = len(host_ts)\n",
    "    start_idx = int(ts_len * offset)\n",
    "    end_idx = min(start_idx + int(ts_len * trange), ts_len)\n",
    "    \n",
    "    \n",
    "    describe_mtimeseries(device.strip(), host_ts.iloc[start_idx:end_idx][columns])"
   ]
  },
  {
   "cell_type": "code",
   "execution_count": null,
   "metadata": {},
   "outputs": [],
   "source": []
  }
 ],
 "metadata": {
  "kernelspec": {
   "display_name": "Python 3",
   "language": "python",
   "name": "python3"
  },
  "language_info": {
   "codemirror_mode": {
    "name": "ipython",
    "version": 3
   },
   "file_extension": ".py",
   "mimetype": "text/x-python",
   "name": "python",
   "nbconvert_exporter": "python",
   "pygments_lexer": "ipython3",
   "version": "3.7.5"
  }
 },
 "nbformat": 4,
 "nbformat_minor": 4
}
