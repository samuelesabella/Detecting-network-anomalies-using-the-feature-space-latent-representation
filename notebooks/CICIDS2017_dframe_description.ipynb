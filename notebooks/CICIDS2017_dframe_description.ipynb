{
 "cells": [
  {
   "cell_type": "code",
   "execution_count": 106,
   "metadata": {},
   "outputs": [],
   "source": [
    "import warnings\n",
    "from ipywidgets import Button, Layout\n",
    "warnings.filterwarnings(\"ignore\")\n",
    "import pandas as pd\n",
    "import matplotlib.patches as mpatches\n",
    "from pprint import pprint\n",
    "import numpy as np\n",
    "from collections import defaultdict\n",
    "import matplotlib.pyplot as plt\n",
    "import matplotlib.ticker as ticker\n",
    "import matplotlib.dates as mdates\n",
    "from IPython.display import display, Markdown\n",
    "import ipywidgets as widgets\n",
    "import math\n",
    "from ipywidgets import interact, interact_manual\n",
    "from IPython.display import set_matplotlib_formats\n",
    "\n",
    "pd.set_option('float_format', '{:.4f}'.format)\n",
    "# plt.rcParams.update({'font.size': 28})"
   ]
  },
  {
   "cell_type": "code",
   "execution_count": 13,
   "metadata": {},
   "outputs": [],
   "source": [
    "# Constants ----- #\n",
    "BUCKET = 'CIC_IDS_2017_Monday_no_delta'"
   ]
  },
  {
   "cell_type": "code",
   "execution_count": 14,
   "metadata": {},
   "outputs": [],
   "source": [
    "# Functions ----- #\n",
    "def mprint(s):\n",
    "    display(Markdown(s))\n",
    "    \n",
    "\n",
    "def describe_mtimeseries(key, mtimeserie):\n",
    "    mprint(f\"### {key}\")\n",
    "    # Data description ..... #\n",
    "    start = min(mtimeserie.index)\n",
    "    end = max(mtimeserie.index)\n",
    "    mprint(f\"**Time range**: {start} **/** {end}\")\n",
    "    mprint(f\"**Total data range:** {end-start}\")\n",
    "    mprint(f\"**Samples shown**: {len(mtimeserie)}\")\n",
    "    # Scaling ..... #\n",
    "    scaled_ts = mtimeserie - mtimeserie.min()\n",
    "    scaled_ts /= (mtimeserie.max()-mtimeserie.min())+1e-7\n",
    "    \n",
    "    # Plotting clean data ..... #\n",
    "    empty_cols = []\n",
    "    for idx, c in enumerate(mtimeserie.columns):\n",
    "        if (scaled_ts[c] == 0).all(): \n",
    "            empty_cols.append(c)\n",
    "            continue\n",
    "        plt.figure()\n",
    "        scaled_ts[c].plot(label=c, figsize=(8, 4))\n",
    "        plt.gcf().suptitle(f\"{key}\")\n",
    "        plt.legend()\n",
    "        plt.show()\n",
    "    for c in empty_cols:\n",
    "        mprint(f\"**<span style='color: red'>Empty series:</span> {c}**\")\n",
    "    \n",
    "    mprint(f\"<br>{'-'*50}<br>{'-'*50}<br>\")"
   ]
  },
  {
   "cell_type": "markdown",
   "metadata": {},
   "source": [
    "# Plotting"
   ]
  },
  {
   "cell_type": "code",
   "execution_count": 15,
   "metadata": {},
   "outputs": [],
   "source": [
    "df = pd.read_pickle(f'../dataset/CIC-IDS-2017-dframes/{BUCKET}.pkl')\n",
    "\n",
    "idxs = df.index.droplevel(2).unique()\n",
    "devices = [f\"{host} ({cat})\" for cat, host in idxs]\n",
    "devices.sort()\n",
    "cols = list(df.columns)\n",
    "cols.sort()"
   ]
  },
  {
   "cell_type": "code",
   "execution_count": 16,
   "metadata": {},
   "outputs": [
    {
     "data": {
      "application/vnd.jupyter.widget-view+json": {
       "model_id": "8b37212a90354e47a24fe061af54c97f",
       "version_major": 2,
       "version_minor": 0
      },
      "text/plain": [
       "interactive(children=(Dropdown(description='device', options=('192.168.10.1 (unknown device class)', '192.168.…"
      ]
     },
     "metadata": {},
     "output_type": "display_data"
    }
   ],
   "source": [
    "%matplotlib inline\n",
    "set_matplotlib_formats('svg')\n",
    "\n",
    "cols = list(df.columns)\n",
    "cols.sort()\n",
    "\n",
    "@interact\n",
    "def show_articles_more_than(device=devices, \n",
    "                            selected_columns=widgets.SelectMultiple(\n",
    "                                options=cols,\n",
    "                                value=cols[:1],\n",
    "                                description='Features',\n",
    "                                layout=Layout(width='400px')\n",
    "                            ),\n",
    "                            showall=widgets.Checkbox(value=False, description='Show all'),\n",
    "                            trange=widgets.FloatSlider(min=.05, max=1., step=.05),\n",
    "                            offset=widgets.FloatSlider(min=.0, max=1., step=.05)):\n",
    "    split = device.split(\" \")\n",
    "    columns = list(selected_columns)\n",
    "    host = split[0].strip()\n",
    "    category = \" \".join(split[1:]).replace(\"(\", \"\").replace(\")\", \"\").strip()\n",
    "    \n",
    "    host_ts = df.loc[category, host]\n",
    "    ts_len = len(host_ts)\n",
    "    start_idx = int(ts_len * offset)\n",
    "    end_idx = min(start_idx + int(ts_len * trange), ts_len)\n",
    "    \n",
    "    selected_features = cols if showall else columns\n",
    "    describe_mtimeseries(device.strip(), host_ts.iloc[start_idx:end_idx][selected_features])"
   ]
  },
  {
   "cell_type": "markdown",
   "metadata": {},
   "source": [
    "<br><br><br><br>"
   ]
  },
  {
   "cell_type": "code",
   "execution_count": 168,
   "metadata": {},
   "outputs": [],
   "source": [
    "df = pd.read_pickle(f'../dataset/CIC-IDS-2017-dframes/{BUCKET}.pkl')"
   ]
  },
  {
   "cell_type": "code",
   "execution_count": 169,
   "metadata": {},
   "outputs": [],
   "source": [
    "ndpi_cols = [c for c in df.columns if \"ndpi\" in c]\n",
    "ndpi_subcols = []\n",
    "ndpi_subcols.append([c for c in ndpi_cols if \"rcvd\" in c])\n",
    "ndpi_subcols.append([c for c in ndpi_cols if \"sent\" in c])\n",
    "ndpi_subcols.append([c for c in ndpi_cols if \"num_flows\" in c])\n",
    "\n",
    "for ndpi_subc in ndpi_subcols:\n",
    "    ndpi = df[ndpi_subc]\n",
    "    ndpi_sum = ndpi.sum(axis=1)\n",
    "    df.loc[:, ndpi_subc] = ndpi.divide(ndpi_sum, axis=0)"
   ]
  },
  {
   "cell_type": "code",
   "execution_count": 183,
   "metadata": {},
   "outputs": [],
   "source": [
    "other_cols = [c for c in df.columns if c not in ndpi_cols]\n",
    "other_cols_min = df[other_cols].min()\n",
    "other_cols_max = df[other_cols].max()\n",
    "df.loc[:, other_cols] = (df.loc[:, other_cols] - other_cols_min) / (other_cols_max - other_cols_min)"
   ]
  },
  {
   "cell_type": "code",
   "execution_count": null,
   "metadata": {},
   "outputs": [],
   "source": []
  }
 ],
 "metadata": {
  "kernelspec": {
   "display_name": "Python 3",
   "language": "python",
   "name": "python3"
  },
  "language_info": {
   "codemirror_mode": {
    "name": "ipython",
    "version": 3
   },
   "file_extension": ".py",
   "mimetype": "text/x-python",
   "name": "python",
   "nbconvert_exporter": "python",
   "pygments_lexer": "ipython3",
   "version": "3.7.5"
  }
 },
 "nbformat": 4,
 "nbformat_minor": 4
}
