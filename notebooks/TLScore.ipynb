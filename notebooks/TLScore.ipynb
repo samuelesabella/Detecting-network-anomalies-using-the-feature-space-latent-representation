{
 "cells": [
  {
   "cell_type": "code",
   "execution_count": 3,
   "metadata": {},
   "outputs": [],
   "source": [
    "import sys\n",
    "import os\n",
    "sys.path.insert(0, os.path.abspath('../src/'))"
   ]
  },
  {
   "cell_type": "markdown",
   "metadata": {},
   "source": [
    "### Computing t-SNE"
   ]
  },
  {
   "cell_type": "code",
   "execution_count": 5,
   "metadata": {},
   "outputs": [
    {
     "name": "stderr",
     "output_type": "stream",
     "text": [
      "/Users/swedishhdcamera/Desktop/Projects/tesi_sabella/venv/lib/python3.8/site-packages/skorch/dataset.py:267: FutureWarning: Setting a random_state has no effect since cv is not a float. This will raise an error in a future. You should leave random_state to its default (None), or set cv to a float value.\n",
      "  warnings.warn(\n"
     ]
    }
   ],
   "source": [
    "import cicids2017\n",
    "import numpy as np\n",
    "from pathlib import Path\n",
    "import pandas as pd\n",
    "from sklearn.manifold import TSNE\n",
    "from umap import UMAP\n",
    "\n",
    "\n",
    "RES_PATH = \"BestGruLinearTL\"\n",
    "MODELPATH = Path(f\"../res/{RES_PATH}/GruLinearTL.torch\")\n",
    "# DATASETPATH_CACHE = Path(f\"../res/{RES_PATH}/cache\")\n",
    "DATASETPATH_CACHE = Path(f\"../dataset/cache\")\n",
    "DATASETPATH = Path(\"../dataset/CICIDS2017_ntop.pkl\")\n",
    "TARGET_DSET = \"DT\"\n",
    "\n",
    "\n",
    "netdata = []\n",
    "df = cicids2017.load_dataset(DATASETPATH_CACHE)[TARGET_DSET]\n",
    "days = np.unique(df.index.get_level_values(\"_time\").day)\n",
    "for d in days:\n",
    "    daily_df = df[df.index.get_level_values(\"_time\").day == d]\n",
    "    netdata.append(daily_df)\n",
    "\n",
    "\n",
    "net = cicids2017.configureAnchor(None, df, checkpoint=MODELPATH)\n",
    "netdata = net.pointwise_embedding(netdata)\n",
    "netdata = pd.concat(netdata)\n",
    "\n",
    "\n",
    "# Remove truncated embeddings\n",
    "netdata = netdata.loc[netdata[\"_embedding\"].dropna().index]\n",
    "tsne_input = np.stack(netdata[\"_embedding\"].values)\n",
    "netdata[\"_ebs2D\"] = list(TSNE(n_components=2).fit_transform(tsne_input))"
   ]
  },
  {
   "cell_type": "markdown",
   "metadata": {},
   "source": [
    "### DBScan"
   ]
  },
  {
   "cell_type": "code",
   "execution_count": 6,
   "metadata": {},
   "outputs": [],
   "source": [
    "from sklearn.cluster import DBSCAN\n",
    "\n",
    "cluster_algorithm = DBSCAN(eps=4, min_samples=5)\n",
    "\n",
    "cluster_str = str(cluster_algorithm).split('(')[0]\n",
    "clustering_input = np.stack(netdata[\"_ebs2D\"].values)\n",
    "clustering = cluster_algorithm.fit(clustering_input)\n",
    "netdata[\"_clustering\"] = clustering.labels_.astype(str)"
   ]
  },
  {
   "cell_type": "markdown",
   "metadata": {},
   "source": [
    "### Anomaly detection"
   ]
  },
  {
   "cell_type": "code",
   "execution_count": 30,
   "metadata": {},
   "outputs": [],
   "source": [
    "normal_cluster = netdata[\"_clustering\"].mode().iloc[0]\n",
    "netdata[\"_yhat\"] = (netdata[\"_clustering\"] == normal_cluster)\n",
    "Y = netdata[\"_isanomaly\"]\n",
    "Y = (Y==\"none\").replace({True: 0, False: 1}).values\n",
    "y_hat = netdata[\"_yhat\"].replace({True: 0, False: 1}).values"
   ]
  },
  {
   "cell_type": "code",
   "execution_count": 31,
   "metadata": {},
   "outputs": [
    {
     "name": "stdout",
     "output_type": "stream",
     "text": [
      "roc_auc_score(moday+attacks): 0.8456554406703033\n",
      "precision_score(moday+attacks): 0.8046934140802422\n",
      "recall_score(moday+attacks): 0.7241144414168937\n",
      "accuracy_score(moday+attacks): 0.9289617486338798\n",
      "f1_score(moday+attacks): 0.7622803872355683\n",
      "\n",
      " Confusion matrix\n",
      "\ttp: 0.11389692489017465 \tfp: 0.027643844423015106 \n",
      "\tfn: 0.04339440694310511 \ttn: 0.8150648237437051\n"
     ]
    }
   ],
   "source": [
    "from sklearn import metrics\n",
    "\n",
    "# report = metrics.classification_report(y_attacks, y_hat)\n",
    "metrics_rep = [ metrics.roc_auc_score,\n",
    "                metrics.precision_score, metrics.recall_score,\n",
    "                metrics.accuracy_score, metrics.f1_score]\n",
    "for m in metrics_rep:\n",
    "    mres = m(Y, y_hat)\n",
    "    print(f\"{m.__name__}(moday+attacks): {mres}\")\n",
    "\n",
    "tn, fp, fn, tp = metrics.confusion_matrix(Y, y_hat, normalize=\"all\").ravel()\n",
    "print(\"\\n Confusion matrix\")\n",
    "print(f\"\\ttp: {tp} \\tfp: {fp} \\n\\tfn: {fn} \\ttn: {tn}\")\n",
    "# print(f\"\\n{report}\")"
   ]
  },
  {
   "cell_type": "code",
   "execution_count": null,
   "metadata": {},
   "outputs": [],
   "source": []
  }
 ],
 "metadata": {
  "kernelspec": {
   "display_name": "Python 3",
   "language": "python",
   "name": "python3"
  },
  "language_info": {
   "codemirror_mode": {
    "name": "ipython",
    "version": 3
   },
   "file_extension": ".py",
   "mimetype": "text/x-python",
   "name": "python",
   "nbconvert_exporter": "python",
   "pygments_lexer": "ipython3",
   "version": "3.8.6"
  }
 },
 "nbformat": 4,
 "nbformat_minor": 4
}
