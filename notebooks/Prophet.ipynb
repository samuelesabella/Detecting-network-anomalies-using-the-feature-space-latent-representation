{
 "cells": [
  {
   "cell_type": "code",
   "execution_count": 1,
   "metadata": {},
   "outputs": [],
   "source": [
    "import sys\n",
    "import os\n",
    "sys.path.insert(0, os.path.abspath('../src/'))"
   ]
  },
  {
   "cell_type": "markdown",
   "metadata": {},
   "source": [
    "### Data preparationdataset"
   ]
  },
  {
   "cell_type": "code",
   "execution_count": null,
   "metadata": {},
   "outputs": [
    {
     "name": "stderr",
     "output_type": "stream",
     "text": [
      "Importing plotly failed. Interactive plots will not work.\n",
      " 71%|███████▏  | 10/14 [41:32<11:31, 172.97s/it] "
     ]
    }
   ],
   "source": [
    "import cicids2017\n",
    "from pathlib import Path\n",
    "from ProphetStorm import ProphetStorm\n",
    "\n",
    "\n",
    "RES_PATH = \".\"\n",
    "DATASETPATH_CACHE = Path(f\"../dataset/cache\")\n",
    "DATASETPATH = Path(\"../dataset/CICIDS2017_ntop.pkl\")\n",
    "\n",
    "\n",
    "dataset = cicids2017.load_dataset(DATASETPATH_CACHE)\n",
    "ps = ProphetStorm()\n",
    "ps.fit(dataset[\"TR\"])"
   ]
  },
  {
   "cell_type": "markdown",
   "metadata": {},
   "source": [
    "### Training prophet storm"
   ]
  },
  {
   "cell_type": "code",
   "execution_count": null,
   "metadata": {},
   "outputs": [],
   "source": [
    "import pandas as pd\n",
    "\n",
    "dt = dataset[\"DT\"]\n",
    "\n",
    "netdata = ps.isanomaly(dt)\n",
    "Y = pd.concat(dt)[\"_isanomaly\"]\n",
    "Y = (Y==\"none\").replace({True: 0, False: 1}).values\n",
    "y_hat = netdata[\"_y_hat\"].values"
   ]
  },
  {
   "cell_type": "code",
   "execution_count": 6,
   "metadata": {},
   "outputs": [
    {
     "name": "stdout",
     "output_type": "stream",
     "text": [
      "roc_auc_score(moday+attacks): 0.5\n",
      "precision_score(moday+attacks): 0.15090460526315788\n",
      "recall_score(moday+attacks): 1.0\n",
      "accuracy_score(moday+attacks): 0.15090460526315788\n",
      "f1_score(moday+attacks): 0.26223651304037154\n",
      "\n",
      " Confusion matrix\n",
      "\ttp: 0.15090460526315788 \tfp: 0.8490953947368421 \n",
      "\tfn: 0.0 \ttn: 0.0\n"
     ]
    }
   ],
   "source": [
    "from sklearn import metrics\n",
    "\n",
    "\n",
    "metrics_rep = [ metrics.roc_auc_score,\n",
    "                metrics.precision_score, metrics.recall_score,\n",
    "                metrics.accuracy_score, metrics.f1_score]\n",
    "for m in metrics_rep:\n",
    "    mres = m(Y, y_hat)\n",
    "    print(f\"{m.__name__}(moday+attacks): {mres}\")\n",
    "\n",
    "tn, fp, fn, tp = metrics.confusion_matrix(Y, y_hat, normalize=\"all\").ravel()\n",
    "print(\"\\n Confusion matrix\")\n",
    "print(f\"\\ttp: {tp} \\tfp: {fp} \\n\\tfn: {fn} \\ttn: {tn}\")"
   ]
  },
  {
   "cell_type": "code",
   "execution_count": 5,
   "metadata": {},
   "outputs": [
    {
     "name": "stdout",
     "output_type": "stream",
     "text": [
      "CICIDS2017_GridSearch.ipynb        Kitsune.ipynb\n",
      "CICIDS2017_ScoreSigma.ipynb        Prophet.ipynb\n",
      "CICIDS2017_T-SNE_Visualizer.ipynb  RenameMe.png\n",
      "CICIDS2017_VisualizationTool.ipynb TripletLoss.ipynb\n"
     ]
    }
   ],
   "source": [
    "!LS"
   ]
  },
  {
   "cell_type": "code",
   "execution_count": null,
   "metadata": {},
   "outputs": [],
   "source": []
  }
 ],
 "metadata": {
  "kernelspec": {
   "display_name": "Python 3",
   "language": "python",
   "name": "python3"
  },
  "language_info": {
   "codemirror_mode": {
    "name": "ipython",
    "version": 3
   },
   "file_extension": ".py",
   "mimetype": "text/x-python",
   "name": "python",
   "nbconvert_exporter": "python",
   "pygments_lexer": "ipython3",
   "version": "3.8.6"
  }
 },
 "nbformat": 4,
 "nbformat_minor": 4
}
