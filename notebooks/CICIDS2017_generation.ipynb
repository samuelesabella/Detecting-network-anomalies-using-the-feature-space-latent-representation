{
 "cells": [
  {
   "cell_type": "code",
   "execution_count": null,
   "metadata": {},
   "outputs": [],
   "source": [
    "import os\n",
    "import sys\n",
    "import numpy as np\n",
    "from pprint import pprint\n",
    "from tqdm import tqdm\n",
    "import pandas as pd\n",
    "from importlib import reload\n",
    "from IPython.display import display, Markdown\n",
    "\n",
    "sys.path.insert(0, os.path.abspath('../'))\n",
    "pd.options.display.max_rows = 999\n",
    "\n",
    "import tesi_sabella.pyFluxClient.pyfluxclient as flux\n",
    "import tesi_sabella.data_generator as generator\n",
    "\n",
    "\n",
    "def mprint(s):\n",
    "    display(Markdown(s))\n",
    "\n",
    "\n",
    "reload(flux)\n",
    "reload(generator)"
   ]
  },
  {
   "cell_type": "markdown",
   "metadata": {},
   "source": [
    "# Generating time series"
   ]
  },
  {
   "cell_type": "markdown",
   "metadata": {},
   "source": [
    "Create a InfluxDB Flux client and a data-generator that can poll InfluxDB to get new samples. Poll data added in the last 48 hours"
   ]
  },
  {
   "cell_type": "code",
   "execution_count": 2,
   "metadata": {},
   "outputs": [],
   "source": [
    "fclient = flux.FluxClient(); \n",
    "fluxbucket = 'CIC_IDS_2017_Tuesday'\n",
    "start, end = fclient.bucket_timerange(fluxbucket)\n",
    "\n",
    "cicids2017 = generator.ntop_Generator(fluxbucket, '15s', fclient, start)"
   ]
  },
  {
   "cell_type": "markdown",
   "metadata": {},
   "source": [
    "Extract data from influxdb in time intervals due to kill signal"
   ]
  },
  {
   "cell_type": "code",
   "execution_count": 3,
   "metadata": {},
   "outputs": [
    {
     "name": "stderr",
     "output_type": "stream",
     "text": [
      "0it [00:00, ?it/s]"
     ]
    },
    {
     "ename": "ValueError",
     "evalue": "max() arg is an empty sequence",
     "output_type": "error",
     "traceback": [
      "\u001b[0;31m---------------------------------------------------------------------------\u001b[0m",
      "\u001b[0;31mValueError\u001b[0m                                Traceback (most recent call last)",
      "\u001b[0;32m<ipython-input-3-28aeea83b23f>\u001b[0m in \u001b[0;36m<module>\u001b[0;34m\u001b[0m\n\u001b[1;32m      8\u001b[0m \u001b[0;34m\u001b[0m\u001b[0m\n\u001b[1;32m      9\u001b[0m     \u001b[0mlastpoll_end\u001b[0m \u001b[0;34m=\u001b[0m \u001b[0mlastpoll_start\u001b[0m \u001b[0;34m+\u001b[0m \u001b[0mpd\u001b[0m\u001b[0;34m.\u001b[0m\u001b[0mDateOffset\u001b[0m\u001b[0;34m(\u001b[0m\u001b[0mminutes\u001b[0m\u001b[0;34m=\u001b[0m\u001b[0;36m5\u001b[0m\u001b[0;34m)\u001b[0m\u001b[0;34m\u001b[0m\u001b[0;34m\u001b[0m\u001b[0m\n\u001b[0;32m---> 10\u001b[0;31m     \u001b[0mlastpoll_start\u001b[0m \u001b[0;34m=\u001b[0m \u001b[0mcicids2017\u001b[0m\u001b[0;34m.\u001b[0m\u001b[0mpoll\u001b[0m\u001b[0;34m(\u001b[0m\u001b[0mstop\u001b[0m\u001b[0;34m=\u001b[0m\u001b[0mlastpoll_end\u001b[0m\u001b[0;34m)\u001b[0m\u001b[0;34m\u001b[0m\u001b[0;34m\u001b[0m\u001b[0m\n\u001b[0m\u001b[1;32m     11\u001b[0m \u001b[0;34m\u001b[0m\u001b[0m\n\u001b[1;32m     12\u001b[0m     \u001b[0;31m# tqdm ..... #\u001b[0m\u001b[0;34m\u001b[0m\u001b[0;34m\u001b[0m\u001b[0;34m\u001b[0m\u001b[0m\n",
      "\u001b[0;32m~/Desktop/Projects/tesi_sabella/tesi_sabella/data_generator.py\u001b[0m in \u001b[0;36mpoll\u001b[0;34m(self, start, stop)\u001b[0m\n\u001b[1;32m     27\u001b[0m         \u001b[0mnew_samples\u001b[0m \u001b[0;34m=\u001b[0m \u001b[0mnew_samples\u001b[0m\u001b[0;34m.\u001b[0m\u001b[0mdropna\u001b[0m\u001b[0;34m(\u001b[0m\u001b[0msubset\u001b[0m\u001b[0;34m=\u001b[0m\u001b[0;34m[\u001b[0m\u001b[0;34m'device_category'\u001b[0m\u001b[0;34m]\u001b[0m\u001b[0;34m)\u001b[0m\u001b[0;34m\u001b[0m\u001b[0;34m\u001b[0m\u001b[0m\n\u001b[1;32m     28\u001b[0m         \u001b[0mself\u001b[0m\u001b[0;34m.\u001b[0m\u001b[0msamples\u001b[0m \u001b[0;34m=\u001b[0m \u001b[0mpd\u001b[0m\u001b[0;34m.\u001b[0m\u001b[0mconcat\u001b[0m\u001b[0;34m(\u001b[0m\u001b[0;34m[\u001b[0m\u001b[0mself\u001b[0m\u001b[0;34m.\u001b[0m\u001b[0msamples\u001b[0m\u001b[0;34m,\u001b[0m \u001b[0mnew_samples\u001b[0m\u001b[0;34m]\u001b[0m\u001b[0;34m)\u001b[0m\u001b[0;34m\u001b[0m\u001b[0;34m\u001b[0m\u001b[0m\n\u001b[0;32m---> 29\u001b[0;31m         \u001b[0mself\u001b[0m\u001b[0;34m.\u001b[0m\u001b[0mlast_timestamp\u001b[0m \u001b[0;34m=\u001b[0m \u001b[0mmax\u001b[0m\u001b[0;34m(\u001b[0m\u001b[0mnew_samples\u001b[0m\u001b[0;34m[\u001b[0m\u001b[0;34m'_time'\u001b[0m\u001b[0;34m]\u001b[0m\u001b[0;34m)\u001b[0m\u001b[0;34m\u001b[0m\u001b[0;34m\u001b[0m\u001b[0m\n\u001b[0m\u001b[1;32m     30\u001b[0m         \u001b[0;32mreturn\u001b[0m \u001b[0mself\u001b[0m\u001b[0;34m.\u001b[0m\u001b[0mlast_timestamp\u001b[0m\u001b[0;34m\u001b[0m\u001b[0;34m\u001b[0m\u001b[0m\n\u001b[1;32m     31\u001b[0m \u001b[0;34m\u001b[0m\u001b[0m\n",
      "\u001b[0;31mValueError\u001b[0m: max() arg is an empty sequence"
     ]
    }
   ],
   "source": [
    "pbar = tqdm()\n",
    "lastpoll_start = start\n",
    "\n",
    "i = 0\n",
    "while True:\n",
    "    if not lastpoll_start:\n",
    "        break\n",
    "    \n",
    "    lastpoll_end = lastpoll_start + pd.DateOffset(minutes=5)\n",
    "    lastpoll_start = cicids2017.poll(stop=lastpoll_end)\n",
    "    \n",
    "    # tqdm ..... #\n",
    "    i += 1\n",
    "    pbar.set_description(f'polled: {str(lastpoll_start)}')\n",
    "    pbar.update(i)\n",
    "    \n",
    "df = cicids2017.toPandas()"
   ]
  },
  {
   "cell_type": "markdown",
   "metadata": {},
   "source": [
    "NaN values processing"
   ]
  },
  {
   "cell_type": "code",
   "execution_count": 15,
   "metadata": {},
   "outputs": [
    {
     "name": "stdout",
     "output_type": "stream",
     "text": [
      "NaNs count: 873\n"
     ]
    }
   ],
   "source": [
    "# Fix score which is default NaN\n",
    "df_clean = df.fillna({\"score:score\": 0})\n",
    "# Dropping\n",
    "nans_count = df_clean[df_clean.isnull().any(axis=1)]\n",
    "print(f'NaNs count: {len(nans_count)}')\n",
    "df_clean = df_clean.dropna()"
   ]
  },
  {
   "cell_type": "markdown",
   "metadata": {},
   "source": [
    "Generic information"
   ]
  },
  {
   "cell_type": "code",
   "execution_count": 17,
   "metadata": {},
   "outputs": [
    {
     "data": {
      "text/markdown": [
       "#### Features count: 45"
      ],
      "text/plain": [
       "<IPython.core.display.Markdown object>"
      ]
     },
     "metadata": {},
     "output_type": "display_data"
    },
    {
     "data": {
      "text/markdown": [
       "#### Timeseries length: 1844 (min. 1280)"
      ],
      "text/plain": [
       "<IPython.core.display.Markdown object>"
      ]
     },
     "metadata": {},
     "output_type": "display_data"
    },
    {
     "data": {
      "text/markdown": [
       "#### Hosts:"
      ],
      "text/plain": [
       "<IPython.core.display.Markdown object>"
      ]
     },
     "metadata": {},
     "output_type": "display_data"
    },
    {
     "name": "stdout",
     "output_type": "stream",
     "text": [
      "[('pc', '192.168.10.12'),\n",
      " ('pc', '192.168.10.14'),\n",
      " ('pc', '192.168.10.15'),\n",
      " ('pc', '192.168.10.16'),\n",
      " ('pc', '192.168.10.17'),\n",
      " ('pc', '192.168.10.19'),\n",
      " ('pc', '192.168.10.25'),\n",
      " ('pc', '192.168.10.5'),\n",
      " ('pc', '192.168.10.8'),\n",
      " ('pc', '192.168.10.9'),\n",
      " ('server', '192.168.10.3'),\n",
      " ('server', '192.168.10.50'),\n",
      " ('server', '192.168.10.51')]\n"
     ]
    }
   ],
   "source": [
    "devices = list(df_clean.index.droplevel(2).unique())\n",
    "timeseries_lens = [len(df_clean.loc[dtype].loc[ip]) for dtype, ip in devices]\n",
    "mean_len = np.mean(timeseries_lens)\n",
    "min_len = np.min(timeseries_lens)\n",
    "\n",
    "display(Markdown(f'#### Features count: {len(df_clean.columns)}'))\n",
    "display(Markdown(f'#### Timeseries length: {int(mean_len)} (min. {min_len})'))\n",
    "display(Markdown(f'#### Hosts:'))\n",
    "pprint(devices)"
   ]
  },
  {
   "cell_type": "code",
   "execution_count": 107,
   "metadata": {},
   "outputs": [
    {
     "name": "stdout",
     "output_type": "stream",
     "text": [
      "{30.0: 33, 135.0: 1}\n",
      "{30.0: 44, 75.0: 1, 165.0: 1}\n",
      "{30.0: 39, 45.0: 1, 60.0: 1, 90.0: 1}\n",
      "{30.0: 33, 255.0: 1}\n",
      "{30.0: 33, 150.0: 1}\n",
      "{30.0: 36}\n",
      "{30.0: 29, 630.0: 1, 8955.0: 1}\n",
      "{30.0: 33, 135.0: 1, 435.0: 1}\n",
      "{30.0: 35, 60.0: 2, 165.0: 2}\n",
      "{30.0: 33, 90.0: 2}\n",
      "{30.0: 33, 90.0: 1}\n",
      "{30.0: 37}\n",
      "{30.0: 36, 285.0: 1}\n"
     ]
    }
   ],
   "source": [
    "for device_type, ip in devices:\n",
    "    host_ts = df_clean.loc[device_type].loc[ip] \n",
    "    delta = np.diff(np.sort(host_ts.index.values))\n",
    "    \n",
    "    deltas, counts = np.unique(delta, return_counts=True)\n",
    "    if len(deltas) != 1: \n",
    "        sdeltas = [x / np.timedelta64(1, 's') for x in deltas]\n",
    "        dcount = dict(zip(sdeltas, counts))\n",
    "        del dcount[15.]\n",
    "        print(dcount)"
   ]
  },
  {
   "cell_type": "markdown",
   "metadata": {},
   "source": [
    "# Store time series"
   ]
  },
  {
   "cell_type": "code",
   "execution_count": 56,
   "metadata": {},
   "outputs": [],
   "source": [
    "df_clean.to_pickle(f'../dataset/CIC_IDS_2017/{fluxbucket}.pkl')"
   ]
  }
 ],
 "metadata": {
  "kernelspec": {
   "display_name": "Python 3",
   "language": "python",
   "name": "python3"
  },
  "language_info": {
   "codemirror_mode": {
    "name": "ipython",
    "version": 3
   },
   "file_extension": ".py",
   "mimetype": "text/x-python",
   "name": "python",
   "nbconvert_exporter": "python",
   "pygments_lexer": "ipython3",
   "version": "3.7.5"
  }
 },
 "nbformat": 4,
 "nbformat_minor": 4
}
