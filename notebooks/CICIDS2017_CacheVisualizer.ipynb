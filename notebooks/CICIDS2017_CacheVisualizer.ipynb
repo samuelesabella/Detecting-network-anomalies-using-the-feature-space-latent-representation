{
 "cells": [
  {
   "cell_type": "code",
   "execution_count": 1,
   "metadata": {},
   "outputs": [],
   "source": [
    "import warnings\n",
    "from mpl_toolkits.mplot3d import Axes3D\n",
    "from ipywidgets import Button, Layout\n",
    "from datetime import datetime\n",
    "# warnings.filterwarnings(\"ignore\")\n",
    "from umap import UMAP\n",
    "import pandas as pd\n",
    "import matplotlib.patches as mpatches\n",
    "from pprint import pprint\n",
    "import numpy as np\n",
    "from ipywidgets import HBox, VBox, interactive\n",
    "from collections import defaultdict\n",
    "import matplotlib.pyplot as plt\n",
    "import matplotlib.ticker as ticker\n",
    "import matplotlib.dates as mdates\n",
    "from IPython.display import display, Markdown\n",
    "import ipywidgets as widgets\n",
    "import math\n",
    "from sklearn.manifold import TSNE\n",
    "import torch\n",
    "from ipywidgets import interact, interact_manual\n",
    "from IPython.display import set_matplotlib_formats\n",
    "from importlib import reload\n",
    "from pathlib import Path\n",
    "from tqdm import tqdm\n",
    "\n",
    "import sys\n",
    "import os\n",
    "sys.path.insert(0, os.path.abspath('../src/'))\n",
    "\n",
    "import model_codebase as cb\n",
    "import cicids2017 as cicids2017\n",
    "import data_generator as generator\n",
    "\n",
    "reload(cicids2017)\n",
    "reload(generator)\n",
    "\n",
    "pd.set_option('display.max_rows', 500)\n",
    "pd.set_option('float_format', '{:.4f}'.format)\n",
    "\n",
    "RES_PATH = \".\"\n",
    "MODELPATH = Path(f\"../res/{RES_PATH}/ts2vec.torch\")\n",
    "DATASETPATH_CACHE = Path(f\"../res/{RES_PATH}/cache\")\n",
    "DATASETPATH = Path(\"../dataset/CICIDS2017_ntop.pkl\")"
   ]
  },
  {
   "cell_type": "code",
   "execution_count": 2,
   "metadata": {},
   "outputs": [],
   "source": [
    "mMIN = 50\n",
    "M = 254 - mMIN\n",
    "MAX_ENC = M + math.pow(M, 2) + math.pow(M, 3)\n",
    "\n",
    "def encdec(rgb=None, i=None):\n",
    "    \"\"\"\n",
    "    References:\n",
    "        https://coderwall.com/p/fzni3g/bidirectional-translation-between-1d-and-3d-arrays\n",
    "    \"\"\"\n",
    "    if rgb is not None:\n",
    "        i = rgb[0] + rgb[1] * M + rgb[2] * math.pow(M, 2)\n",
    "        return math.floor(i)\n",
    "    x = math.floor(i % M)\n",
    "    y = math.floor((i / M) % M)\n",
    "    z = math.floor(i / ( math.pow(M, 2) ))\n",
    "    return (x+mMIN, y+mMIN, z+mMIN)\n",
    "           \n",
    "def ncolors(n):\n",
    "    hexl = list('0123456789ABCDEF')\n",
    "    hexc = np.random.choice(hexl, size=(n, 6))\n",
    "    return ['#' + ''.join(x) for x in hexc]\n",
    "    \n",
    "def rgbtohex(r, g, b):\n",
    "    hexcol = \"#{:02x}{:02x}{:02x}\".format(r,g,b)\n",
    "    return hexcol.upper()"
   ]
  },
  {
   "cell_type": "markdown",
   "metadata": {},
   "source": [
    "### Loading model and data"
   ]
  },
  {
   "cell_type": "code",
   "execution_count": 8,
   "metadata": {},
   "outputs": [],
   "source": [
    "TARGET_DSET = \"testing_attacks\"\n",
    "\n",
    "model_args = {\n",
    "    \"sigma\": -0.25,\n",
    "    \"input_size\": 19,\n",
    "    \"rnn_size\": 128,\n",
    "    \"rnn_layers\": 3,\n",
    "    \"latent_size\": 128\n",
    "}\n",
    "\n",
    "ts2vec = cb.STC(**model_args).eval()\n",
    "ts2vec.load_state_dict(torch.load(str(MODELPATH), map_location=torch.device('cpu')))\n",
    "\n",
    "dset = cicids2017.load_dataset(DATASETPATH_CACHE)[TARGET_DSET]\n",
    "X = torch.Tensor(dset[\"context\"])\n",
    "actv = X[:, :cicids2017.ACTIVITY_LEN]\n",
    "\n",
    "with torch.no_grad():    \n",
    "    dset[\"embedding\"] = ts2vec.toembedding(actv).numpy()\n",
    "    \n",
    "dset[\"ebs2D\"] = TSNE(n_components=2).fit_transform(dset[\"embedding\"])"
   ]
  },
  {
   "cell_type": "code",
   "execution_count": 9,
   "metadata": {},
   "outputs": [],
   "source": [
    "timestamp2weekday = lambda x: datetime.fromtimestamp(x).weekday()\n",
    "dset_day = list(map(timestamp2weekday, dset[\"start_time\"]))\n",
    "dset[\"weekday\"] = np.array(dset_day)\n",
    "\n",
    "# Broadcast address fix :-)\n",
    "dset[\"device_category\"][np.where(dset[\"host\"]==\"192.168.10.255\")] = \"broadcast\""
   ]
  },
  {
   "cell_type": "code",
   "execution_count": 10,
   "metadata": {},
   "outputs": [],
   "source": [
    "lower_type = np.char.lower(dset[\"attack_type\"])\n",
    "scan_mask = np.char.find(lower_type, \"scan\")+1\n",
    "scan_mask = np.array(scan_mask, dtype=bool)\n",
    "dset[\"attack_type\"][scan_mask] = \"NMap\""
   ]
  },
  {
   "cell_type": "markdown",
   "metadata": {},
   "source": [
    "### What about K-Means?"
   ]
  },
  {
   "cell_type": "code",
   "execution_count": 42,
   "metadata": {},
   "outputs": [],
   "source": [
    "from sklearn.cluster import KMeans\n",
    "\n",
    "kmeans = KMeans(n_clusters=17, random_state=0).fit(dset[\"ebs2D\"])\n",
    "dset[\"kmeans\"] = kmeans.labels_"
   ]
  },
  {
   "cell_type": "markdown",
   "metadata": {},
   "source": [
    "### Widget creation"
   ]
  },
  {
   "cell_type": "code",
   "execution_count": 47,
   "metadata": {},
   "outputs": [],
   "source": [
    "%matplotlib inline\n",
    "set_matplotlib_formats('svg')\n",
    "\n",
    "DAY2INT = {\n",
    "    \"Monday\": 0,\n",
    "    \"Tuesday\": 1,\n",
    "    \"Wednesday\": 2,\n",
    "    \"Thursday\": 3,\n",
    "    \"Friday\": 4}\n",
    "INT2DAY = {v: k for k, v in DAY2INT.items()}\n",
    "\n",
    "devices = set([(c, h) for (c, h) in zip(dset[\"device_category\"], dset[\"host\"])])\n",
    "devices_str = [f\"{h} ({c})\" for c, h in devices]\n",
    "devices_str.sort()\n",
    "\n",
    "\n",
    "# ----- ----- COLORMAPS ----- ----- #\n",
    "# ----- ----- ------- ----- ----- #\n",
    "everythingAcolor = np.concatenate([\n",
    "                        np.unique(dset[\"attack_type\"]),\n",
    "                        [dev[0] for dev in devices],\n",
    "                        [dev[1] for dev in devices]])  \n",
    "everythingAcolor = dict(zip(everythingAcolor, ncolors(len(everythingAcolor))))\n",
    "\n",
    "\n",
    "# ----- ----- WIDGETS ----- ----- #\n",
    "# ----- ----- ------- ----- ----- #\n",
    "device_w_list = widgets.Dropdown(options=devices_str)\n",
    "                                 # value=\"192.168.10.51 (server)\")\n",
    "\n",
    "available_days = list(map(lambda x: INT2DAY[x], np.unique(dset[\"weekday\"])))\n",
    "days_w_list = widgets.Dropdown(options=available_days)\n",
    "\n",
    "available_attacks = list(np.unique(dset[\"attack_type\"]))+[\"All\", \"Only\"]\n",
    "show_attacks_dropdown = widgets.Dropdown(options=available_attacks, value=\"none\")\n",
    "\n",
    "netmap_checkbox = widgets.Checkbox(value=False, description='Show all network')\n",
    "all_week = widgets.Checkbox(value=False, description='Show all week traffic')\n",
    "show_category_checkbox = widgets.Checkbox(value=False, description='Show category')\n",
    "all_week_checkbox = widgets.Checkbox(value=False, description='Show all week traffic data')\n",
    "\n",
    "ts1_selector = HBox([device_w_list, days_w_list])\n",
    "ts2_selector = HBox([netmap_checkbox, show_category_checkbox])\n",
    "ts3_selector = HBox([all_week_checkbox, show_attacks_dropdown])\n",
    "wlist = VBox([ts1_selector, ts2_selector, ts3_selector])\n",
    "\n",
    "\n",
    "# ----- ----- INTERACTOR ----- ----- #\n",
    "# ----- ----- ---------- ----- ----- #\n",
    "def plotme3d(x1, x2, z, colors, labels):\n",
    "    ax = plt.gca(projection='3d')\n",
    "    for l in np.unique(labels):\n",
    "        l_idxs = np.where(labels==l)[0]\n",
    "        ax.scatter(x1[l_idxs], x2[l_idxs], z[l_idxs], color=colors[l_idxs], label=l)\n",
    "    plt.title(\"t-SNE validation data, attacks excluded\")\n",
    "    ax.view_init(0, 90)\n",
    "    \n",
    "def plotme2d(x1, x2, colors, labels):\n",
    "    ax = plt.gca()\n",
    "    for l in np.unique(labels):\n",
    "        l_idxs = np.where(labels==l)[0]\n",
    "        ax.scatter(x1[l_idxs], x2[l_idxs], color=colors[l_idxs], label=l)\n",
    "    plt.title(\"t-SNE validation data, attacks excluded\")\n",
    "    \n",
    "def whandler(device, day, netmap, show_category, all_week, attack):\n",
    "    if all_week:\n",
    "        idx_mask = np.full(len(dset[\"weekday\"]), True)\n",
    "    else:\n",
    "        idx_mask = (dset[\"weekday\"] == DAY2INT[day])\n",
    "    \n",
    "    host_only = not netmap\n",
    "    if host_only:\n",
    "        # Extracting host/category\n",
    "        split = device.split(\" \")\n",
    "        host = split[0].strip()\n",
    "        category = \" \".join(split[1:]).replace(\"(\", \"\").replace(\")\", \"\").strip()\n",
    "        # Masking\n",
    "        host_mask = (dset[\"host\"]==host)\n",
    "        idx_mask = idx_mask & host_mask\n",
    "    masked_dset = { k: v[idx_mask] for k, v in dset.items() }\n",
    "    \n",
    "    if attack != \"Only\":\n",
    "        no_attacks_mask = (masked_dset[\"attack_type\"] == \"none\")\n",
    "        no_attacks_dset = { k: v[no_attacks_mask] for k, v in masked_dset.items() }\n",
    "        x1 = no_attacks_dset[\"ebs2D\"][:, 0]\n",
    "        x2 = no_attacks_dset[\"ebs2D\"][:, 1]\n",
    "        # z = no_attacks_dset[\"ebs2D\"][:, 2]\n",
    "\n",
    "        focus_label = \"device_category\" if netmap and show_category else \"host\"\n",
    "        colors = np.array(list(map(lambda x: everythingAcolor[x], no_attacks_dset[focus_label].squeeze())))\n",
    "        labels = no_attacks_dset[focus_label]\n",
    "        # plotme3d(x1, x2, z, colors, labels)\n",
    "        plotme2d(x1, x2, colors, labels)\n",
    "    \n",
    "    # Plotting attacks..... #\n",
    "    if attack != \"none\":\n",
    "        if attack==\"All\" or attack==\"Only\":\n",
    "            attack_mask = masked_dset[\"attack_type\"] != \"none\"\n",
    "        else:\n",
    "            attack_mask = masked_dset[\"attack_type\"] == attack\n",
    "        \n",
    "        attack_type = masked_dset[\"attack_type\"][attack_mask].squeeze()    \n",
    "        colors = np.array(list(map(lambda x: everythingAcolor[x], attack_type)))\n",
    "        labels = masked_dset[\"attack_type\"][attack_mask]\n",
    "        \n",
    "        attack_dset = { k: v[attack_mask] for k, v in masked_dset.items() }\n",
    "        x1 = attack_dset[\"ebs2D\"][:, 0]\n",
    "        x2 = attack_dset[\"ebs2D\"][:, 1]\n",
    "       \n",
    "        # plotme3d(x1, x2, z, colors, labels)\n",
    "        plotme2d(x1, x2, colors, labels)\n",
    "\n",
    "    # plt.legend(loc=(1.04,0))\n",
    "    plt.legend()\n",
    "    plt.gcf().set_size_inches(7, 7)\n",
    "    plt.savefig(\"tSNE_clustering.svg\")\n",
    "    plt.show()"
   ]
  },
  {
   "cell_type": "code",
   "execution_count": 48,
   "metadata": {},
   "outputs": [
    {
     "data": {
      "application/vnd.jupyter.widget-view+json": {
       "model_id": "9a9b6f5528ef46839554715d1cb1784d",
       "version_major": 2,
       "version_minor": 0
      },
      "text/plain": [
       "VBox(children=(HBox(children=(Dropdown(description='device', options=('192.168.10.50 (server)',), value='192.1…"
      ]
     },
     "metadata": {},
     "output_type": "display_data"
    },
    {
     "data": {
      "application/vnd.jupyter.widget-view+json": {
       "model_id": "02917fad843548cbb71824d755138da0",
       "version_major": 2,
       "version_minor": 0
      },
      "text/plain": [
       "Output()"
      ]
     },
     "metadata": {},
     "output_type": "display_data"
    }
   ],
   "source": [
    "output = widgets.interactive(whandler,\n",
    "                             all_week=all_week_checkbox,\n",
    "                             device=device_w_list, day=days_w_list, \n",
    "                             netmap=netmap_checkbox, \n",
    "                             show_category=show_category_checkbox,\n",
    "                             attack=show_attacks_dropdown).children[-1]\n",
    "display(wlist)\n",
    "display(output)"
   ]
  },
  {
   "cell_type": "code",
   "execution_count": null,
   "metadata": {},
   "outputs": [],
   "source": []
  },
  {
   "cell_type": "code",
   "execution_count": null,
   "metadata": {},
   "outputs": [],
   "source": []
  }
 ],
 "metadata": {
  "kernelspec": {
   "display_name": "Python 3",
   "language": "python",
   "name": "python3"
  },
  "language_info": {
   "codemirror_mode": {
    "name": "ipython",
    "version": 3
   },
   "file_extension": ".py",
   "mimetype": "text/x-python",
   "name": "python",
   "nbconvert_exporter": "python",
   "pygments_lexer": "ipython3",
   "version": "3.8.6"
  }
 },
 "nbformat": 4,
 "nbformat_minor": 4
}
