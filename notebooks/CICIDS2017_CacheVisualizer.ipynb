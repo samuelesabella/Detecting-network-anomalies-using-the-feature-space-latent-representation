{
 "cells": [
  {
   "cell_type": "code",
   "execution_count": null,
   "metadata": {},
   "outputs": [],
   "source": [
    "import sys\n",
    "import os\n",
    "sys.path.insert(0, os.path.abspath('../src/'))"
   ]
  },
  {
   "cell_type": "markdown",
   "metadata": {},
   "source": [
    "### Loading model and computing embeddings"
   ]
  },
  {
   "cell_type": "code",
   "execution_count": 2,
   "metadata": {},
   "outputs": [
    {
     "name": "stderr",
     "output_type": "stream",
     "text": [
      "/Users/swedishhdcamera/Desktop/Projects/tesi_sabella/venv/lib/python3.8/site-packages/skorch/dataset.py:267: FutureWarning: Setting a random_state has no effect since cv is not a float. This will raise an error in a future. You should leave random_state to its default (None), or set cv to a float value.\n",
      "  warnings.warn(\n"
     ]
    }
   ],
   "source": [
    "import cicids2017\n",
    "import numpy as np\n",
    "from pathlib import Path\n",
    "import pandas as pd\n",
    "from sklearn.manifold import TSNE\n",
    "\n",
    "RES_PATH = \".\"\n",
    "MODELPATH = Path(f\"../res/{RES_PATH}/ts2vec.torch\")\n",
    "# DATASETPATH_CACHE = Path(f\"../res/{RES_PATH}/cache\")\n",
    "DATASETPATH_CACHE = Path(f\"../dataset/cache\")\n",
    "DATASETPATH = Path(\"../dataset/CICIDS2017_ntop.pkl\")\n",
    "TARGET_DSET = \"DT\"\n",
    "\n",
    "\n",
    "netdata = []\n",
    "df = cicids2017.load_dataset(DATASETPATH_CACHE)[TARGET_DSET]\n",
    "days = np.unique(df.index.get_level_values(\"_time\").day)\n",
    "for d in days:\n",
    "    daily_df = df[df.index.get_level_values(\"_time\").day == d]\n",
    "    netdata.append(daily_df)\n",
    "\n",
    "\n",
    "net = cicids2017.configureAnchor(None, df, checkpoint=MODELPATH)\n",
    "net.module_.pool = \"last\"\n",
    "netdata = net.pointwise_embedding(netdata)\n",
    "netdata = pd.concat(netdata)\n",
    "\n",
    "\n",
    "# Remove truncated embeddings\n",
    "netdata = netdata.loc[netdata[\"_embedding\"].dropna().index]\n",
    "tsne_input = np.stack(netdata[\"_embedding\"].values)\n",
    "netdata[\"_ebs2D\"] = list(TSNE(n_components=2).fit_transform(tsne_input))"
   ]
  },
  {
   "cell_type": "markdown",
   "metadata": {},
   "source": [
    "# Minor changes to dataset"
   ]
  },
  {
   "cell_type": "code",
   "execution_count": 3,
   "metadata": {},
   "outputs": [],
   "source": [
    "netdata[\"_group_anomaly\"] = netdata[\"_isanomaly\"]\n",
    "\n",
    "def rename_anomaly(pattern, newname):\n",
    "    netdata.loc[netdata[\"_group_anomaly\"].str.contains(pattern), \"_group_anomaly\"] = newname\n",
    "    \n",
    "rename_anomaly(\"Web Attack\", \"Web Attack\")\n",
    "rename_anomaly(\"Brute Force\", \"Brute Force\")\n",
    "rename_anomaly(\"DoS\", \"DoS\")\n",
    "rename_anomaly(\"DDoS\", \"DDoS\")\n",
    "rename_anomaly(\"NMap\", \"NMap\")\n",
    "rename_anomaly(\"Port Scan\", \"NMap\")\n",
    "\n",
    "netdata = netdata.reset_index()"
   ]
  },
  {
   "cell_type": "markdown",
   "metadata": {},
   "source": [
    "### Computing clustering"
   ]
  },
  {
   "cell_type": "code",
   "execution_count": 4,
   "metadata": {},
   "outputs": [],
   "source": [
    "from sklearn.cluster import KMeans, DBSCAN\n",
    "\n",
    "# cluster_algorithm = DBSCAN(eps=.2, min_samples=4)\n",
    "cluster_algorithm = KMeans(n_clusters=5)\n",
    "cluster_str = str(cluster_algorithm).split('(')[0]\n",
    "clustering_input = np.stack(netdata[\"_ebs2D\"].values)\n",
    "clustering = cluster_algorithm.fit(clustering_input)\n",
    "netdata[\"_clustering\"] = clustering.labels_.astype(str)"
   ]
  },
  {
   "cell_type": "code",
   "execution_count": 5,
   "metadata": {},
   "outputs": [],
   "source": [
    "netdata = netdata[(netdata[\"_aperc\"] == 0) | (netdata[\"_aperc\"] >= .25)]"
   ]
  },
  {
   "cell_type": "markdown",
   "metadata": {},
   "source": [
    "### Display"
   ]
  },
  {
   "cell_type": "code",
   "execution_count": 6,
   "metadata": {},
   "outputs": [],
   "source": [
    "import warnings\n",
    "from mpl_toolkits.mplot3d import Axes3D\n",
    "from ipywidgets import Button, Layout\n",
    "from datetime import datetime\n",
    "# warnings.filterwarnings(\"ignore\")\n",
    "from umap import UMAP\n",
    "import pandas as pd\n",
    "import matplotlib.patches as mpatches\n",
    "from pprint import pprint\n",
    "import numpy as np\n",
    "from ipywidgets import HBox, VBox, interactive\n",
    "from collections import defaultdict\n",
    "import matplotlib.pyplot as plt\n",
    "import matplotlib.ticker as ticker\n",
    "import matplotlib.dates as mdates\n",
    "from IPython.display import display, Markdown\n",
    "import ipywidgets as widgets\n",
    "import math\n",
    "from sklearn.manifold import TSNE\n",
    "import torch\n",
    "from ipywidgets import interact, interact_manual\n",
    "from IPython.display import set_matplotlib_formats\n",
    "from importlib import reload\n",
    "from pathlib import Path\n",
    "from tqdm import tqdm\n",
    "from sklearn.cluster import KMeans, DBSCAN"
   ]
  },
  {
   "cell_type": "code",
   "execution_count": 7,
   "metadata": {},
   "outputs": [
    {
     "data": {
      "application/vnd.jupyter.widget-view+json": {
       "model_id": "f1c89927da2944a9b16bbda40498f0c7",
       "version_major": 2,
       "version_minor": 0
      },
      "text/plain": [
       "VBox(children=(HBox(children=(Dropdown(description='day', options=('ALL', 'Monday', 'Tuesday', 'Wednesday', 'T…"
      ]
     },
     "metadata": {},
     "output_type": "display_data"
    },
    {
     "data": {
      "application/vnd.jupyter.widget-view+json": {
       "model_id": "70b7ec68779f410690ef85ed9d790fb7",
       "version_major": 2,
       "version_minor": 0
      },
      "text/plain": [
       "Output()"
      ]
     },
     "metadata": {},
     "output_type": "display_data"
    }
   ],
   "source": [
    "import ipywidgets as widgets\n",
    "import matplotlib.pyplot as plt\n",
    "from ipywidgets import HBox, VBox, interactive\n",
    "\n",
    "\n",
    "\n",
    "DAY2INT = {\n",
    "    \"Monday\": 0,\n",
    "    \"Tuesday\": 1,\n",
    "    \"Wednesday\": 2,\n",
    "    \"Thursday\": 3,\n",
    "    \"Friday\": 4}\n",
    "INT2DAY = {v: k for k, v in DAY2INT.items()}\n",
    "\n",
    "\n",
    "# ----- ----- COLORMAPS ----- ----- #\n",
    "# ----- ----- --------- ----- ----- #\n",
    "def ncolors(n):\n",
    "    hexl = list('0123456789ABCDEF')\n",
    "    hexc = np.random.choice(hexl, size=(n, 6))\n",
    "    return ['#' + ''.join(x) for x in hexc]\n",
    "\n",
    "devices = set([(c, h) for (c, h) in zip(netdata[\"_device_category\"], netdata[\"_host\"])])\n",
    "colorsmap = np.concatenate([ np.unique(netdata[\"_isanomaly\"]),\n",
    "                             np.unique(netdata[\"_clustering\"]),\n",
    "                             [ dev[0] for dev in devices],\n",
    "                             [ dev[1] for dev in devices]])  \n",
    "colorsmap = dict(zip(colorsmap, ncolors(len(colorsmap))))\n",
    "\n",
    "\n",
    "# ----- ----- WIDGETS ----- ----- #\n",
    "# ----- ----- ------- ----- ----- #\n",
    "devices_str = [f\"{h} ({c})\" for c, h in devices]\n",
    "devices_str.sort()                               \n",
    "device_w_list = widgets.Dropdown(options=[\"ALL\"] + devices_str)\n",
    "\n",
    "weekdays = np.unique(netdata[\"_time\"].dt.dayofweek)\n",
    "available_days = list(map(lambda x: INT2DAY[x], weekdays))\n",
    "days_w_list = widgets.Dropdown(options=[\"ALL\"]+available_days)\n",
    "\n",
    "available_attacks = list(np.unique(netdata[\"_isanomaly\"]))\n",
    "show_attacks_dropdown = widgets.Dropdown(options=[\"ALL\"]+available_attacks)\n",
    "\n",
    "clusters = list(np.unique(netdata[\"_clustering\"]))\n",
    "show_cluster_dropdown = widgets.Dropdown(options=[\"NONE\"]+clusters)\n",
    "                               \n",
    "hide_attacks_checkbox = widgets.Checkbox(value=False, description=\"Hide all attacks\")\n",
    "show_category_checkbox = widgets.Checkbox(value=False, description=\"Show category\")\n",
    "group_anomaly_checkbox = widgets.Checkbox(value=False, description=\"Group anomalies\")\n",
    "clustering_descr = f\"Show clustering ({cluster_str})\"\n",
    "show_clustering_checkbox = widgets.Checkbox(value=False, description=clustering_descr)\n",
    "\n",
    "ts0_selector = HBox([days_w_list, group_anomaly_checkbox])\n",
    "ts1_selector = HBox([device_w_list, show_category_checkbox])\n",
    "ts2_selector = HBox([show_attacks_dropdown, hide_attacks_checkbox])\n",
    "ts3_selector = HBox([show_cluster_dropdown, show_clustering_checkbox])\n",
    "wlist = VBox([ts0_selector, ts1_selector, ts2_selector, ts3_selector])\n",
    "\n",
    "\n",
    "# ----- ----- INTERACTOR ----- ----- #\n",
    "# ----- ----- ---------- ----- ----- #\n",
    "def labeled_scatter(mask, labelname):\n",
    "    data = netdata[mask]\n",
    "    if len(data) == 0:\n",
    "        return\n",
    "    ebs2D = np.stack(data[\"_ebs2D\"])\n",
    "    x1 = ebs2D[:, 0]\n",
    "    x2 = ebs2D[:, 1]\n",
    "    \n",
    "    labels = data[labelname]\n",
    "    colors = map(lambda x: colorsmap[x], labels)\n",
    "    colors = np.array(list(colors))\n",
    "    \n",
    "    ax = plt.gca()\n",
    "    for l in np.unique(labels):\n",
    "        l_idxs = np.where(labels==l)[0]\n",
    "        ax.scatter(x1[l_idxs], x2[l_idxs], color=colors[l_idxs], label=l)\n",
    "\n",
    "\n",
    "def split_device_str(s):\n",
    "    split = s.split(\" \")\n",
    "    host = split[0].strip()\n",
    "    category = \" \".join(split[1:]).replace(\"(\", \"\").replace(\")\", \"\").strip()\n",
    "    return host, category\n",
    "\n",
    "\n",
    "def whandler(day, device, show_category, attack, hide_attacks, cluster_focus, show_clusters, attack_label):\n",
    "    if show_category:\n",
    "        show_label = \"_device_category\"\n",
    "    elif show_clusters:\n",
    "        show_label = \"_clustering\"\n",
    "    else:\n",
    "        show_label = \"_host\"\n",
    "    \n",
    "    data_len = len(netdata)\n",
    "    mask = np.full(data_len, True)\n",
    "    \n",
    "    if day != \"ALL\":\n",
    "        weekday = netdata[\"_time\"].dt.dayofweek\n",
    "        mask &= (weekday == DAY2INT[day])\n",
    "    \n",
    "    if device != \"ALL\":\n",
    "        host, _ = split_device_str(device)\n",
    "        mask &= (netdata[\"_host\"] == host)\n",
    "    \n",
    "    if cluster_focus != \"NONE\":\n",
    "        mask &= (netdata[\"_clustering\"] == cluster_focus)\n",
    "    \n",
    "    # Plotting all but attacks traffic\n",
    "    clean_mask = mask & (netdata[\"_isanomaly\"] == \"none\")\n",
    "    labeled_scatter(clean_mask, show_label)\n",
    "    \n",
    "    # Plottin attacks\n",
    "    if not hide_attacks:\n",
    "        if attack == \"ALL\":\n",
    "            attack_mask = mask & (netdata[\"_isanomaly\"] != \"none\")\n",
    "        else:\n",
    "            attack_mask = mask & (netdata[\"_isanomaly\"] == attack)\n",
    "        \n",
    "        if show_clusters:\n",
    "            show_label = \"_clustering\"\n",
    "        elif attack_label:\n",
    "            show_label = \"_group_anomaly\"\n",
    "        else:\n",
    "            show_label = \"_isanomaly\"\n",
    "        \n",
    "        attack_mask = attack_mask#& (netdata[\"_clustering\"] != \"-1\")\n",
    "        \n",
    "        labeled_scatter(attack_mask, show_label)\n",
    "\n",
    "    # Fixing repeating labels\n",
    "    handles, labels = plt.gca().get_legend_handles_labels()\n",
    "    by_label = dict(zip(labels, handles))\n",
    "    plt.legend(by_label.values(), by_label.keys(), bbox_to_anchor=(1, 0.5))\n",
    "    plt.gcf().set_size_inches(10, 10)\n",
    "    plt.show()\n",
    "    \n",
    "%matplotlib inline\n",
    "output = widgets.interactive(whandler,\n",
    "                             day=days_w_list,\n",
    "                             device=device_w_list, \n",
    "                             show_category=show_category_checkbox, \n",
    "                             attack=show_attacks_dropdown, \n",
    "                             hide_attacks=hide_attacks_checkbox,\n",
    "                             cluster_focus=show_cluster_dropdown, \n",
    "                             show_clusters=show_clustering_checkbox,\n",
    "                             attack_label=group_anomaly_checkbox).children[-1]\n",
    "display(wlist)\n",
    "display(output)"
   ]
  },
  {
   "cell_type": "code",
   "execution_count": null,
   "metadata": {},
   "outputs": [],
   "source": []
  }
 ],
 "metadata": {
  "kernelspec": {
   "display_name": "Python 3",
   "language": "python",
   "name": "python3"
  },
  "language_info": {
   "codemirror_mode": {
    "name": "ipython",
    "version": 3
   },
   "file_extension": ".py",
   "mimetype": "text/x-python",
   "name": "python",
   "nbconvert_exporter": "python",
   "pygments_lexer": "ipython3",
   "version": "3.8.6"
  }
 },
 "nbformat": 4,
 "nbformat_minor": 4
}
