{
 "cells": [
  {
   "cell_type": "code",
   "execution_count": 18,
   "metadata": {},
   "outputs": [
    {
     "data": {
      "text/plain": [
       "<module 'data_generator' from '/Users/swedishhdcamera/Desktop/Projects/tesi_sabella/tesi_sabella/data_generator.py'>"
      ]
     },
     "execution_count": 18,
     "metadata": {},
     "output_type": "execute_result"
    }
   ],
   "source": [
    "import os\n",
    "import sys\n",
    "import numpy as np\n",
    "from pprint import pprint\n",
    "from tqdm import tqdm\n",
    "import pandas as pd\n",
    "from importlib import reload\n",
    "import math\n",
    "from IPython.display import display, Markdown\n",
    "from datetime import datetime\n",
    "\n",
    "sys.path.insert(0, os.path.abspath('../tesi_sabella'))\n",
    "# pd.options.display.max_rows = 999\n",
    "\n",
    "import pyfluxc.pyfluxc as flux\n",
    "import data_generator as generator\n",
    "reload(flux)\n",
    "reload(generator)"
   ]
  },
  {
   "cell_type": "code",
   "execution_count": 20,
   "metadata": {},
   "outputs": [],
   "source": [
    "# Constants ----- #\n",
    "BUCKET = 'CIC_IDS_2017_Monday'\n",
    "PULL_EVERY_X_MINUTES = 15\n",
    "PULL_DELTA_TIME = pd.Timedelta(minutes=PULL_EVERY_X_MINUTES)"
   ]
  },
  {
   "cell_type": "code",
   "execution_count": 19,
   "metadata": {},
   "outputs": [],
   "source": [
    "# Functions ----- #\n",
    "def mprint(s):\n",
    "    display(Markdown(s))"
   ]
  },
  {
   "cell_type": "markdown",
   "metadata": {},
   "source": [
    "# Generating time series"
   ]
  },
  {
   "cell_type": "markdown",
   "metadata": {},
   "source": [
    "We pull only the time range in which samples are available"
   ]
  },
  {
   "cell_type": "code",
   "execution_count": 7,
   "metadata": {},
   "outputs": [
    {
     "name": "stdout",
     "output_type": "stream",
     "text": [
      "first sample: 2020-04-04 17:18:30\n",
      "last sample: 2020-04-05 08:48:55\n",
      "Total: 0 days 15:30:25\n"
     ]
    }
   ],
   "source": [
    "fclient = flux.FluxClient(); \n",
    "start, end = fclient.bucket_timerange(BUCKET)\n",
    "print(f\"first sample: {start}\\nlast sample: {end}\\nTotal: {end-start}\")"
   ]
  },
  {
   "cell_type": "code",
   "execution_count": 30,
   "metadata": {},
   "outputs": [],
   "source": [
    "cicids2017 = generator.CICIDS2017(BUCKET, '15s', fclient, start)"
   ]
  },
  {
   "cell_type": "markdown",
   "metadata": {},
   "source": [
    "Extract data from influxdb in time intervals due to influx kill signal"
   ]
  },
  {
   "cell_type": "code",
   "execution_count": null,
   "metadata": {},
   "outputs": [],
   "source": [
    "i = 1\n",
    "pull_start = start\n",
    "while True:\n",
    "    pull_end = pull_start + PULL_DELTA_TIME\n",
    "    \n",
    "    print(\"------------\")\n",
    "    print(f\"first sample: {pull_start}\\nlast sample: {pull_end}\\nTotal: {pull_end-pull_start}\")\n",
    "    print(\"------------\")\n",
    "    \n",
    "    # TODO: return tuple\n",
    "    pull_start, new_samples = cicids2017.pull(stop=pull_end)\n",
    "    if new_samples is None:\n",
    "        break\n",
    "    \n",
    "cicids2017_df = cicids2017.to_pandas()"
   ]
  },
  {
   "cell_type": "markdown",
   "metadata": {},
   "source": [
    "Generic information"
   ]
  },
  {
   "cell_type": "code",
   "execution_count": 25,
   "metadata": {},
   "outputs": [],
   "source": [
    "cicids2017_df.to_pickle(f'./{BUCKET}.pkl')"
   ]
  }
 ],
 "metadata": {
  "kernelspec": {
   "display_name": "Python 3",
   "language": "python",
   "name": "python3"
  },
  "language_info": {
   "codemirror_mode": {
    "name": "ipython",
    "version": 3
   },
   "file_extension": ".py",
   "mimetype": "text/x-python",
   "name": "python",
   "nbconvert_exporter": "python",
   "pygments_lexer": "ipython3",
   "version": "3.7.5"
  }
 },
 "nbformat": 4,
 "nbformat_minor": 4
}
