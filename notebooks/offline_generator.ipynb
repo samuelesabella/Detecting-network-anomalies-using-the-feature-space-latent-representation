{
 "cells": [
  {
   "cell_type": "code",
   "execution_count": 3,
   "metadata": {},
   "outputs": [
    {
     "data": {
      "text/plain": [
       "<module 'data_generator' from '/Users/swedishhdcamera/Desktop/Projects/tesi_sabella/tesi_sabella/data_generator.py'>"
      ]
     },
     "execution_count": 3,
     "metadata": {},
     "output_type": "execute_result"
    }
   ],
   "source": [
    "import os\n",
    "import sys\n",
    "import numpy as np\n",
    "from pprint import pprint\n",
    "from tqdm import tqdm\n",
    "import pandas as pd\n",
    "from datetime import datetime\n",
    "from importlib import reload\n",
    "import math\n",
    "from IPython.display import display, Markdown\n",
    "from datetime import datetime\n",
    "\n",
    "sys.path.insert(0, os.path.abspath('../tesi_sabella'))\n",
    "# pd.options.display.max_rows = 999\n",
    "\n",
    "import pyfluxc.pyfluxc as flux\n",
    "import data_generator as generator\n",
    "reload(flux)\n",
    "reload(generator)"
   ]
  },
  {
   "cell_type": "code",
   "execution_count": 4,
   "metadata": {},
   "outputs": [],
   "source": [
    "# Constants ----- #\n",
    "BUCKET = 'CIC_IDS_2017_Monday'\n",
    "PULL_EVERY_X_MINUTES = 15\n",
    "PULL_DELTA_TIME = pd.Timedelta(minutes=PULL_EVERY_X_MINUTES)\n",
    "\n",
    "TCPREPLAY_START = {\n",
    "    \"Monday\": \"2020-04-04T17:19:06.730097\",\n",
    "    \"Tuesday\": \"2020-04-05T14:09:30.933025\",\n",
    "    \"Wednesday\": \"2020-04-06T08:46:54.338920\",\n",
    "    \"Thursday\": \"2020-04-07T08:08:37.127602808\",\n",
    "    \"Friday\": \"2020-04-07T22:41:05.814784058\"}\n",
    "TCPREPLAY_START = { k: pd.to_datetime(s, format='%Y-%m-%dT%H:%M:%S.%f') for k, s in TCPREPLAY_START.items() }\n",
    "\n",
    "CIC_IDS_2017_START = {\n",
    "    \"Monday\": \"2017-07-03T08:55:58.598308\",\n",
    "    \"Tuesday\": \"2017-07-04T08:53:32.364079\",\n",
    "    \"Wednesday\": \"2017-07-05T08:42:42.084372\",\n",
    "    \"Thursday\": \"2017-07-06T08:58:58.492265\",\n",
    "    \"Friday\": \"2017-07-07T08:59:39.599128\"}\n",
    "CIC_IDS_2017_START = { k: pd.to_datetime(s, format='%Y-%m-%dT%H:%M:%S.%f') for k, s in CIC_IDS_2017_START.items() }"
   ]
  },
  {
   "cell_type": "code",
   "execution_count": 5,
   "metadata": {},
   "outputs": [],
   "source": [
    "# Functions ----- #\n",
    "def mprint(s):\n",
    "    display(Markdown(s))"
   ]
  },
  {
   "cell_type": "markdown",
   "metadata": {},
   "source": [
    "# Generating time series"
   ]
  },
  {
   "cell_type": "markdown",
   "metadata": {},
   "source": [
    "We pull only the time range in which samples are available"
   ]
  },
  {
   "cell_type": "code",
   "execution_count": 6,
   "metadata": {},
   "outputs": [
    {
     "name": "stdout",
     "output_type": "stream",
     "text": [
      "first sample: 2020-04-04 17:18:30\n",
      "last sample: 2020-04-05 08:48:55\n",
      "Total: 0 days 15:30:25\n"
     ]
    }
   ],
   "source": [
    "fclient = flux.FluxClient(); \n",
    "start, end = fclient.bucket_timerange(BUCKET)\n",
    "print(f\"first sample: {start}\\nlast sample: {end}\\nTotal: {end-start}\")"
   ]
  },
  {
   "cell_type": "code",
   "execution_count": 7,
   "metadata": {},
   "outputs": [],
   "source": [
    "cicids2017 = generator.CICIDS2017(BUCKET, '15s', fclient, start)"
   ]
  },
  {
   "cell_type": "markdown",
   "metadata": {},
   "source": [
    "Extract data from influxdb in time intervals due to influx kill signal"
   ]
  },
  {
   "cell_type": "code",
   "execution_count": 8,
   "metadata": {},
   "outputs": [
    {
     "name": "stdout",
     "output_type": "stream",
     "text": [
      "------------\n",
      "first sample: 2020-04-04 17:18:30\n",
      "last sample: 2020-04-04 17:33:30\n",
      "Total: 0 days 00:15:00\n",
      "------------\n",
      "------------\n",
      "first sample: 2020-04-04 17:33:30\n",
      "last sample: 2020-04-04 17:48:30\n",
      "Total: 0 days 00:15:00\n",
      "------------\n",
      "------------\n",
      "first sample: 2020-04-04 17:48:30\n",
      "last sample: 2020-04-04 18:03:30\n",
      "Total: 0 days 00:15:00\n",
      "------------\n",
      "------------\n",
      "first sample: 2020-04-04 18:03:30\n",
      "last sample: 2020-04-04 18:18:30\n",
      "Total: 0 days 00:15:00\n",
      "------------\n",
      "------------\n",
      "first sample: 2020-04-04 18:18:30\n",
      "last sample: 2020-04-04 18:33:30\n",
      "Total: 0 days 00:15:00\n",
      "------------\n",
      "------------\n",
      "first sample: 2020-04-04 18:33:30\n",
      "last sample: 2020-04-04 18:48:30\n",
      "Total: 0 days 00:15:00\n",
      "------------\n",
      "------------\n",
      "first sample: 2020-04-04 18:48:30\n",
      "last sample: 2020-04-04 19:03:30\n",
      "Total: 0 days 00:15:00\n",
      "------------\n",
      "------------\n",
      "first sample: 2020-04-04 19:03:30\n",
      "last sample: 2020-04-04 19:18:30\n",
      "Total: 0 days 00:15:00\n",
      "------------\n",
      "------------\n",
      "first sample: 2020-04-04 19:18:30\n",
      "last sample: 2020-04-04 19:33:30\n",
      "Total: 0 days 00:15:00\n",
      "------------\n",
      "------------\n",
      "first sample: 2020-04-04 19:33:30\n",
      "last sample: 2020-04-04 19:48:30\n",
      "Total: 0 days 00:15:00\n",
      "------------\n",
      "------------\n",
      "first sample: 2020-04-04 19:48:30\n",
      "last sample: 2020-04-04 20:03:30\n",
      "Total: 0 days 00:15:00\n",
      "------------\n",
      "------------\n",
      "first sample: 2020-04-04 20:03:30\n",
      "last sample: 2020-04-04 20:18:30\n",
      "Total: 0 days 00:15:00\n",
      "------------\n"
     ]
    },
    {
     "ename": "KeyboardInterrupt",
     "evalue": "",
     "output_type": "error",
     "traceback": [
      "\u001b[0;31m---------------------------------------------------------------------------\u001b[0m",
      "\u001b[0;31mKeyboardInterrupt\u001b[0m                         Traceback (most recent call last)",
      "\u001b[0;32m<ipython-input-8-036927e19f62>\u001b[0m in \u001b[0;36m<module>\u001b[0;34m\u001b[0m\n\u001b[1;32m     11\u001b[0m     \u001b[0;31m# TODO: return tuple\u001b[0m\u001b[0;34m\u001b[0m\u001b[0;34m\u001b[0m\u001b[0;34m\u001b[0m\u001b[0m\n\u001b[1;32m     12\u001b[0m     \u001b[0mt_now\u001b[0m \u001b[0;34m=\u001b[0m \u001b[0mdatetime\u001b[0m\u001b[0;34m.\u001b[0m\u001b[0mnow\u001b[0m\u001b[0;34m(\u001b[0m\u001b[0;34m)\u001b[0m\u001b[0;34m\u001b[0m\u001b[0;34m\u001b[0m\u001b[0m\n\u001b[0;32m---> 13\u001b[0;31m     \u001b[0mpull_start\u001b[0m\u001b[0;34m,\u001b[0m \u001b[0mnew_samples\u001b[0m \u001b[0;34m=\u001b[0m \u001b[0mcicids2017\u001b[0m\u001b[0;34m.\u001b[0m\u001b[0mpull\u001b[0m\u001b[0;34m(\u001b[0m\u001b[0mstop\u001b[0m\u001b[0;34m=\u001b[0m\u001b[0mpull_end\u001b[0m\u001b[0;34m)\u001b[0m\u001b[0;34m\u001b[0m\u001b[0;34m\u001b[0m\u001b[0m\n\u001b[0m\u001b[1;32m     14\u001b[0m     \u001b[0mts\u001b[0m\u001b[0;34m.\u001b[0m\u001b[0mappend\u001b[0m\u001b[0;34m(\u001b[0m\u001b[0mdatetime\u001b[0m\u001b[0;34m.\u001b[0m\u001b[0mnow\u001b[0m\u001b[0;34m(\u001b[0m\u001b[0;34m)\u001b[0m \u001b[0;34m-\u001b[0m \u001b[0mt_now\u001b[0m\u001b[0;34m)\u001b[0m\u001b[0;34m\u001b[0m\u001b[0;34m\u001b[0m\u001b[0m\n\u001b[1;32m     15\u001b[0m     \u001b[0;32mif\u001b[0m \u001b[0mnew_samples\u001b[0m \u001b[0;32mis\u001b[0m \u001b[0;32mNone\u001b[0m\u001b[0;34m:\u001b[0m\u001b[0;34m\u001b[0m\u001b[0;34m\u001b[0m\u001b[0m\n",
      "\u001b[0;32m~/Desktop/Projects/tesi_sabella/tesi_sabella/data_generator.py\u001b[0m in \u001b[0;36mpull\u001b[0;34m(self, start, stop)\u001b[0m\n\u001b[1;32m     43\u001b[0m         \u001b[0mutcnow\u001b[0m \u001b[0;34m=\u001b[0m \u001b[0mpd\u001b[0m\u001b[0;34m.\u001b[0m\u001b[0mTimestamp\u001b[0m\u001b[0;34m.\u001b[0m\u001b[0mutcnow\u001b[0m\u001b[0;34m(\u001b[0m\u001b[0;34m)\u001b[0m\u001b[0;34m\u001b[0m\u001b[0;34m\u001b[0m\u001b[0m\n\u001b[1;32m     44\u001b[0m         \u001b[0mq\u001b[0m \u001b[0;34m=\u001b[0m \u001b[0mself\u001b[0m\u001b[0;34m.\u001b[0m\u001b[0mquery\u001b[0m\u001b[0;34m(\u001b[0m\u001b[0mstart\u001b[0m\u001b[0;34m,\u001b[0m \u001b[0mstop\u001b[0m\u001b[0;34m)\u001b[0m\u001b[0;34m\u001b[0m\u001b[0;34m\u001b[0m\u001b[0m\n\u001b[0;32m---> 45\u001b[0;31m         \u001b[0mnew_samples\u001b[0m \u001b[0;34m=\u001b[0m \u001b[0mself\u001b[0m\u001b[0;34m.\u001b[0m\u001b[0mfluxclient\u001b[0m\u001b[0;34m(\u001b[0m\u001b[0mq\u001b[0m\u001b[0;34m,\u001b[0m \u001b[0mgrouby\u001b[0m\u001b[0;34m=\u001b[0m\u001b[0;32mFalse\u001b[0m\u001b[0;34m)\u001b[0m\u001b[0;34m.\u001b[0m\u001b[0mdframe\u001b[0m\u001b[0;34m\u001b[0m\u001b[0;34m\u001b[0m\u001b[0m\n\u001b[0m\u001b[1;32m     46\u001b[0m         \u001b[0;32mif\u001b[0m \u001b[0mnew_samples\u001b[0m \u001b[0;32mis\u001b[0m \u001b[0;32mNone\u001b[0m\u001b[0;34m:\u001b[0m\u001b[0;34m\u001b[0m\u001b[0;34m\u001b[0m\u001b[0m\n\u001b[1;32m     47\u001b[0m             \u001b[0mself\u001b[0m\u001b[0;34m.\u001b[0m\u001b[0mlast_timestamp\u001b[0m \u001b[0;34m=\u001b[0m \u001b[0mutcnow\u001b[0m\u001b[0;34m\u001b[0m\u001b[0;34m\u001b[0m\u001b[0m\n",
      "\u001b[0;32m~/Desktop/Projects/tesi_sabella/venv/lib/python3.7/site-packages/pyfluxc/pyfluxc.py\u001b[0m in \u001b[0;36m__call__\u001b[0;34m(self, q, grouby)\u001b[0m\n\u001b[1;32m    182\u001b[0m     \u001b[0;32mdef\u001b[0m \u001b[0m__call__\u001b[0m\u001b[0;34m(\u001b[0m\u001b[0mself\u001b[0m\u001b[0;34m,\u001b[0m \u001b[0mq\u001b[0m\u001b[0;34m,\u001b[0m \u001b[0mgrouby\u001b[0m\u001b[0;34m=\u001b[0m\u001b[0;32mTrue\u001b[0m\u001b[0;34m)\u001b[0m\u001b[0;34m:\u001b[0m\u001b[0;34m\u001b[0m\u001b[0;34m\u001b[0m\u001b[0m\n\u001b[1;32m    183\u001b[0m         \u001b[0mself\u001b[0m\u001b[0;34m.\u001b[0m\u001b[0mpreq\u001b[0m\u001b[0;34m.\u001b[0m\u001b[0mdata\u001b[0m \u001b[0;34m=\u001b[0m \u001b[0mstr\u001b[0m\u001b[0;34m(\u001b[0m\u001b[0mq\u001b[0m\u001b[0;34m)\u001b[0m\u001b[0;34m\u001b[0m\u001b[0;34m\u001b[0m\u001b[0m\n\u001b[0;32m--> 184\u001b[0;31m         \u001b[0mres\u001b[0m \u001b[0;34m=\u001b[0m \u001b[0mself\u001b[0m\u001b[0;34m.\u001b[0m\u001b[0msession\u001b[0m\u001b[0;34m.\u001b[0m\u001b[0msend\u001b[0m\u001b[0;34m(\u001b[0m\u001b[0mself\u001b[0m\u001b[0;34m.\u001b[0m\u001b[0mpreq\u001b[0m\u001b[0;34m.\u001b[0m\u001b[0mprepare\u001b[0m\u001b[0;34m(\u001b[0m\u001b[0;34m)\u001b[0m\u001b[0;34m)\u001b[0m\u001b[0;34m\u001b[0m\u001b[0;34m\u001b[0m\u001b[0m\n\u001b[0m\u001b[1;32m    185\u001b[0m \u001b[0;34m\u001b[0m\u001b[0m\n\u001b[1;32m    186\u001b[0m         \u001b[0;32mreturn\u001b[0m \u001b[0mFluxResponse\u001b[0m\u001b[0;34m(\u001b[0m\u001b[0mres\u001b[0m\u001b[0;34m,\u001b[0m \u001b[0mq\u001b[0m\u001b[0;34m,\u001b[0m \u001b[0mgrouby\u001b[0m\u001b[0;34m)\u001b[0m\u001b[0;34m\u001b[0m\u001b[0;34m\u001b[0m\u001b[0m\n",
      "\u001b[0;32m~/Desktop/Projects/tesi_sabella/venv/lib/python3.7/site-packages/requests/sessions.py\u001b[0m in \u001b[0;36msend\u001b[0;34m(self, request, **kwargs)\u001b[0m\n\u001b[1;32m    641\u001b[0m \u001b[0;34m\u001b[0m\u001b[0m\n\u001b[1;32m    642\u001b[0m         \u001b[0;31m# Send the request\u001b[0m\u001b[0;34m\u001b[0m\u001b[0;34m\u001b[0m\u001b[0;34m\u001b[0m\u001b[0m\n\u001b[0;32m--> 643\u001b[0;31m         \u001b[0mr\u001b[0m \u001b[0;34m=\u001b[0m \u001b[0madapter\u001b[0m\u001b[0;34m.\u001b[0m\u001b[0msend\u001b[0m\u001b[0;34m(\u001b[0m\u001b[0mrequest\u001b[0m\u001b[0;34m,\u001b[0m \u001b[0;34m**\u001b[0m\u001b[0mkwargs\u001b[0m\u001b[0;34m)\u001b[0m\u001b[0;34m\u001b[0m\u001b[0;34m\u001b[0m\u001b[0m\n\u001b[0m\u001b[1;32m    644\u001b[0m \u001b[0;34m\u001b[0m\u001b[0m\n\u001b[1;32m    645\u001b[0m         \u001b[0;31m# Total elapsed time of the request (approximately)\u001b[0m\u001b[0;34m\u001b[0m\u001b[0;34m\u001b[0m\u001b[0;34m\u001b[0m\u001b[0m\n",
      "\u001b[0;32m~/Desktop/Projects/tesi_sabella/venv/lib/python3.7/site-packages/requests/adapters.py\u001b[0m in \u001b[0;36msend\u001b[0;34m(self, request, stream, timeout, verify, cert, proxies)\u001b[0m\n\u001b[1;32m    447\u001b[0m                     \u001b[0mdecode_content\u001b[0m\u001b[0;34m=\u001b[0m\u001b[0;32mFalse\u001b[0m\u001b[0;34m,\u001b[0m\u001b[0;34m\u001b[0m\u001b[0;34m\u001b[0m\u001b[0m\n\u001b[1;32m    448\u001b[0m                     \u001b[0mretries\u001b[0m\u001b[0;34m=\u001b[0m\u001b[0mself\u001b[0m\u001b[0;34m.\u001b[0m\u001b[0mmax_retries\u001b[0m\u001b[0;34m,\u001b[0m\u001b[0;34m\u001b[0m\u001b[0;34m\u001b[0m\u001b[0m\n\u001b[0;32m--> 449\u001b[0;31m                     \u001b[0mtimeout\u001b[0m\u001b[0;34m=\u001b[0m\u001b[0mtimeout\u001b[0m\u001b[0;34m\u001b[0m\u001b[0;34m\u001b[0m\u001b[0m\n\u001b[0m\u001b[1;32m    450\u001b[0m                 )\n\u001b[1;32m    451\u001b[0m \u001b[0;34m\u001b[0m\u001b[0m\n",
      "\u001b[0;32m~/Desktop/Projects/tesi_sabella/venv/lib/python3.7/site-packages/urllib3/connectionpool.py\u001b[0m in \u001b[0;36murlopen\u001b[0;34m(self, method, url, body, headers, retries, redirect, assert_same_host, timeout, pool_timeout, release_conn, chunked, body_pos, **response_kw)\u001b[0m\n\u001b[1;32m    670\u001b[0m                 \u001b[0mbody\u001b[0m\u001b[0;34m=\u001b[0m\u001b[0mbody\u001b[0m\u001b[0;34m,\u001b[0m\u001b[0;34m\u001b[0m\u001b[0;34m\u001b[0m\u001b[0m\n\u001b[1;32m    671\u001b[0m                 \u001b[0mheaders\u001b[0m\u001b[0;34m=\u001b[0m\u001b[0mheaders\u001b[0m\u001b[0;34m,\u001b[0m\u001b[0;34m\u001b[0m\u001b[0;34m\u001b[0m\u001b[0m\n\u001b[0;32m--> 672\u001b[0;31m                 \u001b[0mchunked\u001b[0m\u001b[0;34m=\u001b[0m\u001b[0mchunked\u001b[0m\u001b[0;34m,\u001b[0m\u001b[0;34m\u001b[0m\u001b[0;34m\u001b[0m\u001b[0m\n\u001b[0m\u001b[1;32m    673\u001b[0m             )\n\u001b[1;32m    674\u001b[0m \u001b[0;34m\u001b[0m\u001b[0m\n",
      "\u001b[0;32m~/Desktop/Projects/tesi_sabella/venv/lib/python3.7/site-packages/urllib3/connectionpool.py\u001b[0m in \u001b[0;36m_make_request\u001b[0;34m(self, conn, method, url, timeout, chunked, **httplib_request_kw)\u001b[0m\n\u001b[1;32m    419\u001b[0m                     \u001b[0;31m# Python 3 (including for exceptions like SystemExit).\u001b[0m\u001b[0;34m\u001b[0m\u001b[0;34m\u001b[0m\u001b[0;34m\u001b[0m\u001b[0m\n\u001b[1;32m    420\u001b[0m                     \u001b[0;31m# Otherwise it looks like a bug in the code.\u001b[0m\u001b[0;34m\u001b[0m\u001b[0;34m\u001b[0m\u001b[0;34m\u001b[0m\u001b[0m\n\u001b[0;32m--> 421\u001b[0;31m                     \u001b[0msix\u001b[0m\u001b[0;34m.\u001b[0m\u001b[0mraise_from\u001b[0m\u001b[0;34m(\u001b[0m\u001b[0me\u001b[0m\u001b[0;34m,\u001b[0m \u001b[0;32mNone\u001b[0m\u001b[0;34m)\u001b[0m\u001b[0;34m\u001b[0m\u001b[0;34m\u001b[0m\u001b[0m\n\u001b[0m\u001b[1;32m    422\u001b[0m         \u001b[0;32mexcept\u001b[0m \u001b[0;34m(\u001b[0m\u001b[0mSocketTimeout\u001b[0m\u001b[0;34m,\u001b[0m \u001b[0mBaseSSLError\u001b[0m\u001b[0;34m,\u001b[0m \u001b[0mSocketError\u001b[0m\u001b[0;34m)\u001b[0m \u001b[0;32mas\u001b[0m \u001b[0me\u001b[0m\u001b[0;34m:\u001b[0m\u001b[0;34m\u001b[0m\u001b[0;34m\u001b[0m\u001b[0m\n\u001b[1;32m    423\u001b[0m             \u001b[0mself\u001b[0m\u001b[0;34m.\u001b[0m\u001b[0m_raise_timeout\u001b[0m\u001b[0;34m(\u001b[0m\u001b[0merr\u001b[0m\u001b[0;34m=\u001b[0m\u001b[0me\u001b[0m\u001b[0;34m,\u001b[0m \u001b[0murl\u001b[0m\u001b[0;34m=\u001b[0m\u001b[0murl\u001b[0m\u001b[0;34m,\u001b[0m \u001b[0mtimeout_value\u001b[0m\u001b[0;34m=\u001b[0m\u001b[0mread_timeout\u001b[0m\u001b[0;34m)\u001b[0m\u001b[0;34m\u001b[0m\u001b[0;34m\u001b[0m\u001b[0m\n",
      "\u001b[0;32m~/Desktop/Projects/tesi_sabella/venv/lib/python3.7/site-packages/urllib3/packages/six.py\u001b[0m in \u001b[0;36mraise_from\u001b[0;34m(value, from_value)\u001b[0m\n",
      "\u001b[0;32m~/Desktop/Projects/tesi_sabella/venv/lib/python3.7/site-packages/urllib3/connectionpool.py\u001b[0m in \u001b[0;36m_make_request\u001b[0;34m(self, conn, method, url, timeout, chunked, **httplib_request_kw)\u001b[0m\n\u001b[1;32m    414\u001b[0m                 \u001b[0;31m# Python 3\u001b[0m\u001b[0;34m\u001b[0m\u001b[0;34m\u001b[0m\u001b[0;34m\u001b[0m\u001b[0m\n\u001b[1;32m    415\u001b[0m                 \u001b[0;32mtry\u001b[0m\u001b[0;34m:\u001b[0m\u001b[0;34m\u001b[0m\u001b[0;34m\u001b[0m\u001b[0m\n\u001b[0;32m--> 416\u001b[0;31m                     \u001b[0mhttplib_response\u001b[0m \u001b[0;34m=\u001b[0m \u001b[0mconn\u001b[0m\u001b[0;34m.\u001b[0m\u001b[0mgetresponse\u001b[0m\u001b[0;34m(\u001b[0m\u001b[0;34m)\u001b[0m\u001b[0;34m\u001b[0m\u001b[0;34m\u001b[0m\u001b[0m\n\u001b[0m\u001b[1;32m    417\u001b[0m                 \u001b[0;32mexcept\u001b[0m \u001b[0mBaseException\u001b[0m \u001b[0;32mas\u001b[0m \u001b[0me\u001b[0m\u001b[0;34m:\u001b[0m\u001b[0;34m\u001b[0m\u001b[0;34m\u001b[0m\u001b[0m\n\u001b[1;32m    418\u001b[0m                     \u001b[0;31m# Remove the TypeError from the exception chain in\u001b[0m\u001b[0;34m\u001b[0m\u001b[0;34m\u001b[0m\u001b[0;34m\u001b[0m\u001b[0m\n",
      "\u001b[0;32m/usr/local/Cellar/python/3.7.5/Frameworks/Python.framework/Versions/3.7/lib/python3.7/http/client.py\u001b[0m in \u001b[0;36mgetresponse\u001b[0;34m(self)\u001b[0m\n\u001b[1;32m   1342\u001b[0m         \u001b[0;32mtry\u001b[0m\u001b[0;34m:\u001b[0m\u001b[0;34m\u001b[0m\u001b[0;34m\u001b[0m\u001b[0m\n\u001b[1;32m   1343\u001b[0m             \u001b[0;32mtry\u001b[0m\u001b[0;34m:\u001b[0m\u001b[0;34m\u001b[0m\u001b[0;34m\u001b[0m\u001b[0m\n\u001b[0;32m-> 1344\u001b[0;31m                 \u001b[0mresponse\u001b[0m\u001b[0;34m.\u001b[0m\u001b[0mbegin\u001b[0m\u001b[0;34m(\u001b[0m\u001b[0;34m)\u001b[0m\u001b[0;34m\u001b[0m\u001b[0;34m\u001b[0m\u001b[0m\n\u001b[0m\u001b[1;32m   1345\u001b[0m             \u001b[0;32mexcept\u001b[0m \u001b[0mConnectionError\u001b[0m\u001b[0;34m:\u001b[0m\u001b[0;34m\u001b[0m\u001b[0;34m\u001b[0m\u001b[0m\n\u001b[1;32m   1346\u001b[0m                 \u001b[0mself\u001b[0m\u001b[0;34m.\u001b[0m\u001b[0mclose\u001b[0m\u001b[0;34m(\u001b[0m\u001b[0;34m)\u001b[0m\u001b[0;34m\u001b[0m\u001b[0;34m\u001b[0m\u001b[0m\n",
      "\u001b[0;32m/usr/local/Cellar/python/3.7.5/Frameworks/Python.framework/Versions/3.7/lib/python3.7/http/client.py\u001b[0m in \u001b[0;36mbegin\u001b[0;34m(self)\u001b[0m\n\u001b[1;32m    304\u001b[0m         \u001b[0;31m# read until we get a non-100 response\u001b[0m\u001b[0;34m\u001b[0m\u001b[0;34m\u001b[0m\u001b[0;34m\u001b[0m\u001b[0m\n\u001b[1;32m    305\u001b[0m         \u001b[0;32mwhile\u001b[0m \u001b[0;32mTrue\u001b[0m\u001b[0;34m:\u001b[0m\u001b[0;34m\u001b[0m\u001b[0;34m\u001b[0m\u001b[0m\n\u001b[0;32m--> 306\u001b[0;31m             \u001b[0mversion\u001b[0m\u001b[0;34m,\u001b[0m \u001b[0mstatus\u001b[0m\u001b[0;34m,\u001b[0m \u001b[0mreason\u001b[0m \u001b[0;34m=\u001b[0m \u001b[0mself\u001b[0m\u001b[0;34m.\u001b[0m\u001b[0m_read_status\u001b[0m\u001b[0;34m(\u001b[0m\u001b[0;34m)\u001b[0m\u001b[0;34m\u001b[0m\u001b[0;34m\u001b[0m\u001b[0m\n\u001b[0m\u001b[1;32m    307\u001b[0m             \u001b[0;32mif\u001b[0m \u001b[0mstatus\u001b[0m \u001b[0;34m!=\u001b[0m \u001b[0mCONTINUE\u001b[0m\u001b[0;34m:\u001b[0m\u001b[0;34m\u001b[0m\u001b[0;34m\u001b[0m\u001b[0m\n\u001b[1;32m    308\u001b[0m                 \u001b[0;32mbreak\u001b[0m\u001b[0;34m\u001b[0m\u001b[0;34m\u001b[0m\u001b[0m\n",
      "\u001b[0;32m/usr/local/Cellar/python/3.7.5/Frameworks/Python.framework/Versions/3.7/lib/python3.7/http/client.py\u001b[0m in \u001b[0;36m_read_status\u001b[0;34m(self)\u001b[0m\n\u001b[1;32m    265\u001b[0m \u001b[0;34m\u001b[0m\u001b[0m\n\u001b[1;32m    266\u001b[0m     \u001b[0;32mdef\u001b[0m \u001b[0m_read_status\u001b[0m\u001b[0;34m(\u001b[0m\u001b[0mself\u001b[0m\u001b[0;34m)\u001b[0m\u001b[0;34m:\u001b[0m\u001b[0;34m\u001b[0m\u001b[0;34m\u001b[0m\u001b[0m\n\u001b[0;32m--> 267\u001b[0;31m         \u001b[0mline\u001b[0m \u001b[0;34m=\u001b[0m \u001b[0mstr\u001b[0m\u001b[0;34m(\u001b[0m\u001b[0mself\u001b[0m\u001b[0;34m.\u001b[0m\u001b[0mfp\u001b[0m\u001b[0;34m.\u001b[0m\u001b[0mreadline\u001b[0m\u001b[0;34m(\u001b[0m\u001b[0m_MAXLINE\u001b[0m \u001b[0;34m+\u001b[0m \u001b[0;36m1\u001b[0m\u001b[0;34m)\u001b[0m\u001b[0;34m,\u001b[0m \u001b[0;34m\"iso-8859-1\"\u001b[0m\u001b[0;34m)\u001b[0m\u001b[0;34m\u001b[0m\u001b[0;34m\u001b[0m\u001b[0m\n\u001b[0m\u001b[1;32m    268\u001b[0m         \u001b[0;32mif\u001b[0m \u001b[0mlen\u001b[0m\u001b[0;34m(\u001b[0m\u001b[0mline\u001b[0m\u001b[0;34m)\u001b[0m \u001b[0;34m>\u001b[0m \u001b[0m_MAXLINE\u001b[0m\u001b[0;34m:\u001b[0m\u001b[0;34m\u001b[0m\u001b[0;34m\u001b[0m\u001b[0m\n\u001b[1;32m    269\u001b[0m             \u001b[0;32mraise\u001b[0m \u001b[0mLineTooLong\u001b[0m\u001b[0;34m(\u001b[0m\u001b[0;34m\"status line\"\u001b[0m\u001b[0;34m)\u001b[0m\u001b[0;34m\u001b[0m\u001b[0;34m\u001b[0m\u001b[0m\n",
      "\u001b[0;32m/usr/local/Cellar/python/3.7.5/Frameworks/Python.framework/Versions/3.7/lib/python3.7/socket.py\u001b[0m in \u001b[0;36mreadinto\u001b[0;34m(self, b)\u001b[0m\n\u001b[1;32m    587\u001b[0m         \u001b[0;32mwhile\u001b[0m \u001b[0;32mTrue\u001b[0m\u001b[0;34m:\u001b[0m\u001b[0;34m\u001b[0m\u001b[0;34m\u001b[0m\u001b[0m\n\u001b[1;32m    588\u001b[0m             \u001b[0;32mtry\u001b[0m\u001b[0;34m:\u001b[0m\u001b[0;34m\u001b[0m\u001b[0;34m\u001b[0m\u001b[0m\n\u001b[0;32m--> 589\u001b[0;31m                 \u001b[0;32mreturn\u001b[0m \u001b[0mself\u001b[0m\u001b[0;34m.\u001b[0m\u001b[0m_sock\u001b[0m\u001b[0;34m.\u001b[0m\u001b[0mrecv_into\u001b[0m\u001b[0;34m(\u001b[0m\u001b[0mb\u001b[0m\u001b[0;34m)\u001b[0m\u001b[0;34m\u001b[0m\u001b[0;34m\u001b[0m\u001b[0m\n\u001b[0m\u001b[1;32m    590\u001b[0m             \u001b[0;32mexcept\u001b[0m \u001b[0mtimeout\u001b[0m\u001b[0;34m:\u001b[0m\u001b[0;34m\u001b[0m\u001b[0;34m\u001b[0m\u001b[0m\n\u001b[1;32m    591\u001b[0m                 \u001b[0mself\u001b[0m\u001b[0;34m.\u001b[0m\u001b[0m_timeout_occurred\u001b[0m \u001b[0;34m=\u001b[0m \u001b[0;32mTrue\u001b[0m\u001b[0;34m\u001b[0m\u001b[0;34m\u001b[0m\u001b[0m\n",
      "\u001b[0;31mKeyboardInterrupt\u001b[0m: "
     ]
    }
   ],
   "source": [
    "i = 1\n",
    "pull_start = start\n",
    "ts = []\n",
    "while True:\n",
    "    pull_end = pull_start + PULL_DELTA_TIME\n",
    "    \n",
    "    print(\"------------\")\n",
    "    print(f\"first sample: {pull_start}\\nlast sample: {pull_end}\\nTotal: {pull_end-pull_start}\")\n",
    "    print(\"------------\")\n",
    "    \n",
    "    # TODO: return tuple\n",
    "    t_now = datetime.now()\n",
    "    pull_start, new_samples = cicids2017.pull(stop=pull_end)\n",
    "    ts.append(datetime.now() - t_now)\n",
    "    if new_samples is None:\n",
    "        break\n",
    "\n",
    "mprint(f\"**Mean pulling time:** {np.mean(ts)}\")"
   ]
  },
  {
   "cell_type": "code",
   "execution_count": null,
   "metadata": {},
   "outputs": [],
   "source": [
    "DIFF = False\n",
    "cicids2017_df = cicids2017.to_pandas(DIFF)\n",
    "\n",
    "# Setting correct timing before saving\n",
    "day = BUCKET.split(\"_\")[-1]\n",
    "delta = TCPREPLAY_START[day] - CIC_IDS_2017_START[day]\n",
    "new_delta_time = (cicids2017_df.index.levels[2] - delta)\n",
    "cicids2017_df.index.set_levels(new_delta_time, level=\"_time\", inplace=True)\n",
    "\n",
    "cicids2017_df.to_pickle(f\"./{BUCKET}{'_no_delta' if not DIFF else ''}.pkl\")"
   ]
  },
  {
   "cell_type": "code",
   "execution_count": null,
   "metadata": {},
   "outputs": [],
   "source": [
    "def cest_to_utc(x):\n",
    "    return x.tz_localize(tz='CET').tz_convert('UTC').tz_localize(tz=None)\n",
    "    \n",
    "TCPREPLAY_START_UTC = { k: cest_to_utc(x) for k, x in TCPREPLAY_START.items() }\n",
    "for k, v in TCPREPLAY_START_UTC.items():\n",
    "    print(v.strftime(format='%Y-%m-%dT%H:%M:%S.%f'))"
   ]
  },
  {
   "cell_type": "code",
   "execution_count": 10,
   "metadata": {},
   "outputs": [],
   "source": [
    "df = cicids2017.to_pandas(False)"
   ]
  },
  {
   "cell_type": "code",
   "execution_count": 30,
   "metadata": {},
   "outputs": [
    {
     "name": "stderr",
     "output_type": "stream",
     "text": [
      "/Users/swedishhdcamera/Desktop/Projects/tesi_sabella/venv/lib/python3.7/site-packages/ipykernel_launcher.py:2: PerformanceWarning: indexing past lexsort depth may impact performance.\n",
      "  \n",
      "/Users/swedishhdcamera/Desktop/Projects/tesi_sabella/venv/lib/python3.7/site-packages/ipykernel_launcher.py:3: PerformanceWarning: indexing past lexsort depth may impact performance.\n",
      "  This is separate from the ipykernel package so we can avoid doing imports until\n",
      "/Users/swedishhdcamera/Desktop/Projects/tesi_sabella/venv/lib/python3.7/site-packages/ipykernel_launcher.py:4: PerformanceWarning: indexing past lexsort depth may impact performance.\n",
      "  after removing the cwd from sys.path.\n"
     ]
    },
    {
     "data": {
      "text/html": [
       "<div>\n",
       "<style scoped>\n",
       "    .dataframe tbody tr th:only-of-type {\n",
       "        vertical-align: middle;\n",
       "    }\n",
       "\n",
       "    .dataframe tbody tr th {\n",
       "        vertical-align: top;\n",
       "    }\n",
       "\n",
       "    .dataframe thead th {\n",
       "        text-align: right;\n",
       "    }\n",
       "</style>\n",
       "<table border=\"1\" class=\"dataframe\">\n",
       "  <thead>\n",
       "    <tr style=\"text-align: right;\">\n",
       "      <th></th>\n",
       "      <th>0</th>\n",
       "      <th>ndpi:bytes_rcvd__unknown</th>\n",
       "    </tr>\n",
       "    <tr>\n",
       "      <th>_time</th>\n",
       "      <th></th>\n",
       "      <th></th>\n",
       "    </tr>\n",
       "  </thead>\n",
       "  <tbody>\n",
       "    <tr>\n",
       "      <th>2020-04-04 17:20:45</th>\n",
       "      <td>2.423000e+03</td>\n",
       "      <td>19420.0</td>\n",
       "    </tr>\n",
       "    <tr>\n",
       "      <th>2020-04-04 17:21:00</th>\n",
       "      <td>4.040600e+04</td>\n",
       "      <td>19420.0</td>\n",
       "    </tr>\n",
       "    <tr>\n",
       "      <th>2020-04-04 17:21:15</th>\n",
       "      <td>4.040600e+04</td>\n",
       "      <td>19420.0</td>\n",
       "    </tr>\n",
       "    <tr>\n",
       "      <th>2020-04-04 17:21:30</th>\n",
       "      <td>4.040600e+04</td>\n",
       "      <td>19420.0</td>\n",
       "    </tr>\n",
       "    <tr>\n",
       "      <th>2020-04-04 17:21:45</th>\n",
       "      <td>5.599200e+04</td>\n",
       "      <td>29307.0</td>\n",
       "    </tr>\n",
       "    <tr>\n",
       "      <th>...</th>\n",
       "      <td>...</td>\n",
       "      <td>...</td>\n",
       "    </tr>\n",
       "    <tr>\n",
       "      <th>2020-04-04 20:02:30</th>\n",
       "      <td>2.126915e+07</td>\n",
       "      <td>206214.0</td>\n",
       "    </tr>\n",
       "    <tr>\n",
       "      <th>2020-04-04 20:02:45</th>\n",
       "      <td>2.126921e+07</td>\n",
       "      <td>206214.0</td>\n",
       "    </tr>\n",
       "    <tr>\n",
       "      <th>2020-04-04 20:03:00</th>\n",
       "      <td>2.126921e+07</td>\n",
       "      <td>206214.0</td>\n",
       "    </tr>\n",
       "    <tr>\n",
       "      <th>2020-04-04 20:03:15</th>\n",
       "      <td>2.126934e+07</td>\n",
       "      <td>206346.0</td>\n",
       "    </tr>\n",
       "    <tr>\n",
       "      <th>2020-04-04 20:03:30</th>\n",
       "      <td>2.127053e+07</td>\n",
       "      <td>206684.0</td>\n",
       "    </tr>\n",
       "  </tbody>\n",
       "</table>\n",
       "<p>657 rows × 2 columns</p>\n",
       "</div>"
      ],
      "text/plain": [
       "                                0  ndpi:bytes_rcvd__unknown\n",
       "_time                                                      \n",
       "2020-04-04 17:20:45  2.423000e+03                   19420.0\n",
       "2020-04-04 17:21:00  4.040600e+04                   19420.0\n",
       "2020-04-04 17:21:15  4.040600e+04                   19420.0\n",
       "2020-04-04 17:21:30  4.040600e+04                   19420.0\n",
       "2020-04-04 17:21:45  5.599200e+04                   29307.0\n",
       "...                           ...                       ...\n",
       "2020-04-04 20:02:30  2.126915e+07                  206214.0\n",
       "2020-04-04 20:02:45  2.126921e+07                  206214.0\n",
       "2020-04-04 20:03:00  2.126921e+07                  206214.0\n",
       "2020-04-04 20:03:15  2.126934e+07                  206346.0\n",
       "2020-04-04 20:03:30  2.127053e+07                  206684.0\n",
       "\n",
       "[657 rows x 2 columns]"
      ]
     },
     "execution_count": 30,
     "metadata": {},
     "output_type": "execute_result"
    }
   ],
   "source": [
    "ndpi_rcvd = [x for x in list(df.columns) if \"ndpi:bytes_rcvd\" in x and \"unknown\" not in x]\n",
    "ndpi = df.loc[\"pc\", \"192.168.10.12\"][ndpi_rcvd].sum(axis=1)\n",
    "bytes_rcvd = df.loc[\"pc\", \"192.168.10.12\"][\"traffic:bytes_rcvd\"]\n",
    "unknown = df.loc[\"pc\", \"192.168.10.12\"][\"ndpi:bytes_rcvd__unknown\"]\n",
    "pd.concat([bytes_rcvd-ndpi, unknown], axis=1)"
   ]
  },
  {
   "cell_type": "code",
   "execution_count": 29,
   "metadata": {},
   "outputs": [
    {
     "data": {
      "text/plain": [
       "['ndpi:bytes_rcvd__rpc',\n",
       " 'ndpi:bytes_rcvd__video-media',\n",
       " 'ndpi:bytes_rcvd__streaming',\n",
       " 'ndpi:bytes_rcvd__network_file_system',\n",
       " 'ndpi:bytes_rcvd__p2p-iptv',\n",
       " 'ndpi:bytes_rcvd__aaa-protocol',\n",
       " 'ndpi:bytes_rcvd__maps',\n",
       " 'ndpi:bytes_rcvd__other',\n",
       " 'ndpi:bytes_rcvd__iot',\n",
       " 'ndpi:bytes_rcvd__database',\n",
       " 'ndpi:bytes_rcvd__dns',\n",
       " 'ndpi:bytes_rcvd__update',\n",
       " 'ndpi:bytes_rcvd__search-engine',\n",
       " 'ndpi:bytes_rcvd__mail_service',\n",
       " 'ndpi:bytes_rcvd__tunneling',\n",
       " 'ndpi:bytes_rcvd__voip',\n",
       " 'ndpi:bytes_rcvd__instant-message-protocol',\n",
       " 'ndpi:bytes_rcvd__video_file',\n",
       " 'ndpi:bytes_rcvd__sysadmin',\n",
       " 'ndpi:bytes_rcvd__monitoring',\n",
       " 'ndpi:bytes_rcvd__http',\n",
       " 'ndpi:bytes_rcvd__cloud storage',\n",
       " 'ndpi:bytes_rcvd__p2p_file_sharing',\n",
       " 'ndpi:bytes_rcvd__online_encyclopedia',\n",
       " 'ndpi:bytes_rcvd__audio_file',\n",
       " 'ndpi:bytes_rcvd__chat',\n",
       " 'ndpi:bytes_rcvd__mining',\n",
       " 'ndpi:bytes_rcvd__device discovery',\n",
       " 'ndpi:bytes_rcvd__other-l4',\n",
       " 'ndpi:bytes_rcvd__music-service',\n",
       " 'ndpi:bytes_rcvd__message-broker',\n",
       " 'ndpi:bytes_rcvd__vpn',\n",
       " 'ndpi:bytes_rcvd__os-specific',\n",
       " 'ndpi:bytes_rcvd__e-commerce',\n",
       " 'ndpi:bytes_rcvd__video-chat',\n",
       " 'ndpi:bytes_rcvd__real-time-media-protocol',\n",
       " 'ndpi:bytes_rcvd__ipsec',\n",
       " 'ndpi:bytes_rcvd__iptv',\n",
       " 'ndpi:bytes_rcvd__social',\n",
       " 'ndpi:bytes_rcvd__gaming',\n",
       " 'ndpi:bytes_rcvd__routing',\n",
       " 'ndpi:bytes_rcvd__tor',\n",
       " 'ndpi:bytes_rcvd__android-specific',\n",
       " 'ndpi:bytes_rcvd__printing_scanners',\n",
       " 'ndpi:bytes_rcvd__proxy',\n",
       " 'ndpi:bytes_rcvd__file_sharing',\n",
       " 'ndpi:bytes_rcvd__osi-l5',\n",
       " 'ndpi:bytes_rcvd__ridesharing',\n",
       " 'ndpi:bytes_rcvd__remote-access',\n",
       " 'ndpi:bytes_rcvd__p2p-streaming',\n",
       " 'ndpi:bytes_rcvd__document-editing',\n",
       " 'ndpi:bytes_rcvd__mobile-specific',\n",
       " 'ndpi:bytes_rcvd__l4-encr']"
      ]
     },
     "execution_count": 29,
     "metadata": {},
     "output_type": "execute_result"
    }
   ],
   "source": [
    "ndpi_rcvd"
   ]
  },
  {
   "cell_type": "code",
   "execution_count": null,
   "metadata": {},
   "outputs": [],
   "source": []
  }
 ],
 "metadata": {
  "kernelspec": {
   "display_name": "Python 3",
   "language": "python",
   "name": "python3"
  },
  "language_info": {
   "codemirror_mode": {
    "name": "ipython",
    "version": 3
   },
   "file_extension": ".py",
   "mimetype": "text/x-python",
   "name": "python",
   "nbconvert_exporter": "python",
   "pygments_lexer": "ipython3",
   "version": "3.7.5"
  }
 },
 "nbformat": 4,
 "nbformat_minor": 4
}
