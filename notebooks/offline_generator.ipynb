{
 "cells": [
  {
   "cell_type": "code",
   "execution_count": 1,
   "metadata": {},
   "outputs": [
    {
     "data": {
      "text/plain": [
       "<module 'cicids2017_data_generator' from '/Users/swedishhdcamera/Desktop/Projects/tesi_sabella/tesi_sabella/cicids2017_data_generator.py'>"
      ]
     },
     "execution_count": 1,
     "metadata": {},
     "output_type": "execute_result"
    }
   ],
   "source": [
    "import os\n",
    "import sys\n",
    "import numpy as np\n",
    "from pprint import pprint\n",
    "from tqdm import tqdm\n",
    "import pandas as pd\n",
    "from datetime import datetime\n",
    "from importlib import reload\n",
    "import math\n",
    "from IPython.display import display, Markdown\n",
    "from datetime import datetime\n",
    "\n",
    "sys.path.insert(0, os.path.abspath('../tesi_sabella'))\n",
    "# pd.options.display.max_rows = 999\n",
    "\n",
    "import pyfluxc.pyfluxc as flux\n",
    "import cicids2017_data_generator as generator\n",
    "import data_generator as dt\n",
    "reload(flux)\n",
    "reload(generator)"
   ]
  },
  {
   "cell_type": "code",
   "execution_count": 2,
   "metadata": {},
   "outputs": [],
   "source": [
    "# Functions ----- #\n",
    "def mprint(s):\n",
    "    display(Markdown(s))\n",
    "    \n",
    "def to_dt(x):\n",
    "    return pd.to_datetime(x, format='%Y-%m-%dT%H:%M:%S.%f')"
   ]
  },
  {
   "cell_type": "code",
   "execution_count": 3,
   "metadata": {},
   "outputs": [],
   "source": [
    "# Constants ----- #\n",
    "BUCKET = 'CIC_IDS_2017_Friday'\n",
    "PULL_EVERY_X_MINUTES = 15\n",
    "PULL_DELTA_TIME = pd.Timedelta(minutes=PULL_EVERY_X_MINUTES)\n",
    "\n",
    "TCPREPLAY_START = {\n",
    "    \"Monday\": \"2020-04-04T17:19:06.730097\",\n",
    "    \"Tuesday\": \"2020-04-05T14:09:30.933025\",\n",
    "    \"Wednesday\": \"2020-04-06T08:46:54.338920\",\n",
    "    \"Thursday\": \"2020-04-07T08:08:37.127602808\",\n",
    "    \"Friday\": \"2020-04-07T22:41:05.814784058\"}\n",
    "TCPREPLAY_START = { k: pd.to_datetime(s, format='%Y-%m-%dT%H:%M:%S.%f') for k, s in TCPREPLAY_START.items() }\n",
    "    \n",
    "CIC_IDS_2017_TIMES = {\n",
    "    \"Monday\": (\"2017-07-03T08:55:58.598308\", \"2017-07-03T17:01:34.472889\"),\n",
    "    \"Tuesday\": (\"2017-07-04T08:53:32.364079\", \"2017-07-04T17:00:31.076755\"),\n",
    "    \"Wednesday\": (\"2017-07-05T08:42:42.084372\", \"2017-07-05T17:10:19.780725\"),\n",
    "    \"Thursday\": (\"2017-07-06T08:58:58.492265\", \"2017-07-06T17:04:44.364012\"),\n",
    "    \"Friday\": (\"2017-07-07T08:59:39.599128\", \"2017-07-07T17:02:41.169108\"),\n",
    "}\n",
    "CIC_IDS_2017_TIMES = { k: (to_dt(s), to_dt(e)) for k, (s,e) in CIC_IDS_2017_TIMES.items() }"
   ]
  },
  {
   "cell_type": "markdown",
   "metadata": {},
   "source": [
    "# Generating time series"
   ]
  },
  {
   "cell_type": "markdown",
   "metadata": {},
   "source": [
    "We pull only the time range in which samples are available"
   ]
  },
  {
   "cell_type": "code",
   "execution_count": 6,
   "metadata": {},
   "outputs": [
    {
     "name": "stdout",
     "output_type": "stream",
     "text": [
      "**first sample**: 2020-04-07 22:40:35\n",
      "**last sample**: 2020-04-08 07:10:55\n",
      "Total: 0 days 08:30:20\n"
     ]
    }
   ],
   "source": [
    "fclient = flux.FluxClient(); \n",
    "start, end = fclient.bucket_timerange(BUCKET)\n",
    "print(f\"**first sample**: {start}\\n**last sample**: {end}\\nTotal: {end-start}\")"
   ]
  },
  {
   "cell_type": "code",
   "execution_count": 7,
   "metadata": {},
   "outputs": [],
   "source": [
    "cicids2017 = generator.CICIDS2017(BUCKET, '15s', fclient, start)"
   ]
  },
  {
   "cell_type": "markdown",
   "metadata": {},
   "source": [
    "Extract data from influxdb in time intervals due to influx kill signal"
   ]
  },
  {
   "cell_type": "code",
   "execution_count": 8,
   "metadata": {},
   "outputs": [
    {
     "name": "stdout",
     "output_type": "stream",
     "text": [
      "------------\n",
      "first sample: 2020-04-07 22:40:35\n",
      "last sample: 2020-04-07 22:55:35\n",
      "Total: 0 days 00:15:00\n",
      "------------\n",
      "------------\n",
      "first sample: 2020-04-07 22:55:35\n",
      "last sample: 2020-04-07 23:10:35\n",
      "Total: 0 days 00:15:00\n",
      "------------\n",
      "------------\n",
      "first sample: 2020-04-07 23:10:35\n",
      "last sample: 2020-04-07 23:25:35\n",
      "Total: 0 days 00:15:00\n",
      "------------\n",
      "------------\n",
      "first sample: 2020-04-07 23:25:35\n",
      "last sample: 2020-04-07 23:40:35\n",
      "Total: 0 days 00:15:00\n",
      "------------\n",
      "------------\n",
      "first sample: 2020-04-07 23:40:35\n",
      "last sample: 2020-04-07 23:55:35\n",
      "Total: 0 days 00:15:00\n",
      "------------\n",
      "------------\n",
      "first sample: 2020-04-07 23:55:35\n",
      "last sample: 2020-04-08 00:10:35\n",
      "Total: 0 days 00:15:00\n",
      "------------\n",
      "------------\n",
      "first sample: 2020-04-08 00:10:35\n",
      "last sample: 2020-04-08 00:25:35\n",
      "Total: 0 days 00:15:00\n",
      "------------\n",
      "------------\n",
      "first sample: 2020-04-08 00:25:35\n",
      "last sample: 2020-04-08 00:40:35\n",
      "Total: 0 days 00:15:00\n",
      "------------\n",
      "------------\n",
      "first sample: 2020-04-08 00:40:35\n",
      "last sample: 2020-04-08 00:55:35\n",
      "Total: 0 days 00:15:00\n",
      "------------\n",
      "------------\n",
      "first sample: 2020-04-08 00:55:35\n",
      "last sample: 2020-04-08 01:10:35\n",
      "Total: 0 days 00:15:00\n",
      "------------\n",
      "------------\n",
      "first sample: 2020-04-08 01:10:35\n",
      "last sample: 2020-04-08 01:25:35\n",
      "Total: 0 days 00:15:00\n",
      "------------\n",
      "------------\n",
      "first sample: 2020-04-08 01:25:35\n",
      "last sample: 2020-04-08 01:40:35\n",
      "Total: 0 days 00:15:00\n",
      "------------\n",
      "------------\n",
      "first sample: 2020-04-08 01:40:35\n",
      "last sample: 2020-04-08 01:55:35\n",
      "Total: 0 days 00:15:00\n",
      "------------\n",
      "------------\n",
      "first sample: 2020-04-08 01:55:35\n",
      "last sample: 2020-04-08 02:10:35\n",
      "Total: 0 days 00:15:00\n",
      "------------\n",
      "------------\n",
      "first sample: 2020-04-08 02:10:35\n",
      "last sample: 2020-04-08 02:25:35\n",
      "Total: 0 days 00:15:00\n",
      "------------\n",
      "------------\n",
      "first sample: 2020-04-08 02:25:35\n",
      "last sample: 2020-04-08 02:40:35\n",
      "Total: 0 days 00:15:00\n",
      "------------\n",
      "------------\n",
      "first sample: 2020-04-08 02:40:35\n",
      "last sample: 2020-04-08 02:55:35\n",
      "Total: 0 days 00:15:00\n",
      "------------\n",
      "------------\n",
      "first sample: 2020-04-08 02:55:35\n",
      "last sample: 2020-04-08 03:10:35\n",
      "Total: 0 days 00:15:00\n",
      "------------\n",
      "------------\n",
      "first sample: 2020-04-08 03:10:35\n",
      "last sample: 2020-04-08 03:25:35\n",
      "Total: 0 days 00:15:00\n",
      "------------\n",
      "------------\n",
      "first sample: 2020-04-08 03:25:35\n",
      "last sample: 2020-04-08 03:40:35\n",
      "Total: 0 days 00:15:00\n",
      "------------\n",
      "------------\n",
      "first sample: 2020-04-08 03:40:35\n",
      "last sample: 2020-04-08 03:55:35\n",
      "Total: 0 days 00:15:00\n",
      "------------\n",
      "------------\n",
      "first sample: 2020-04-08 03:55:35\n",
      "last sample: 2020-04-08 04:10:35\n",
      "Total: 0 days 00:15:00\n",
      "------------\n",
      "------------\n",
      "first sample: 2020-04-08 04:10:35\n",
      "last sample: 2020-04-08 04:25:35\n",
      "Total: 0 days 00:15:00\n",
      "------------\n",
      "------------\n",
      "first sample: 2020-04-08 04:25:35\n",
      "last sample: 2020-04-08 04:40:35\n",
      "Total: 0 days 00:15:00\n",
      "------------\n",
      "------------\n",
      "first sample: 2020-04-08 04:40:35\n",
      "last sample: 2020-04-08 04:55:35\n",
      "Total: 0 days 00:15:00\n",
      "------------\n",
      "------------\n",
      "first sample: 2020-04-08 04:55:35\n",
      "last sample: 2020-04-08 05:10:35\n",
      "Total: 0 days 00:15:00\n",
      "------------\n",
      "------------\n",
      "first sample: 2020-04-08 05:10:35\n",
      "last sample: 2020-04-08 05:25:35\n",
      "Total: 0 days 00:15:00\n",
      "------------\n",
      "------------\n",
      "first sample: 2020-04-08 05:25:35\n",
      "last sample: 2020-04-08 05:40:35\n",
      "Total: 0 days 00:15:00\n",
      "------------\n",
      "------------\n",
      "first sample: 2020-04-08 05:40:35\n",
      "last sample: 2020-04-08 05:55:35\n",
      "Total: 0 days 00:15:00\n",
      "------------\n",
      "------------\n",
      "first sample: 2020-04-08 05:55:35\n",
      "last sample: 2020-04-08 06:10:35\n",
      "Total: 0 days 00:15:00\n",
      "------------\n",
      "------------\n",
      "first sample: 2020-04-08 06:10:35\n",
      "last sample: 2020-04-08 06:25:35\n",
      "Total: 0 days 00:15:00\n",
      "------------\n",
      "------------\n",
      "first sample: 2020-04-08 06:25:35\n",
      "last sample: 2020-04-08 06:40:35\n",
      "Total: 0 days 00:15:00\n",
      "------------\n",
      "------------\n",
      "first sample: 2020-04-08 06:40:35\n",
      "last sample: 2020-04-08 06:55:35\n",
      "Total: 0 days 00:15:00\n",
      "------------\n",
      "------------\n",
      "first sample: 2020-04-08 06:55:35\n",
      "last sample: 2020-04-08 07:10:35\n",
      "Total: 0 days 00:15:00\n",
      "------------\n"
     ]
    },
    {
     "data": {
      "text/markdown": [
       "**Mean pulling time:** 0:01:07.093571"
      ],
      "text/plain": [
       "<IPython.core.display.Markdown object>"
      ]
     },
     "metadata": {},
     "output_type": "display_data"
    }
   ],
   "source": [
    "i = 1\n",
    "pull_start = start\n",
    "ts = []\n",
    "while True:\n",
    "    pull_end = pull_start + PULL_DELTA_TIME\n",
    "    \n",
    "    print(\"------------\")\n",
    "    print(f\"first sample: {pull_start}\\nlast sample: {pull_end}\\nTotal: {pull_end-pull_start}\")\n",
    "    print(\"------------\")\n",
    "    \n",
    "    # TODO: return tuple\n",
    "    t_now = datetime.now()\n",
    "    pull_start, new_samples = cicids2017.pull(stop=pull_end)\n",
    "    ts.append(datetime.now() - t_now)\n",
    "    if new_samples is None:\n",
    "        break\n",
    "\n",
    "mprint(f\"**Mean pulling time:** {np.mean(ts)}\")"
   ]
  },
  {
   "cell_type": "code",
   "execution_count": 9,
   "metadata": {},
   "outputs": [],
   "source": [
    "cicids2017_df = cicids2017.to_pandas()\n",
    "\n",
    "# Setting correct timing before saving\n",
    "day = BUCKET.split(\"_\")[-1]\n",
    "delta = TCPREPLAY_START[day] - CIC_IDS_2017_TIMES[day][0]\n",
    "new_delta_time = (cicids2017_df.index.levels[2] - delta)\n",
    "cicids2017_df.index.set_levels(new_delta_time, level=\"_time\", inplace=True)\n",
    "\n",
    "cicids2017_df.to_pickle(f\"./{BUCKET}.pkl\")"
   ]
  },
  {
   "cell_type": "markdown",
   "metadata": {},
   "source": [
    "# Dataframe Merging"
   ]
  },
  {
   "cell_type": "code",
   "execution_count": null,
   "metadata": {},
   "outputs": [],
   "source": []
  }
 ],
 "metadata": {
  "kernelspec": {
   "display_name": "Python 3",
   "language": "python",
   "name": "python3"
  },
  "language_info": {
   "codemirror_mode": {
    "name": "ipython",
    "version": 3
   },
   "file_extension": ".py",
   "mimetype": "text/x-python",
   "name": "python",
   "nbconvert_exporter": "python",
   "pygments_lexer": "ipython3",
   "version": "3.7.5"
  }
 },
 "nbformat": 4,
 "nbformat_minor": 4
}
