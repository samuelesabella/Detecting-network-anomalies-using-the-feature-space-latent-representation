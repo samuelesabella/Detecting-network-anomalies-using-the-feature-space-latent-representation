{
 "cells": [
  {
   "cell_type": "code",
   "execution_count": 10,
   "metadata": {},
   "outputs": [],
   "source": [
    "import warnings\n",
    "from ipywidgets import Button, Layout\n",
    "from datetime import datetime\n",
    "warnings.filterwarnings(\"ignore\")\n",
    "import pandas as pd\n",
    "import matplotlib.patches as mpatches\n",
    "from pprint import pprint\n",
    "import numpy as np\n",
    "from ipywidgets import HBox, VBox, interactive\n",
    "from collections import defaultdict\n",
    "import matplotlib.pyplot as plt\n",
    "import matplotlib.ticker as ticker\n",
    "import matplotlib.dates as mdates\n",
    "from IPython.display import display, Markdown\n",
    "import ipywidgets as widgets\n",
    "import math\n",
    "import torch\n",
    "from ipywidgets import interact, interact_manual\n",
    "from IPython.display import set_matplotlib_formats\n",
    "from importlib import reload\n",
    "from pathlib import Path\n",
    "from tqdm import tqdm\n",
    "\n",
    "import sys\n",
    "import os\n",
    "sys.path.insert(0, os.path.abspath('../src/'))\n",
    "\n",
    "import model_codebase as cb\n",
    "import cicids2017 as cicids2017\n",
    "import data_generator as generator\n",
    "\n",
    "reload(cicids2017)\n",
    "reload(generator)\n",
    "\n",
    "pd.set_option('display.max_rows', 500)\n",
    "pd.set_option('float_format', '{:.4f}'.format)\n",
    "\n",
    "MODELPATH = Path(\"../res/ts2vec.torch\")\n",
    "DATASETPATH_CACHE = Path(\"../dataset/cache\")\n",
    "DATASETPATH = Path(\"../dataset/CICIDS2017_ntop.pkl\")"
   ]
  },
  {
   "cell_type": "code",
   "execution_count": 11,
   "metadata": {},
   "outputs": [],
   "source": [
    "M = 254\n",
    "MAX_ENC = M + math.pow(M, 2) + math.pow(M, 3)\n",
    "\n",
    "def encdec(rgb=None, i=None):\n",
    "    \"\"\"\n",
    "    References:\n",
    "        https://coderwall.com/p/fzni3g/bidirectional-translation-between-1d-and-3d-arrays\n",
    "    \"\"\"\n",
    "    if rgb is not None:\n",
    "        i = rgb[0] + rgb[1] * M + rgb[2] * math.pow(M, 2)\n",
    "        return math.floor(i)\n",
    "    x = math.floor(i % M)\n",
    "    y = math.floor((i / M) % M)\n",
    "    z = math.floor(i / ( math.pow(M, 2) ))\n",
    "    return (x, y, z)\n",
    "           \n",
    "def ncolors(n, givehex=False):\n",
    "    cols = np.linspace(0, MAX_ENC, n)\n",
    "    cols = map(lambda x: encdec(i=x), cols)\n",
    "    \n",
    "    if givehex:\n",
    "        cols = map(lambda x: rgbtohex(*x), cols)\n",
    "    return list(cols)\n",
    "    \n",
    "def rgbtohex(r, g, b):\n",
    "    hexcol = \"#{:02x}{:02x}{:02x}\".format(r,g,b)\n",
    "    return hexcol.upper()"
   ]
  },
  {
   "cell_type": "code",
   "execution_count": 12,
   "metadata": {},
   "outputs": [],
   "source": [
    "def mprint(s):\n",
    "    display(Markdown(s))\n",
    "    \n",
    "def randcolors(n):\n",
    "    hexl = list('0123456789ABCDEF')\n",
    "    hexc = np.random.choice(hexl, size=(n, 6))\n",
    "    return ['#' + ''.join(x) for x in hexc]\n",
    "    \n",
    "def describe_mtimeseries(key, mtimeserie, attack_meta=None):\n",
    "    mprint(f\"### {key}\")\n",
    "    # Data description ..... #\n",
    "    start = min(mtimeserie.index)\n",
    "    end = max(mtimeserie.index)\n",
    "    mprint(f\"**Time range**: {start} **/** {end}\")\n",
    "    mprint(f\"**Total data range:** {end-start}\")\n",
    "    mprint(f\"**Samples shown**: {len(mtimeserie)}\")\n",
    "\n",
    "    # Plotting clean data ..... #\n",
    "    empty_cols = []\n",
    "    legend = []\n",
    "    for idx, c in enumerate(mtimeserie.columns):\n",
    "        legend.append(c)\n",
    "        if (mtimeserie[c] == 0).all(): \n",
    "            empty_cols.append(c)\n",
    "            continue\n",
    "        #plt.figure()\n",
    "        ax = mtimeserie[c].plot(label=c, figsize=(6,1)) # figsize=(8, 4))\n",
    "        if attack_meta is not None:\n",
    "            attack = attack_meta[attack_meta != \"none\"]\n",
    "            for aname, adf in attack.groupby(attack):\n",
    "                legend.append(aname)\n",
    "                attack_data = mtimeserie.loc[adf.index]\n",
    "                attack_data.plot(ax=ax, label=aname)\n",
    "        plt.gcf().suptitle(f\"{key}\", fontweight=\"bold\")\n",
    "    plt.legend(legend)\n",
    "    # plt.legend(loc=(1.04,0))\n",
    "    # plt.show()\n",
    "    plt.savefig(\"time_series.svg\")\n",
    "    for c in empty_cols:\n",
    "        mprint(f\"**<span style='color: red'>Empty series:</span> {c}**\")\n",
    "    \n",
    "    mprint(f\"<br>{'-'*50}<br>{'-'*50}<br>\")"
   ]
  },
  {
   "cell_type": "markdown",
   "metadata": {},
   "source": [
    "# Plotting"
   ]
  },
  {
   "cell_type": "markdown",
   "metadata": {},
   "source": [
    "We preprocess the data before showing it"
   ]
  },
  {
   "cell_type": "code",
   "execution_count": 13,
   "metadata": {},
   "outputs": [],
   "source": [
    "df = pd.read_pickle(DATASETPATH)\n",
    "pr = cicids2017.Cicids2017Preprocessor(deltas=True, discretize=False, flevel=\"BL\")\n",
    "# df_preproc = pr.preprocessing(df, fit=True)"
   ]
  },
  {
   "cell_type": "code",
   "execution_count": null,
   "metadata": {},
   "outputs": [],
   "source": []
  },
  {
   "cell_type": "code",
   "execution_count": null,
   "metadata": {},
   "outputs": [],
   "source": []
  },
  {
   "cell_type": "code",
   "execution_count": null,
   "metadata": {},
   "outputs": [],
   "source": [
    "print(df.shape)\n",
    "print(df_preproc.shape)"
   ]
  },
  {
   "cell_type": "code",
   "execution_count": null,
   "metadata": {},
   "outputs": [],
   "source": []
  },
  {
   "cell_type": "code",
   "execution_count": null,
   "metadata": {},
   "outputs": [],
   "source": [
    "daytime = 8.45 # hours\n",
    "devices_in_net = 15\n",
    "samples_per_minutes = 4\n",
    "exstimated_samples_per_day = (daytime * 60) * samples_per_minutes * devices_in_net\n",
    "\n",
    "mean_daily_samples = df.index.get_level_values(\"_time\").day.value_counts().mean()\n",
    "print(f\"ex / true: {exstimated_samples_per_day} / {mean_daily_samples}\")"
   ]
  },
  {
   "cell_type": "code",
   "execution_count": 8,
   "metadata": {},
   "outputs": [
    {
     "name": "stdout",
     "output_type": "stream",
     "text": [
      "Week: 29960\n",
      "Monday: 6980\n"
     ]
    }
   ],
   "source": [
    "CTXLEN = 80\n",
    "OVERLAPPING = .95\n",
    "STEP = int(CTXLEN * (1 - OVERLAPPING))\n",
    "\n",
    "def estimate_rw_length(dsamples):\n",
    "    l = ((dsamples - CTXLEN) / STEP) + 1\n",
    "    return math.ceil(l)\n",
    "\n",
    "def grep_samples(df, day):\n",
    "    day_mask = (df.index.get_level_values(\"_time\").day==day)\n",
    "    return df[day_mask].groupby(\"host\").apply(lambda x: len(x))\n",
    "\n",
    "\n",
    "week_ctxs = 0\n",
    "for d in [4, 5, 6, 7]:\n",
    "    dh_samples = grep_samples(df, d)\n",
    "    rw_count = np.sum(list(map(estimate_rw_length, dh_samples)))\n",
    "    week_ctxs += rw_count\n",
    "\n",
    "mh_samples = grep_samples(df, 3)\n",
    "monday_ctxs =  np.sum(list(map(estimate_rw_length, mh_samples)))\n",
    "\n",
    "print(f\"Week: {week_ctxs}\\nMonday: {monday_ctxs}\")"
   ]
  },
  {
   "cell_type": "code",
   "execution_count": 14,
   "metadata": {},
   "outputs": [
    {
     "name": "stderr",
     "output_type": "stream",
     "text": [
      "WARNING:root:Missing columns: {'dns_qry_rcvd_rsp_sent:replies_error_packets', 'dns_qry_sent_rsp_rcvd:replies_error_packets', 'host_unreachable_flows:flows_as_client'}\n",
      "WARNING:root:Missing columns: {'dns_qry_rcvd_rsp_sent:replies_error_packets', 'dns_qry_sent_rsp_rcvd:replies_error_packets', 'host_unreachable_flows:flows_as_client'}\n",
      "WARNING:root:Missing columns: {'dns_qry_rcvd_rsp_sent:replies_error_packets', 'dns_qry_sent_rsp_rcvd:replies_error_packets', 'host_unreachable_flows:flows_as_client'}\n",
      "WARNING:root:Missing columns: {'dns_qry_rcvd_rsp_sent:replies_error_packets', 'dns_qry_sent_rsp_rcvd:replies_error_packets', 'host_unreachable_flows:flows_as_client'}\n",
      "WARNING:root:Missing columns: {'dns_qry_rcvd_rsp_sent:replies_error_packets', 'dns_qry_sent_rsp_rcvd:replies_error_packets', 'host_unreachable_flows:flows_as_client'}\n"
     ]
    },
    {
     "name": "stdout",
     "output_type": "stream",
     "text": [
      "28079, 6980\n"
     ]
    }
   ],
   "source": [
    "validation_day = 3 # Monday\n",
    "week_mask = df.index.get_level_values(\"_time\").day != validation_day\n",
    "\n",
    "df_training = df[week_mask]\n",
    "training_preproc = pr.preprocessing(df_training, fit=True)\n",
    "\n",
    "df_monday = df[np.bitwise_not(week_mask)]\n",
    "monday_preproc =  pr.preprocessing(df_monday, fit=False)\n",
    "\n",
    "week_len = 0\n",
    "for d in [4,5,6,7]:\n",
    "    day_df = training_preproc[training_preproc.index.get_level_values(\"_time\").day == d]\n",
    "    abc = day_df.groupby(\"host\").apply(lambda x: estimate_rw_length(x.shape[0])).sum()\n",
    "    week_len += abc\n",
    "\n",
    "mlen = df_monday.groupby(\"host\").apply(lambda x: estimate_rw_length(x.shape[0])).sum()\n",
    "\n",
    "print(f\"{week_len}, {mlen}\")"
   ]
  },
  {
   "cell_type": "code",
   "execution_count": null,
   "metadata": {},
   "outputs": [],
   "source": []
  },
  {
   "cell_type": "code",
   "execution_count": null,
   "metadata": {},
   "outputs": [],
   "source": []
  },
  {
   "cell_type": "code",
   "execution_count": null,
   "metadata": {},
   "outputs": [],
   "source": []
  },
  {
   "cell_type": "code",
   "execution_count": null,
   "metadata": {},
   "outputs": [],
   "source": []
  },
  {
   "cell_type": "code",
   "execution_count": null,
   "metadata": {},
   "outputs": [],
   "source": [
    "import more_itertools as mit\n",
    "\n",
    "\n",
    "for LEN  in np.random.randint(10, 40000, size=30):\n",
    "    WLEN = 80 # np.random.randint(1, LEN)\n",
    "    OVERLAPPING = .95 # np.random.rand()\n",
    "\n",
    "    step = max(int(WLEN * (1 - OVERLAPPING)), 1)\n",
    "    l = np.random.rand(LEN)\n",
    "    ss = len(list(mit.windowed(l, WLEN, step=step)))\n",
    "    \n",
    "    flen = ((LEN-WLEN) / step) + 1\n",
    "    assert(ss == math.ceil(flen))"
   ]
  },
  {
   "cell_type": "code",
   "execution_count": null,
   "metadata": {},
   "outputs": [],
   "source": []
  },
  {
   "cell_type": "code",
   "execution_count": null,
   "metadata": {},
   "outputs": [],
   "source": []
  },
  {
   "cell_type": "code",
   "execution_count": null,
   "metadata": {},
   "outputs": [],
   "source": [
    "%matplotlib inline\n",
    "set_matplotlib_formats('svg')\n",
    "\n",
    "days = {\n",
    "    \"Monday\": 0,\n",
    "    \"Tuesday\": 1,\n",
    "    \"Wednesday\": 2,\n",
    "    \"Tursday\": 3,\n",
    "    \"Friday\": 4}\n",
    "\n",
    "idxs = df_preproc.index.droplevel(2).unique()\n",
    "devices = [f\"{host} ({cat})\" for cat, host in idxs]\n",
    "devices.sort()\n",
    "cols = list(df_preproc.columns)\n",
    "cols.sort()\n",
    "\n",
    "abc = [\"misbehaving_flows:flows_as_client\", \"misbehaving_flows:flows_as_server\", \n",
    "\"active_flows:flows_as_client\", \"active_flows:flows_as_server\"]\n",
    "\n",
    "# ----- ----- WIDGETS ----- ----- #\n",
    "# ----- ----- ------- ----- ----- #\n",
    "device_w_list = widgets.Dropdown(options=devices,\n",
    "                                 value=\"192.168.10.50 (server)\")\n",
    "days_w_list = widgets.Dropdown(options=list(days.keys()),\n",
    "                               value=\"Monday\")\n",
    "selectedc_w_list = widgets.SelectMultiple(options=cols,\n",
    "                                          value=abc, # [\"unreachable_flows:flows_as_client\"],\n",
    "                                          description='Features',\n",
    "                                          layout=Layout(width='400px'))\n",
    "showall_checkbox = widgets.Checkbox(value=False, description='Show all features')\n",
    "timerange_slider = widgets.FloatSlider(min=.005, max=1., step=.005)\n",
    "offset_slider = widgets.FloatSlider(min=.0, max=1., step=.01)\n",
    "ts_selector = HBox([device_w_list, days_w_list])\n",
    "col_selector = HBox([selectedc_w_list, showall_checkbox])\n",
    "ts_shifting = HBox([timerange_slider, offset_slider])\n",
    "wlist = VBox([ts_selector, col_selector, ts_shifting])\n",
    "\n",
    "\n",
    "# ----- ----- INTERACTOR ----- ----- #\n",
    "# ----- ----- ------- ----- ----- #\n",
    "def whandler(device, day, column, showall, trange, offset):\n",
    "    split = device.split(\" \")\n",
    "    columns = list(column)\n",
    "    host = split[0].strip()\n",
    "    category = \" \".join(split[1:]).replace(\"(\", \"\").replace(\")\", \"\").strip()\n",
    "    host_ts = df_preproc.loc[category, host]\n",
    "    # Filterign day of week\n",
    "    host_ts = host_ts[host_ts.index.dayofweek==days[day]]\n",
    "    # Filtering time range\n",
    "    ts_len = len(host_ts)\n",
    "    start_idx = int(ts_len * offset)\n",
    "    end_idx = start_idx+80 # min(start_idx + int(ts_len * trange), ts_len)\n",
    "    \n",
    "    selected_features = cols if showall else columns\n",
    "    attack =  host_ts.iloc[start_idx:end_idx][\"isanomaly\"] if \"isanomaly\" in cols else None\n",
    "    describe_mtimeseries(device.strip(), \n",
    "                         host_ts.iloc[start_idx:end_idx][selected_features],\n",
    "                         attack)\n",
    "\n",
    "\n",
    "output = widgets.interactive(whandler,\n",
    "                        device=device_w_list, day=days_w_list, \n",
    "                        column=selectedc_w_list, showall=showall_checkbox, \n",
    "                        trange=timerange_slider, offset=offset_slider).children[-1]\n",
    "display(wlist)\n",
    "display(output)"
   ]
  },
  {
   "cell_type": "markdown",
   "metadata": {},
   "source": [
    "# Deltas"
   ]
  },
  {
   "cell_type": "code",
   "execution_count": null,
   "metadata": {},
   "outputs": [],
   "source": [
    "df = pd.read_pickle(DATASETPATH)\n",
    "min_delta = np.timedelta64(15, \"s\")\n",
    "\n",
    "host_groups = df.groupby(['device_category', 'host'])\n",
    "for (c, h), host_samples in host_groups:\n",
    "    times = host_samples.index.get_level_values(\"_time\").sort_values(ascending=True)\n",
    "    delta = times.to_series().diff()[1:]\n",
    "    delta_gap = filter(lambda x: x[1] > min_delta, enumerate(delta))\n",
    "\n",
    "    for (i, gap) in delta_gap:\n",
    "        if times[i].hour == 17:\n",
    "            continue\n",
    "        print(f\"{c}:{h} / {times[i]} to {times[i+1]}\")"
   ]
  },
  {
   "cell_type": "code",
   "execution_count": null,
   "metadata": {},
   "outputs": [],
   "source": []
  }
 ],
 "metadata": {
  "kernelspec": {
   "display_name": "Python 3",
   "language": "python",
   "name": "python3"
  },
  "language_info": {
   "codemirror_mode": {
    "name": "ipython",
    "version": 3
   },
   "file_extension": ".py",
   "mimetype": "text/x-python",
   "name": "python",
   "nbconvert_exporter": "python",
   "pygments_lexer": "ipython3",
   "version": "3.8.6"
  }
 },
 "nbformat": 4,
 "nbformat_minor": 4
}
