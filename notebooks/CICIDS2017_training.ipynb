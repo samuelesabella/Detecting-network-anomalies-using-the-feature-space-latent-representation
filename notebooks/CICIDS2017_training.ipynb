{
 "cells": [
  {
   "cell_type": "code",
   "execution_count": null,
   "metadata": {},
   "outputs": [],
   "source": [
    "import os\n",
    "from pathlib import Path\n",
    "from getpass import getpass\n",
    "\n",
    "DATASET_URL = \"https://bit.ly/2L5rtOR\"\n",
    "pj_path = Path(\"./tesi_sabella\")\n",
    "\n",
    "def abstr(path):\n",
    "    return str(path.absolute())\n",
    "\n",
    "# Download code\n",
    "if not pj_path.exists():\n",
    "    user = getpass('Github user')\n",
    "    password = getpass('Github password')\n",
    "    os.environ['GITHUB_AUTH'] = user + ':' + password\n",
    "    !git clone https://$GITHUB_AUTH@github.com/samuelesabella/tesi_sabella\n",
    "    !pip install -r {abstr(pj_path / \"requirements.txt\")}\n",
    "\n",
    "# Getting the dataset\n",
    "if not (pj_path / \"dataset\").exists():\n",
    "    !mkdir {pj_path / \"dataset\"}\n",
    "    !wget -O {abstr(pj_path / \"dataset/dataset.zip\")} {DATASET_URL}\n",
    "    !unzip {abstr(pj_path / \"dataset/dataset.zip\")} -d {abstr(pj_path / \"dataset\")}\n",
    "    os.chdir(pj_path)"
   ]
  },
  {
   "cell_type": "code",
   "execution_count": null,
   "metadata": {},
   "outputs": [],
   "source": [
    "python tesi_sabella/trainer.py -d dataset/CICIDS2017_complete.pkl"
   ]
  }
 ],
 "metadata": {
  "kernelspec": {
   "display_name": "Python 3",
   "language": "python",
   "name": "python3"
  },
  "language_info": {
   "codemirror_mode": {
    "name": "ipython",
    "version": 3
   },
   "file_extension": ".py",
   "mimetype": "text/x-python",
   "name": "python",
   "nbconvert_exporter": "python",
   "pygments_lexer": "ipython3",
   "version": "3.7.5"
  }
 },
 "nbformat": 4,
 "nbformat_minor": 4
}
