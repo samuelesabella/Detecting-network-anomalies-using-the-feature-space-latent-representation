{
 "cells": [
  {
   "cell_type": "code",
   "execution_count": 1,
   "metadata": {},
   "outputs": [],
   "source": [
    "import sys\n",
    "import os\n",
    "sys.path.insert(0, os.path.abspath('../src/'))"
   ]
  },
  {
   "cell_type": "markdown",
   "metadata": {},
   "source": [
    "# Plotting"
   ]
  },
  {
   "cell_type": "code",
   "execution_count": 2,
   "metadata": {},
   "outputs": [
    {
     "name": "stdout",
     "output_type": "stream",
     "text": [
      "../dataset/Scenario_22-Phillips_HUE.pkl\n"
     ]
    }
   ],
   "source": [
    "from pathlib import Path\n",
    "import SimplePreprocessor as sp\n",
    "\n",
    "DATASETPATH = Path(\"../dataset/\")\n",
    "\n",
    "pr = sp.SimplePreprocessor(deltas=True, discretize=False, flevel=\"MAGIK\")\n",
    "netdata = pr.load_path(DATASETPATH)\n",
    "netdata[\"_date\"] = netdata.index.get_level_values(\"_time\").strftime('%a %d %b %y')"
   ]
  },
  {
   "cell_type": "code",
   "execution_count": 3,
   "metadata": {},
   "outputs": [
    {
     "data": {
      "application/vnd.jupyter.widget-view+json": {
       "model_id": "d7442c772b2d40b68bfabccda519e365",
       "version_major": 2,
       "version_minor": 0
      },
      "text/plain": [
       "VBox(children=(HBox(children=(Dropdown(description='device', options=('192.168.1.132 (Phillips HUE - IoT23)',)…"
      ]
     },
     "metadata": {},
     "output_type": "display_data"
    },
    {
     "data": {
      "application/vnd.jupyter.widget-view+json": {
       "model_id": "c7b4fcb690e942efad87acce8e0417c9",
       "version_major": 2,
       "version_minor": 0
      },
      "text/plain": [
       "Output()"
      ]
     },
     "metadata": {},
     "output_type": "display_data"
    }
   ],
   "source": [
    "import numpy as np\n",
    "import ipywidgets as widgets\n",
    "from IPython.display import display, Markdown\n",
    "import matplotlib.pyplot as plt\n",
    "import matplotlib.dates as mdates\n",
    "from ipywidgets import HBox, VBox, interactive, Layout\n",
    "\n",
    "\n",
    "devices_idxs = netdata.index.droplevel(2).unique()\n",
    "devices = [f\"{host} ({cat})\" for cat, host in devices_idxs]\n",
    "devices.sort()\n",
    "\n",
    "available_channels = [c for c in netdata.columns if ((\"time\" not in c) and (c[0] != \"_\"))]\n",
    "available_channels.sort()\n",
    "\n",
    "available_days = np.unique(netdata[\"_date\"])\n",
    "\n",
    "\n",
    "# ----- ----- WIDGETS ----- ----- #\n",
    "# ----- ----- ------- ----- ----- #\n",
    "device_w_list = widgets.Dropdown(options=devices)\n",
    "days_w_list = widgets.Dropdown(options=available_days)\n",
    "selectedc_w_list = widgets.SelectMultiple(options=available_channels,\n",
    "                                          description='Channel',\n",
    "                                          layout=Layout(width='400px'))\n",
    "timerange_slider = widgets.FloatSlider(min=.005, max=1., step=.005)\n",
    "smoothing_slider = widgets.FloatSlider(min=0, max=79, step=4,\n",
    "                                       description=\"Smoothing (aggregate x minutes)\")\n",
    "offset_slider = widgets.FloatSlider(min=.0, max=1., step=.01)\n",
    "ts_selector = HBox([device_w_list, days_w_list])\n",
    "col_selector = HBox([selectedc_w_list])\n",
    "ts_shifting = HBox([timerange_slider, offset_slider])\n",
    "wlist = VBox([ts_selector, col_selector, ts_shifting, smoothing_slider])\n",
    "\n",
    "\n",
    "# ----- ----- PLOTTER ----- ----- #\n",
    "# ----- ----- ------- ----- ----- #\n",
    "def mprint(s):\n",
    "    display(Markdown(s))\n",
    "    \n",
    "def randcolors(n):\n",
    "    hexl = list('0123456789ABCDEF')\n",
    "    hexc = np.random.choice(hexl, size=(n, 6))\n",
    "    return ['#' + ''.join(x) for x in hexc]\n",
    "    \n",
    "def remove_empty(data):\n",
    "    empty_cols = [ c for c in data.columns if (data[c]==0).all() ]\n",
    "    for c in empty_cols:\n",
    "        mprint(f\"**<span style='color: red'>Empty series:</span> {c}**\")\n",
    "    return data.drop(empty_cols, axis=1)\n",
    "    \n",
    "def datetime2xaxis(dtseries, smoothing):\n",
    "    if len(dtseries) <= 50:\n",
    "        return \"%a - %H:%M:%S\"\n",
    "    elif len(dtseries) <= 100:\n",
    "        return \"%a - %H:%M\"\n",
    "    else:\n",
    "        return \"%a - %H\"\n",
    "    \n",
    "def describe_mtimeseries(plotname, data, smoothing=1):\n",
    "    # Data description ..... #\n",
    "    mprint(f\"### {plotname}\")\n",
    "    start = min(data.index)\n",
    "    end = max(data.index)\n",
    "    mprint(f\"**Time range**: {start} **/** {end}\")\n",
    "    mprint(f\"**Total data range:** {end-start}\")\n",
    "    mprint(f\"**Samples shown**: {len(data)}\")\n",
    "    mprint(f\"**Smoothing**: {int(smoothing / 4)} minutes\")\n",
    "\n",
    "    if len(data) <= 50:\n",
    "        xaxis_format = \"%a - %H:%M:%S\"\n",
    "    elif len(data) <= 100:\n",
    "        xaxis_format = \"%a - %H:%M\"\n",
    "    else:\n",
    "        xaxis_format = \"%a - %H\"\n",
    "    \n",
    "    # Plotting clean data ..... #\n",
    "    empty_cols = []\n",
    "    legend = []\n",
    "    data = remove_empty(data)\n",
    "    \n",
    "    # Smoothing ..... #\n",
    "    channels = data.drop([\"_isanomaly\"], axis=1).columns\n",
    "    data[channels] = data[channels].rolling(smoothing, center=True).sum() / smoothing\n",
    "    data = data.dropna()\n",
    "    \n",
    "    anomaly_mask = (data[\"_isanomaly\"] != \"none\")\n",
    "    for idx, c in enumerate(channels):\n",
    "        legend.append(c)\n",
    "        fig, ax = plt.subplots(figsize=(12, 6))\n",
    "        ax.format_xdata = mdates.DateFormatter(xaxis_format)\n",
    "        \n",
    "        ax.plot(data.index, data[c])\n",
    "        fig.autofmt_xdate()\n",
    "        \n",
    "        if anomaly_mask.any():\n",
    "            attack_data = data[anomaly_mask]\n",
    "            for anomalyname, anomalydata in attack_data.groupby(\"_isanomaly\"):\n",
    "                legend.append(anomalyname)\n",
    "                anomalydata = anomalydata.drop(\"_isanomaly\", axis=1)\n",
    "                ax.plot(anomalydata.index, anomalydata.values)\n",
    "                fig.autofmt_xdate()\n",
    "                \n",
    "        fig.suptitle(f\"{c}\", fontweight=\"bold\")\n",
    "        plt.legend(legend)\n",
    "        plt.show()\n",
    "\n",
    "        \n",
    "# ----- ----- INTERACTOR ----- ----- #\n",
    "# ----- ----- ---------- ----- ----- #\n",
    "def whandler(device, day, channel, timerange, offset, smoothing):\n",
    "    split = device.split(\" \")\n",
    "    host = split[0].strip()\n",
    "    category = \" \".join(split[1:]).replace(\"(\", \"\").replace(\")\", \"\").strip()\n",
    "    \n",
    "    data = netdata[netdata[\"_date\"]==day]\n",
    "    chs = set(channel)\n",
    "    chs.add(\"_isanomaly\")\n",
    "    chs = list(chs)\n",
    "    data = data.loc[category, host][chs]\n",
    "    \n",
    "    # Filtering time range\n",
    "    full_length = len(data)\n",
    "    start_idx = int(full_length * offset)\n",
    "    end_idx = min(start_idx + int(full_length * timerange), full_length)\n",
    "    data = data.iloc[start_idx:end_idx]\n",
    "    \n",
    "    describe_mtimeseries(device, data, int(smoothing+1))\n",
    "\n",
    "%matplotlib inline\n",
    "output = widgets.interactive(whandler,\n",
    "                             device=device_w_list, day=days_w_list, \n",
    "                             channel=selectedc_w_list, \n",
    "                             timerange=timerange_slider, \n",
    "                             offset=offset_slider,\n",
    "                             smoothing=smoothing_slider).children[-1]\n",
    "display(wlist)\n",
    "display(output)"
   ]
  },
  {
   "cell_type": "code",
   "execution_count": null,
   "metadata": {},
   "outputs": [],
   "source": []
  },
  {
   "cell_type": "code",
   "execution_count": null,
   "metadata": {},
   "outputs": [],
   "source": []
  }
 ],
 "metadata": {
  "kernelspec": {
   "display_name": "Python 3",
   "language": "python",
   "name": "python3"
  },
  "language_info": {
   "codemirror_mode": {
    "name": "ipython",
    "version": 3
   },
   "file_extension": ".py",
   "mimetype": "text/x-python",
   "name": "python",
   "nbconvert_exporter": "python",
   "pygments_lexer": "ipython3",
   "version": "3.8.6"
  }
 },
 "nbformat": 4,
 "nbformat_minor": 4
}
