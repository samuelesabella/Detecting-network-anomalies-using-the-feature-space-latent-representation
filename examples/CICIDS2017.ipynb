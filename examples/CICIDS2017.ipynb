{
 "cells": [
  {
   "cell_type": "code",
   "execution_count": 1,
   "metadata": {},
   "outputs": [],
   "source": [
    "import os\n",
    "import sys\n",
    "from IPython.display import display, Markdown\n",
    "\n",
    "sys.path.insert(0, os.path.abspath('../'))\n",
    "\n",
    "import tesi_sabella.pyflux as flux \n",
    "import tesi_sabella.data_generator as generator"
   ]
  },
  {
   "cell_type": "markdown",
   "metadata": {},
   "source": [
    "# CICIDS2017_Monday_from15to16 time series example"
   ]
  },
  {
   "cell_type": "markdown",
   "metadata": {},
   "source": [
    "Create a InfluxDB Flux client and a data-generator that can poll InfluxDB to get new samples. Poll data added in the last 48 hours"
   ]
  },
  {
   "cell_type": "code",
   "execution_count": 2,
   "metadata": {},
   "outputs": [
    {
     "name": "stdout",
     "output_type": "stream",
     "text": [
      "Last value polled at 2020-03-09 16:00:00\n"
     ]
    }
   ],
   "source": [
    "fclient = flux.Flux(); \n",
    "fluxbucket = 'CICIDS2017_Monday_from15to16/autogen'\n",
    "cicids2017 = generator.ntop_Generator(fluxbucket, fclient, '2020-03-09T13:00:00Z')\n",
    "last_ts = cicids2017.poll(stop='2020-03-09T16:00:00Z')\n",
    "\n",
    "print(f'Last value polled at {last_ts}')"
   ]
  },
  {
   "cell_type": "markdown",
   "metadata": {},
   "source": [
    "Extract timeseries dataframes in time range from 13:00 to 16:00"
   ]
  },
  {
   "cell_type": "code",
   "execution_count": 3,
   "metadata": {},
   "outputs": [
    {
     "data": {
      "text/html": [
       "<div>\n",
       "<style scoped>\n",
       "    .dataframe tbody tr th:only-of-type {\n",
       "        vertical-align: middle;\n",
       "    }\n",
       "\n",
       "    .dataframe tbody tr th {\n",
       "        vertical-align: top;\n",
       "    }\n",
       "\n",
       "    .dataframe thead th {\n",
       "        text-align: right;\n",
       "    }\n",
       "</style>\n",
       "<table border=\"1\" class=\"dataframe\">\n",
       "  <thead>\n",
       "    <tr style=\"text-align: right;\">\n",
       "      <th></th>\n",
       "      <th></th>\n",
       "      <th>_field</th>\n",
       "      <th>bytes_rcvd</th>\n",
       "      <th>bytes_sent</th>\n",
       "      <th>packets_rcvd</th>\n",
       "      <th>packets_sent</th>\n",
       "    </tr>\n",
       "    <tr>\n",
       "      <th>device_category</th>\n",
       "      <th>host</th>\n",
       "      <th>_time</th>\n",
       "      <th></th>\n",
       "      <th></th>\n",
       "      <th></th>\n",
       "      <th></th>\n",
       "    </tr>\n",
       "  </thead>\n",
       "  <tbody>\n",
       "    <tr>\n",
       "      <th rowspan=\"10\" valign=\"top\">pc</th>\n",
       "      <th rowspan=\"3\" valign=\"top\">192.168.10.12</th>\n",
       "      <th>2020-03-09 14:00:00</th>\n",
       "      <td>1.800361e+06</td>\n",
       "      <td>4.035681e+05</td>\n",
       "      <td>223.538462</td>\n",
       "      <td>228.923077</td>\n",
       "    </tr>\n",
       "    <tr>\n",
       "      <th>2020-03-09 15:00:00</th>\n",
       "      <td>2.731053e+07</td>\n",
       "      <td>7.509079e+06</td>\n",
       "      <td>3485.227139</td>\n",
       "      <td>3673.991150</td>\n",
       "    </tr>\n",
       "    <tr>\n",
       "      <th>2020-03-09 16:00:00</th>\n",
       "      <td>4.429846e+07</td>\n",
       "      <td>1.060093e+07</td>\n",
       "      <td>5725.000000</td>\n",
       "      <td>6045.000000</td>\n",
       "    </tr>\n",
       "    <tr>\n",
       "      <th rowspan=\"3\" valign=\"top\">192.168.10.14</th>\n",
       "      <th>2020-03-09 14:00:00</th>\n",
       "      <td>1.213634e+06</td>\n",
       "      <td>9.128479e+04</td>\n",
       "      <td>87.857143</td>\n",
       "      <td>95.428571</td>\n",
       "    </tr>\n",
       "    <tr>\n",
       "      <th>2020-03-09 15:00:00</th>\n",
       "      <td>1.896010e+07</td>\n",
       "      <td>2.348309e+06</td>\n",
       "      <td>2108.041420</td>\n",
       "      <td>2247.355030</td>\n",
       "    </tr>\n",
       "    <tr>\n",
       "      <th>2020-03-09 16:00:00</th>\n",
       "      <td>4.088054e+07</td>\n",
       "      <td>4.910421e+06</td>\n",
       "      <td>4920.000000</td>\n",
       "      <td>5266.000000</td>\n",
       "    </tr>\n",
       "    <tr>\n",
       "      <th rowspan=\"3\" valign=\"top\">192.168.10.15</th>\n",
       "      <th>2020-03-09 14:00:00</th>\n",
       "      <td>3.408213e+05</td>\n",
       "      <td>3.992364e+04</td>\n",
       "      <td>26.714286</td>\n",
       "      <td>27.571429</td>\n",
       "    </tr>\n",
       "    <tr>\n",
       "      <th>2020-03-09 15:00:00</th>\n",
       "      <td>1.334573e+07</td>\n",
       "      <td>1.466634e+06</td>\n",
       "      <td>1856.336283</td>\n",
       "      <td>2116.560472</td>\n",
       "    </tr>\n",
       "    <tr>\n",
       "      <th>2020-03-09 16:00:00</th>\n",
       "      <td>2.134997e+07</td>\n",
       "      <td>2.446226e+06</td>\n",
       "      <td>2892.000000</td>\n",
       "      <td>3455.000000</td>\n",
       "    </tr>\n",
       "    <tr>\n",
       "      <th>192.168.10.16</th>\n",
       "      <th>2020-03-09 14:00:00</th>\n",
       "      <td>1.852106e+06</td>\n",
       "      <td>1.395364e+05</td>\n",
       "      <td>64.500000</td>\n",
       "      <td>87.285714</td>\n",
       "    </tr>\n",
       "  </tbody>\n",
       "</table>\n",
       "</div>"
      ],
      "text/plain": [
       "_field                                               bytes_rcvd    bytes_sent  \\\n",
       "device_category host          _time                                             \n",
       "pc              192.168.10.12 2020-03-09 14:00:00  1.800361e+06  4.035681e+05   \n",
       "                              2020-03-09 15:00:00  2.731053e+07  7.509079e+06   \n",
       "                              2020-03-09 16:00:00  4.429846e+07  1.060093e+07   \n",
       "                192.168.10.14 2020-03-09 14:00:00  1.213634e+06  9.128479e+04   \n",
       "                              2020-03-09 15:00:00  1.896010e+07  2.348309e+06   \n",
       "                              2020-03-09 16:00:00  4.088054e+07  4.910421e+06   \n",
       "                192.168.10.15 2020-03-09 14:00:00  3.408213e+05  3.992364e+04   \n",
       "                              2020-03-09 15:00:00  1.334573e+07  1.466634e+06   \n",
       "                              2020-03-09 16:00:00  2.134997e+07  2.446226e+06   \n",
       "                192.168.10.16 2020-03-09 14:00:00  1.852106e+06  1.395364e+05   \n",
       "\n",
       "_field                                             packets_rcvd  packets_sent  \n",
       "device_category host          _time                                            \n",
       "pc              192.168.10.12 2020-03-09 14:00:00    223.538462    228.923077  \n",
       "                              2020-03-09 15:00:00   3485.227139   3673.991150  \n",
       "                              2020-03-09 16:00:00   5725.000000   6045.000000  \n",
       "                192.168.10.14 2020-03-09 14:00:00     87.857143     95.428571  \n",
       "                              2020-03-09 15:00:00   2108.041420   2247.355030  \n",
       "                              2020-03-09 16:00:00   4920.000000   5266.000000  \n",
       "                192.168.10.15 2020-03-09 14:00:00     26.714286     27.571429  \n",
       "                              2020-03-09 15:00:00   1856.336283   2116.560472  \n",
       "                              2020-03-09 16:00:00   2892.000000   3455.000000  \n",
       "                192.168.10.16 2020-03-09 14:00:00     64.500000     87.285714  "
      ]
     },
     "metadata": {},
     "output_type": "display_data"
    }
   ],
   "source": [
    "df = cicids2017.toPandas()\n",
    "# df_clean = df.dropna()\n",
    "display(df.head(10))"
   ]
  },
  {
   "cell_type": "markdown",
   "metadata": {},
   "source": [
    "#### Access a single host time serie "
   ]
  },
  {
   "cell_type": "code",
   "execution_count": 4,
   "metadata": {},
   "outputs": [
    {
     "data": {
      "text/html": [
       "<div>\n",
       "<style scoped>\n",
       "    .dataframe tbody tr th:only-of-type {\n",
       "        vertical-align: middle;\n",
       "    }\n",
       "\n",
       "    .dataframe tbody tr th {\n",
       "        vertical-align: top;\n",
       "    }\n",
       "\n",
       "    .dataframe thead th {\n",
       "        text-align: right;\n",
       "    }\n",
       "</style>\n",
       "<table border=\"1\" class=\"dataframe\">\n",
       "  <thead>\n",
       "    <tr style=\"text-align: right;\">\n",
       "      <th>_field</th>\n",
       "      <th>bytes_rcvd</th>\n",
       "      <th>bytes_sent</th>\n",
       "      <th>packets_rcvd</th>\n",
       "      <th>packets_sent</th>\n",
       "    </tr>\n",
       "    <tr>\n",
       "      <th>_time</th>\n",
       "      <th></th>\n",
       "      <th></th>\n",
       "      <th></th>\n",
       "      <th></th>\n",
       "    </tr>\n",
       "  </thead>\n",
       "  <tbody>\n",
       "    <tr>\n",
       "      <th>2020-03-09 14:00:00</th>\n",
       "      <td>1.213634e+06</td>\n",
       "      <td>9.128479e+04</td>\n",
       "      <td>87.857143</td>\n",
       "      <td>95.428571</td>\n",
       "    </tr>\n",
       "    <tr>\n",
       "      <th>2020-03-09 15:00:00</th>\n",
       "      <td>1.896010e+07</td>\n",
       "      <td>2.348309e+06</td>\n",
       "      <td>2108.041420</td>\n",
       "      <td>2247.355030</td>\n",
       "    </tr>\n",
       "    <tr>\n",
       "      <th>2020-03-09 16:00:00</th>\n",
       "      <td>4.088054e+07</td>\n",
       "      <td>4.910421e+06</td>\n",
       "      <td>4920.000000</td>\n",
       "      <td>5266.000000</td>\n",
       "    </tr>\n",
       "  </tbody>\n",
       "</table>\n",
       "</div>"
      ],
      "text/plain": [
       "_field                 bytes_rcvd    bytes_sent  packets_rcvd  packets_sent\n",
       "_time                                                                      \n",
       "2020-03-09 14:00:00  1.213634e+06  9.128479e+04     87.857143     95.428571\n",
       "2020-03-09 15:00:00  1.896010e+07  2.348309e+06   2108.041420   2247.355030\n",
       "2020-03-09 16:00:00  4.088054e+07  4.910421e+06   4920.000000   5266.000000"
      ]
     },
     "metadata": {},
     "output_type": "display_data"
    }
   ],
   "source": [
    "display(df.loc['pc'].loc['192.168.10.14'].head(10))"
   ]
  },
  {
   "cell_type": "code",
   "execution_count": null,
   "metadata": {},
   "outputs": [],
   "source": []
  }
 ],
 "metadata": {
  "kernelspec": {
   "display_name": "Python 3",
   "language": "python",
   "name": "python3"
  },
  "language_info": {
   "codemirror_mode": {
    "name": "ipython",
    "version": 3
   },
   "file_extension": ".py",
   "mimetype": "text/x-python",
   "name": "python",
   "nbconvert_exporter": "python",
   "pygments_lexer": "ipython3",
   "version": "3.7.5"
  }
 },
 "nbformat": 4,
 "nbformat_minor": 4
}
